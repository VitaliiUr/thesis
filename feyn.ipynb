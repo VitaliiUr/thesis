{
 "cells": [
  {
   "cell_type": "code",
   "execution_count": 1,
   "metadata": {},
   "outputs": [],
   "source": [
    "from feynman import Diagram"
   ]
  },
  {
   "cell_type": "code",
   "execution_count": 5,
   "metadata": {},
   "outputs": [],
   "source": [
    "import matplotlib\n",
    "import matplotlib.pyplot as plt\n",
    "matplotlib.rcParams['mathtext.fontset'] = 'stix'\n",
    "matplotlib.rcParams['font.family'] = 'STIXGeneral'"
   ]
  },
  {
   "cell_type": "markdown",
   "metadata": {},
   "source": [
    "# constants"
   ]
  },
  {
   "cell_type": "code",
   "execution_count": 3,
   "metadata": {},
   "outputs": [],
   "source": [
    "lw = 5\n",
    "figsize=(2., 4.)\n",
    "margin=0.1\n",
    "vertexsize = 15\n",
    "vertexsize2 = 30\n",
    "svertexsize = 30\n",
    "elliptic_spread=0.3"
   ]
  },
  {
   "cell_type": "markdown",
   "metadata": {},
   "source": [
    "# LO "
   ]
  },
  {
   "cell_type": "code",
   "execution_count": 6,
   "metadata": {},
   "outputs": [
    {
     "data": {
      "image/png": "[encoded data removed]",
      "text/plain": [
       "<Figure size 144x288 with 1 Axes>"
      ]
     },
     "metadata": {},
     "output_type": "display_data"
    }
   ],
   "source": [
    "fig = matplotlib.pyplot.figure(figsize=figsize)\n",
    "ax = fig.add_axes([0, 0, 1, 1], frameon=False)\n",
    "\n",
    "diagram = Diagram(ax)\n",
    "in1 = diagram.vertex(xy=(margin, 1-margin), marker='')\n",
    "in2 = diagram.vertex(xy=(margin, margin), marker='')\n",
    "in3 = diagram.vertex(xy=(1-margin, 1-margin), marker='')\n",
    "in4 = diagram.vertex(xy=(1-margin, margin), marker='')\n",
    "v1 = diagram.vertex(xy=(.5, .5), markersize=vertexsize)\n",
    "\n",
    "q1 = diagram.line(in1, in4, color='black', lw=lw, arrow=False)\n",
    "q2 = diagram.line(in2, in3, color='black', lw=lw, arrow=False)\n",
    "\n",
    "\n",
    "diagram.plot()\n",
    "plt.savefig(\"./Diagrams/LO_1.png\", dpi=600)\n",
    "matplotlib.pyplot.show()\n"
   ]
  },
  {
   "cell_type": "code",
   "execution_count": 7,
   "metadata": {},
   "outputs": [
    {
     "data": {
      "image/png": "[encoded data removed]",
      "text/plain": [
       "<Figure size 144x288 with 1 Axes>"
      ]
     },
     "metadata": {},
     "output_type": "display_data"
    }
   ],
   "source": [
    "fig = matplotlib.pyplot.figure(figsize=figsize)\n",
    "ax = fig.add_axes([0, 0, 1, 1], frameon=False)\n",
    "\n",
    "diagram = Diagram(ax)\n",
    "in1 = diagram.vertex(xy=(margin, margin), marker='')\n",
    "in2 = diagram.vertex(xy=(margin, 1-margin), marker='')\n",
    "in3 = diagram.vertex(xy=(1-margin, margin), marker='')\n",
    "in4 = diagram.vertex(xy=(1-margin, 1-margin), marker='')\n",
    "v1 = diagram.vertex(xy=(0.1, .5), markersize=vertexsize)\n",
    "v2 = diagram.vertex(xy=(0.9, .5), markersize=vertexsize)\n",
    "\n",
    "q1 = diagram.line(in1, in2, color='black', lw=lw,\n",
    "                  arrow=False)\n",
    "q2 = diagram.line(in3, in4, color='black', lw=lw,\n",
    "                  arrow=False)\n",
    "q2 = diagram.line(v1, v2, color='black', lw=lw, ls=\"dashed\",\n",
    "                  arrow=False)\n",
    "\n",
    "\n",
    "diagram.plot()\n",
    "plt.savefig(\"./Diagrams/LO_2.png\", dpi=600)\n",
    "matplotlib.pyplot.show()\n"
   ]
  },
  {
   "cell_type": "markdown",
   "metadata": {},
   "source": [
    "# NLO"
   ]
  },
  {
   "cell_type": "code",
   "execution_count": 8,
   "metadata": {},
   "outputs": [
    {
     "data": {
      "image/png": "[encoded data removed]",
      "text/plain": [
       "<Figure size 144x288 with 1 Axes>"
      ]
     },
     "metadata": {},
     "output_type": "display_data"
    }
   ],
   "source": [
    "fig = matplotlib.pyplot.figure(figsize=figsize)\n",
    "ax = fig.add_axes([0, 0, 1, 1], frameon=False)\n",
    "\n",
    "diagram = Diagram(ax)\n",
    "in1 = diagram.vertex(xy=(margin, 1-margin), marker='')\n",
    "in2 = diagram.vertex(xy=(margin, margin), marker='')\n",
    "in3 = diagram.vertex(xy=(1-margin, 1-margin), marker='')\n",
    "in4 = diagram.vertex(xy=(1-margin, margin), marker='')\n",
    "v1 = diagram.vertex(xy=(.5, .5), markersize=svertexsize, marker=\"s\")\n",
    "\n",
    "q1 = diagram.line(in1, in4, color='black', lw=lw, arrow=False)\n",
    "q2 = diagram.line(in2, in3, color='black', lw=lw, arrow=False)\n",
    "\n",
    "\n",
    "diagram.plot()\n",
    "plt.savefig(\"./Diagrams/NLO_1.png\", dpi=600)\n",
    "matplotlib.pyplot.show()\n"
   ]
  },
  {
   "cell_type": "code",
   "execution_count": 9,
   "metadata": {},
   "outputs": [
    {
     "data": {
      "image/png": "[encoded data removed]",
      "text/plain": [
       "<Figure size 144x288 with 1 Axes>"
      ]
     },
     "metadata": {},
     "output_type": "display_data"
    }
   ],
   "source": [
    "fig = matplotlib.pyplot.figure(figsize=figsize)\n",
    "ax = fig.add_axes([0, 0, 1, 1], frameon=False)\n",
    "\n",
    "diagram = Diagram(ax)\n",
    "in1 = diagram.vertex(xy=(margin, margin), marker='')\n",
    "in2 = diagram.vertex(xy=(margin, 1-margin), marker='')\n",
    "in3 = diagram.vertex(xy=(1-margin, margin), marker='')\n",
    "in4 = diagram.vertex(xy=(1-margin, 1-margin), marker='')\n",
    "v1 = diagram.vertex(xy=(margin, .5), markersize=vertexsize)\n",
    "v2 = diagram.vertex(xy=(1-margin, .5), markersize=vertexsize)\n",
    "\n",
    "q1 = diagram.line(in1, in2, color='black', lw=lw,\n",
    "                  arrow=False)\n",
    "q2 = diagram.line(in3, in4, color='black', lw=lw,\n",
    "                  arrow=False)\n",
    "q2 = diagram.line(v1, v2, color='black', lw=lw, ls=\"dashed\",\n",
    "                  arrow=False, shape=\"elliptic\", ellipse_spread=elliptic_spread)\n",
    "q2 = diagram.line(v1, v2, color='black', lw=lw, ls=\"dashed\",\n",
    "                  arrow=False, shape=\"elliptic\", ellipse_spread=-elliptic_spread)\n",
    "# wz1 = diagram.line(v1, v2, style='wiggly', color='green', lw=lw)\n",
    "\n",
    "diagram.plot()\n",
    "plt.savefig(\"./Diagrams/NLO_2.png\", dpi=600)\n",
    "matplotlib.pyplot.show()\n"
   ]
  },
  {
   "cell_type": "code",
   "execution_count": 10,
   "metadata": {},
   "outputs": [
    {
     "data": {
      "image/png": "[encoded data removed]",
      "text/plain": [
       "<Figure size 144x288 with 1 Axes>"
      ]
     },
     "metadata": {},
     "output_type": "display_data"
    }
   ],
   "source": [
    "fig = matplotlib.pyplot.figure(figsize=figsize)\n",
    "ax = fig.add_axes([0, 0, 1, 1], frameon=False)\n",
    "\n",
    "diagram = Diagram(ax)\n",
    "in1 = diagram.vertex(xy=(margin, margin), marker='')\n",
    "in2 = diagram.vertex(xy=(margin, 1-margin), marker='')\n",
    "in3 = diagram.vertex(xy=(1-margin, margin), marker='')\n",
    "in4 = diagram.vertex(xy=(1-margin, 1-margin), marker='')\n",
    "v1 = diagram.vertex(xy=(margin, .5), markersize=vertexsize)\n",
    "v2 = diagram.vertex(xy=(1-margin, .3), markersize=vertexsize)\n",
    "v3 = diagram.vertex(xy=(1-margin, .7), markersize=vertexsize)\n",
    "\n",
    "q1 = diagram.line(in1, in2, color='black', lw=lw,\n",
    "                  arrow=False)\n",
    "q2 = diagram.line(in3, in4, color='black', lw=lw,\n",
    "                  arrow=False)\n",
    "q3 = diagram.line(v1, v2, color='black', lw=lw, ls=\"dashed\",\n",
    "                  arrow=False)\n",
    "q4 = diagram.line(v1, v3, color='black', lw=lw, ls=\"dashed\",\n",
    "                  arrow=False)\n",
    "# wz1 = diagram.line(v1, v2, style='wiggly', color='green', lw=lw)\n",
    "\n",
    "diagram.plot()\n",
    "plt.savefig(\"./Diagrams/NLO_3.png\", dpi=600)\n",
    "matplotlib.pyplot.show()"
   ]
  },
  {
   "cell_type": "code",
   "execution_count": 14,
   "metadata": {},
   "outputs": [
    {
     "data": {
      "image/png": "[encoded data removed]",
      "text/plain": [
       "<Figure size 144x288 with 1 Axes>"
      ]
     },
     "metadata": {},
     "output_type": "display_data"
    }
   ],
   "source": [
    "fig = matplotlib.pyplot.figure(figsize=figsize)\n",
    "ax = fig.add_axes([0, 0, 1, 1], frameon=False)\n",
    "\n",
    "diagram = Diagram(ax)\n",
    "in1 = diagram.vertex(xy=(margin, margin), marker='')\n",
    "in2 = diagram.vertex(xy=(margin, 1-margin), marker='')\n",
    "in3 = diagram.vertex(xy=(1-margin, margin), marker='')\n",
    "in4 = diagram.vertex(xy=(1-margin, 1-margin), marker='')\n",
    "v1 = diagram.vertex(xy=(1 - margin, .5), markersize=vertexsize)\n",
    "v2 = diagram.vertex(xy=(margin, .3), markersize=vertexsize)\n",
    "v3 = diagram.vertex(xy=(margin, .7), markersize=vertexsize)\n",
    "\n",
    "q1 = diagram.line(in1, in2, color='black', lw=lw,\n",
    "                  arrow=False)\n",
    "q2 = diagram.line(in3, in4, color='black', lw=lw,\n",
    "                  arrow=False)\n",
    "q3 = diagram.line(v1, v2, color='black', lw=lw, ls=\"dashed\",\n",
    "                  arrow=False)\n",
    "q4 = diagram.line(v1, v3, color='black', lw=lw, ls=\"dashed\",\n",
    "                  arrow=False)\n",
    "# wz1 = diagram.line(v1, v2, style='wiggly', color='green', lw=lw)\n",
    "\n",
    "diagram.plot()\n",
    "plt.savefig(\"./Diagrams/NLO_4.png\", dpi=600)\n",
    "\n",
    "matplotlib.pyplot.show()"
   ]
  },
  {
   "cell_type": "code",
   "execution_count": 13,
   "metadata": {},
   "outputs": [
    {
     "data": {
      "image/png": "[encoded data removed]",
      "text/plain": [
       "<Figure size 144x288 with 1 Axes>"
      ]
     },
     "metadata": {},
     "output_type": "display_data"
    }
   ],
   "source": [
    "fig = matplotlib.pyplot.figure(figsize=figsize)\n",
    "ax = fig.add_axes([0, 0, 1, 1], frameon=False)\n",
    "\n",
    "diagram = Diagram(ax)\n",
    "in1 = diagram.vertex(xy=(margin, margin), marker='')\n",
    "in2 = diagram.vertex(xy=(margin, 1-margin), marker='')\n",
    "in3 = diagram.vertex(xy=(1-margin, margin), marker='')\n",
    "in4 = diagram.vertex(xy=(1-margin, 1-margin), marker='')\n",
    "v1 = diagram.vertex(xy=(margin, .3), markersize=vertexsize)\n",
    "v2 = diagram.vertex(xy=(1-margin, .3), markersize=vertexsize)\n",
    "v3 = diagram.vertex(xy=(1-margin, .7), markersize=vertexsize)\n",
    "v4 = diagram.vertex(xy=(margin, .7), markersize=vertexsize)\n",
    "\n",
    "q1 = diagram.line(in1, in2, color='black', lw=lw,\n",
    "                  arrow=False)\n",
    "q2 = diagram.line(in3, in4, color='black', lw=lw,\n",
    "                  arrow=False)\n",
    "q3 = diagram.line(v1, v2, color='black', lw=lw, ls=\"dashed\",\n",
    "                  arrow=False)\n",
    "q4 = diagram.line(v4, v3, color='black', lw=lw, ls=\"dashed\",\n",
    "                  arrow=False)\n",
    "# wz1 = diagram.line(v1, v2, style='wiggly', color='green', lw=lw)\n",
    "\n",
    "diagram.plot()\n",
    "plt.savefig(\"./Diagrams/NLO_5.png\", dpi=600)\n",
    "\n",
    "matplotlib.pyplot.show()"
   ]
  },
  {
   "cell_type": "code",
   "execution_count": 15,
   "metadata": {},
   "outputs": [
    {
     "data": {
      "image/png": "[encoded data removed]",
      "text/plain": [
       "<Figure size 144x288 with 1 Axes>"
      ]
     },
     "metadata": {},
     "output_type": "display_data"
    }
   ],
   "source": [
    "fig = matplotlib.pyplot.figure(figsize=figsize)\n",
    "ax = fig.add_axes([0, 0, 1, 1], frameon=False)\n",
    "\n",
    "diagram = Diagram(ax)\n",
    "in1 = diagram.vertex(xy=(margin, margin), marker='')\n",
    "in2 = diagram.vertex(xy=(margin, 1-margin), marker='')\n",
    "in3 = diagram.vertex(xy=(1-margin, margin), marker='')\n",
    "in4 = diagram.vertex(xy=(1-margin, 1-margin), marker='')\n",
    "v1 = diagram.vertex(xy=(margin, .3), markersize=vertexsize)\n",
    "v2 = diagram.vertex(xy=(1-margin, .3), markersize=vertexsize)\n",
    "v3 = diagram.vertex(xy=(1-margin, .7), markersize=vertexsize)\n",
    "v4 = diagram.vertex(xy=(margin, .7), markersize=vertexsize)\n",
    "\n",
    "q1 = diagram.line(in1, in2, color='black', lw=lw,\n",
    "                  arrow=False)\n",
    "q2 = diagram.line(in3, in4, color='black', lw=lw,\n",
    "                  arrow=False)\n",
    "q3 = diagram.line(v1, v3, color='black', lw=lw, ls=\"dashed\",\n",
    "                  arrow=False)\n",
    "q4 = diagram.line(v4, v2, color='black', lw=lw, ls=\"dashed\",\n",
    "                  arrow=False)\n",
    "# wz1 = diagram.line(v1, v2, style='wiggly', color='green', lw=lw)\n",
    "\n",
    "diagram.plot()\n",
    "plt.savefig(\"./Diagrams/NLO_6.png\", dpi=600)\n",
    "matplotlib.pyplot.show()"
   ]
  },
  {
   "cell_type": "markdown",
   "metadata": {},
   "source": [
    "# N2LO"
   ]
  },
  {
   "cell_type": "markdown",
   "metadata": {},
   "source": [
    "## 2NF"
   ]
  },
  {
   "cell_type": "code",
   "execution_count": 16,
   "metadata": {},
   "outputs": [
    {
     "data": {
      "image/png": "[encoded data removed]",
      "text/plain": [
       "<Figure size 144x288 with 1 Axes>"
      ]
     },
     "metadata": {},
     "output_type": "display_data"
    }
   ],
   "source": [
    "fig = matplotlib.pyplot.figure(figsize=figsize)\n",
    "ax = fig.add_axes([0, 0, 1, 1], frameon=False)\n",
    "\n",
    "diagram = Diagram(ax)\n",
    "in1 = diagram.vertex(xy=(margin, margin), marker='')\n",
    "in2 = diagram.vertex(xy=(margin, 1-margin), marker='')\n",
    "in3 = diagram.vertex(xy=(1-margin, margin), marker='')\n",
    "in4 = diagram.vertex(xy=(1-margin, 1-margin), marker='')\n",
    "v1 = diagram.vertex(xy=(margin, .5), markersize=vertexsize2)\n",
    "v2 = diagram.vertex(xy=(1-margin, .5), markersize=vertexsize)\n",
    "\n",
    "q1 = diagram.line(in1, in2, color='black', lw=lw,\n",
    "                  arrow=False)\n",
    "q2 = diagram.line(in3, in4, color='black', lw=lw,\n",
    "                  arrow=False)\n",
    "q2 = diagram.line(v1, v2, color='black', lw=lw, ls=\"dashed\",\n",
    "                  arrow=False, shape=\"elliptic\", ellipse_spread=elliptic_spread)\n",
    "q2 = diagram.line(v1, v2, color='black', lw=lw, ls=\"dashed\",\n",
    "                  arrow=False, shape=\"elliptic\", ellipse_spread=-elliptic_spread)\n",
    "# wz1 = diagram.line(v1, v2, style='wiggly', color='green', lw=lw)\n",
    "\n",
    "diagram.plot()\n",
    "plt.savefig(\"./Diagrams/N2LO_2NF_1.png\", dpi=600)\n",
    "matplotlib.pyplot.show()\n"
   ]
  },
  {
   "cell_type": "code",
   "execution_count": 17,
   "metadata": {},
   "outputs": [
    {
     "data": {
      "image/png": "[encoded data removed]",
      "text/plain": [
       "<Figure size 144x288 with 1 Axes>"
      ]
     },
     "metadata": {},
     "output_type": "display_data"
    }
   ],
   "source": [
    "fig = matplotlib.pyplot.figure(figsize=figsize)\n",
    "ax = fig.add_axes([0, 0, 1, 1], frameon=False)\n",
    "\n",
    "diagram = Diagram(ax)\n",
    "in1 = diagram.vertex(xy=(margin, margin), marker='')\n",
    "in2 = diagram.vertex(xy=(margin, 1-margin), marker='')\n",
    "in3 = diagram.vertex(xy=(1-margin, margin), marker='')\n",
    "in4 = diagram.vertex(xy=(1-margin, 1-margin), marker='')\n",
    "v1 = diagram.vertex(xy=(margin, .5), markersize=vertexsize2)\n",
    "v2 = diagram.vertex(xy=(1-margin, .3), markersize=vertexsize)\n",
    "v3 = diagram.vertex(xy=(1-margin, .7), markersize=vertexsize)\n",
    "\n",
    "q1 = diagram.line(in1, in2, color='black', lw=lw,\n",
    "                  arrow=False)\n",
    "q2 = diagram.line(in3, in4, color='black', lw=lw,\n",
    "                  arrow=False)\n",
    "q3 = diagram.line(v1, v2, color='black', lw=lw, ls=\"dashed\",\n",
    "                  arrow=False)\n",
    "q4 = diagram.line(v1, v3, color='black', lw=lw, ls=\"dashed\",\n",
    "                  arrow=False)\n",
    "# wz1 = diagram.line(v1, v2, style='wiggly', color='green', lw=lw)\n",
    "\n",
    "diagram.plot()\n",
    "plt.savefig(\"./Diagrams/N2LO_2NF_2.png\", dpi=600)\n",
    "\n",
    "matplotlib.pyplot.show()"
   ]
  },
  {
   "cell_type": "markdown",
   "metadata": {},
   "source": [
    "## 3NF"
   ]
  },
  {
   "cell_type": "code",
   "execution_count": 18,
   "metadata": {},
   "outputs": [
    {
     "data": {
      "image/png": "[encoded data removed]",
      "text/plain": [
       "<Figure size 144x288 with 1 Axes>"
      ]
     },
     "metadata": {},
     "output_type": "display_data"
    }
   ],
   "source": [
    "fig = matplotlib.pyplot.figure(figsize=figsize)\n",
    "ax = fig.add_axes([0, 0, 1, 1], frameon=False)\n",
    "\n",
    "diagram = Diagram(ax)\n",
    "in1 = diagram.vertex(xy=(margin, margin), marker='')\n",
    "in2 = diagram.vertex(xy=(margin, 1-margin), marker='')\n",
    "in3 = diagram.vertex(xy=(1-margin, margin), marker='')\n",
    "in4 = diagram.vertex(xy=(1-margin, 1-margin), marker='')\n",
    "in5 = diagram.vertex(xy=(.5, margin), marker='')\n",
    "in6 = diagram.vertex(xy=(.5, 1-margin), marker='')\n",
    "v1 = diagram.vertex(xy=(0.1, .5), markersize=vertexsize)\n",
    "v2 = diagram.vertex(xy=(0.9, .5), markersize=vertexsize)\n",
    "v3 = diagram.vertex(xy=(.5, .5), markersize=vertexsize2)\n",
    "\n",
    "q1 = diagram.line(in1, in2, color='black', lw=lw,\n",
    "                  arrow=False)\n",
    "q2 = diagram.line(in3, in4, color='black', lw=lw,\n",
    "                  arrow=False)\n",
    "q3 = diagram.line(in5, in6, color='black', lw=lw,\n",
    "                  arrow=False)\n",
    "q2 = diagram.line(v1, v2, color='black', lw=lw, ls=\"dashed\",\n",
    "                  arrow=False)\n",
    "\n",
    "\n",
    "diagram.plot()\n",
    "plt.savefig(\"./Diagrams/N2LO_3NF_1.png\", dpi=600)\n",
    "\n",
    "matplotlib.pyplot.show()\n"
   ]
  },
  {
   "cell_type": "code",
   "execution_count": 19,
   "metadata": {},
   "outputs": [
    {
     "data": {
      "image/png": "[encoded data removed]",
      "text/plain": [
       "<Figure size 144x288 with 1 Axes>"
      ]
     },
     "metadata": {},
     "output_type": "display_data"
    }
   ],
   "source": [
    "fig = matplotlib.pyplot.figure(figsize=figsize)\n",
    "ax = fig.add_axes([0, 0, 1, 1], frameon=False)\n",
    "\n",
    "diagram = Diagram(ax)\n",
    "in1 = diagram.vertex(xy=(margin, margin), marker='')\n",
    "in2 = diagram.vertex(xy=(margin, 1-margin), marker='')\n",
    "in3 = diagram.vertex(xy=(1-margin, margin), marker='')\n",
    "in4 = diagram.vertex(xy=(1-margin, 1-margin), marker='')\n",
    "in5 = diagram.vertex(xy=(.5, margin), marker='')\n",
    "in6 = diagram.vertex(xy=(.5, 1-margin), marker='')\n",
    "v1 = diagram.vertex(xy=(0.1, .5), markersize=vertexsize)\n",
    "v2 = diagram.vertex(xy=(1 - (margin + .5)/2, .5), markersize=vertexsize2)\n",
    "\n",
    "q1 = diagram.line(in1, in2, color='black', lw=lw,\n",
    "                  arrow=False)\n",
    "q2 = diagram.line(in3, in6, color='black', lw=lw,\n",
    "                  arrow=False)\n",
    "q3 = diagram.line(in4, in5, color='black', lw=lw,\n",
    "                  arrow=False)\n",
    "q2 = diagram.line(v1, v2, color='black', lw=lw, ls=\"dashed\",\n",
    "                  arrow=False)\n",
    "\n",
    "\n",
    "diagram.plot()\n",
    "plt.savefig(\"./Diagrams/N2LO_3NF_2.png\", dpi=600)\n",
    "\n",
    "matplotlib.pyplot.show()\n"
   ]
  },
  {
   "cell_type": "code",
   "execution_count": 20,
   "metadata": {},
   "outputs": [
    {
     "data": {
      "image/png": "[encoded data removed]",
      "text/plain": [
       "<Figure size 144x288 with 1 Axes>"
      ]
     },
     "metadata": {},
     "output_type": "display_data"
    }
   ],
   "source": [
    "fig = matplotlib.pyplot.figure(figsize=figsize)\n",
    "ax = fig.add_axes([0, 0, 1, 1], frameon=False)\n",
    "\n",
    "diagram = Diagram(ax)\n",
    "in1 = diagram.vertex(xy=(margin, margin), marker='')\n",
    "in2 = diagram.vertex(xy=(margin, 1-margin), marker='')\n",
    "in3 = diagram.vertex(xy=(1-margin, margin), marker='')\n",
    "in4 = diagram.vertex(xy=(1-margin, 1-margin), marker='')\n",
    "in5 = diagram.vertex(xy=(.5, margin), marker='')\n",
    "in6 = diagram.vertex(xy=(.5, 1-margin), marker='')\n",
    "v3 = diagram.vertex(xy=(.5, .5), markersize=vertexsize2)\n",
    "\n",
    "q1 = diagram.line(in1, in4, color='black', lw=lw,\n",
    "                  arrow=False)\n",
    "q2 = diagram.line(in3, in2, color='black', lw=lw,\n",
    "                  arrow=False)\n",
    "q3 = diagram.line(in5, in6, color='black', lw=lw,\n",
    "                  arrow=False)\n",
    "\n",
    "\n",
    "diagram.plot()\n",
    "plt.savefig(\"./Diagrams/N2LO_3NF_3.png\", dpi=600)\n",
    "\n",
    "matplotlib.pyplot.show()\n"
   ]
  },
  {
   "cell_type": "markdown",
   "metadata": {},
   "source": [
    "# N3LO"
   ]
  },
  {
   "cell_type": "markdown",
   "metadata": {},
   "source": [
    "## 2NF"
   ]
  },
  {
   "cell_type": "code",
   "execution_count": 22,
   "metadata": {},
   "outputs": [
    {
     "data": {
      "image/png": "[encoded data removed]",
      "text/plain": [
       "<Figure size 144x288 with 1 Axes>"
      ]
     },
     "metadata": {},
     "output_type": "display_data"
    }
   ],
   "source": [
    "fig = matplotlib.pyplot.figure(figsize=figsize)\n",
    "ax = fig.add_axes([0, 0, 1, 1], frameon=False)\n",
    "\n",
    "diagram = Diagram(ax)\n",
    "in1 = diagram.vertex(xy=(margin, 1-margin), marker='')\n",
    "in2 = diagram.vertex(xy=(margin, margin), marker='')\n",
    "in3 = diagram.vertex(xy=(1-margin, 1-margin), marker='')\n",
    "in4 = diagram.vertex(xy=(1-margin, margin), marker='')\n",
    "v1 = diagram.vertex(xy=(.5, .5), markersize=svertexsize, marker=\"D\")\n",
    "\n",
    "q1 = diagram.line(in1, in4, color='black', lw=lw, arrow=False)\n",
    "q2 = diagram.line(in2, in3, color='black', lw=lw, arrow=False)\n",
    "\n",
    "\n",
    "diagram.plot()\n",
    "plt.savefig(\"./Diagrams/N3LO_2NF_1.png\", dpi=600)\n",
    "matplotlib.pyplot.show()\n"
   ]
  },
  {
   "cell_type": "code",
   "execution_count": 23,
   "metadata": {},
   "outputs": [
    {
     "data": {
      "image/png": "[encoded data removed]",
      "text/plain": [
       "<Figure size 144x288 with 1 Axes>"
      ]
     },
     "metadata": {},
     "output_type": "display_data"
    }
   ],
   "source": [
    "fig = matplotlib.pyplot.figure(figsize=figsize)\n",
    "ax = fig.add_axes([0, 0, 1, 1], frameon=False)\n",
    "\n",
    "diagram = Diagram(ax)\n",
    "in1 = diagram.vertex(xy=(margin, margin), marker='')\n",
    "in2 = diagram.vertex(xy=(margin, 1-margin), marker='')\n",
    "in3 = diagram.vertex(xy=(1-margin, margin), marker='')\n",
    "in4 = diagram.vertex(xy=(1-margin, 1-margin), marker='')\n",
    "v1 = diagram.vertex(xy=(margin, .5), markersize=vertexsize2)\n",
    "v2 = diagram.vertex(xy=(1-margin, .5), markersize=vertexsize2)\n",
    "\n",
    "q1 = diagram.line(in1, in2, color='black', lw=lw,\n",
    "                  arrow=False)\n",
    "q2 = diagram.line(in3, in4, color='black', lw=lw,\n",
    "                  arrow=False)\n",
    "q2 = diagram.line(v1, v2, color='black', lw=lw, ls=\"dashed\",\n",
    "                  arrow=False, shape=\"elliptic\", ellipse_spread=elliptic_spread)\n",
    "q2 = diagram.line(v1, v2, color='black', lw=lw, ls=\"dashed\",\n",
    "                  arrow=False, shape=\"elliptic\", ellipse_spread=-elliptic_spread)\n",
    "# wz1 = diagram.line(v1, v2, style='wiggly', color='green', lw=lw)\n",
    "\n",
    "diagram.plot()\n",
    "plt.savefig(\"./Diagrams/N3LO_2NF_2.png\", dpi=600)\n",
    "\n",
    "matplotlib.pyplot.show()\n"
   ]
  },
  {
   "cell_type": "code",
   "execution_count": 24,
   "metadata": {},
   "outputs": [
    {
     "data": {
      "image/png": "[encoded data removed]",
      "text/plain": [
       "<Figure size 144x288 with 1 Axes>"
      ]
     },
     "metadata": {},
     "output_type": "display_data"
    }
   ],
   "source": [
    "fig = matplotlib.pyplot.figure(figsize=figsize)\n",
    "ax = fig.add_axes([0, 0, 1, 1], frameon=False)\n",
    "\n",
    "diagram = Diagram(ax)\n",
    "in1 = diagram.vertex(xy=(margin, margin), marker='')\n",
    "in2 = diagram.vertex(xy=(margin, 1-margin), marker='')\n",
    "in3 = diagram.vertex(xy=(1-margin, margin), marker='')\n",
    "in4 = diagram.vertex(xy=(1-margin, 1-margin), marker='')\n",
    "v1 = diagram.vertex(xy=(margin, .3), markersize=vertexsize)\n",
    "v4 = diagram.vertex(xy=(margin, .7), markersize=vertexsize)\n",
    "v2 = diagram.vertex(xy=(1-margin, .3), markersize=vertexsize)\n",
    "v3 = diagram.vertex(xy=(1-margin, .7), markersize=vertexsize)\n",
    "v5 = diagram.vertex(xy=(.5, .5), markersize=vertexsize)\n",
    "\n",
    "q1 = diagram.line(in1, in2, color='black', lw=lw,\n",
    "                  arrow=False)\n",
    "q2 = diagram.line(in3, in4, color='black', lw=lw,\n",
    "                  arrow=False)\n",
    "q3 = diagram.line(v3, v1, color='black', lw=lw, ls=\"dashed\",\n",
    "                  arrow=False, style=\"wiggly\", nwiggles=1, phase=0.5, amplitude=0.08)\n",
    "q4 = diagram.line(v2, v4, color='black', lw=lw, ls=\"dashed\",\n",
    "                  arrow=False, style=\"wiggly\", nwiggles=1, phase=0, amplitude=0.08)\n",
    "# wz1 = diagram.line(v1, v2, style='wiggly', color='green', lw=lw)\n",
    "\n",
    "diagram.plot()\n",
    "plt.savefig(\"./Diagrams/N3LO_2NF_3.png\", dpi=600)\n",
    "\n",
    "matplotlib.pyplot.show()"
   ]
  },
  {
   "cell_type": "code",
   "execution_count": 25,
   "metadata": {},
   "outputs": [
    {
     "data": {
      "image/png": "[encoded data removed]",
      "text/plain": [
       "<Figure size 144x288 with 1 Axes>"
      ]
     },
     "metadata": {},
     "output_type": "display_data"
    }
   ],
   "source": [
    "fig = matplotlib.pyplot.figure(figsize=figsize)\n",
    "ax = fig.add_axes([0, 0, 1, 1], frameon=False)\n",
    "\n",
    "diagram = Diagram(ax)\n",
    "in1 = diagram.vertex(xy=(margin, margin), marker='')\n",
    "in2 = diagram.vertex(xy=(margin, 1-margin), marker='')\n",
    "in3 = diagram.vertex(xy=(1-margin, margin), marker='')\n",
    "in4 = diagram.vertex(xy=(1-margin, 1-margin), marker='')\n",
    "v1 = diagram.vertex(xy=(margin, .5), markersize=svertexsize, marker=\"s\")\n",
    "v2 = diagram.vertex(xy=(1-margin, .3), markersize=vertexsize)\n",
    "v3 = diagram.vertex(xy=(1-margin, .7), markersize=vertexsize)\n",
    "\n",
    "q1 = diagram.line(in1, in2, color='black', lw=lw,\n",
    "                  arrow=False)\n",
    "q2 = diagram.line(in3, in4, color='black', lw=lw,\n",
    "                  arrow=False)\n",
    "q3 = diagram.line(v1, v2, color='black', lw=lw, ls=\"dashed\",\n",
    "                  arrow=False)\n",
    "q4 = diagram.line(v1, v3, color='black', lw=lw, ls=\"dashed\",\n",
    "                  arrow=False)\n",
    "# wz1 = diagram.line(v1, v2, style='wiggly', color='green', lw=lw)\n",
    "\n",
    "diagram.plot()\n",
    "plt.savefig(\"./Diagrams/N3LO_2NF_4.png\", dpi=600)\n",
    "\n",
    "matplotlib.pyplot.show()"
   ]
  },
  {
   "cell_type": "markdown",
   "metadata": {},
   "source": [
    "## 3NF"
   ]
  },
  {
   "cell_type": "code",
   "execution_count": 37,
   "metadata": {},
   "outputs": [
    {
     "data": {
      "image/png": "[encoded data removed]",
      "text/plain": [
       "<Figure size 144x288 with 1 Axes>"
      ]
     },
     "metadata": {},
     "output_type": "display_data"
    }
   ],
   "source": [
    "fig = matplotlib.pyplot.figure(figsize=figsize)\n",
    "ax = fig.add_axes([0, 0, 1, 1], frameon=False)\n",
    "\n",
    "diagram = Diagram(ax)\n",
    "in1 = diagram.vertex(xy=(margin, margin), marker='')\n",
    "in2 = diagram.vertex(xy=(margin, 1-margin), marker='')\n",
    "in3 = diagram.vertex(xy=(1-margin, margin), marker='')\n",
    "in4 = diagram.vertex(xy=(1-margin, 1-margin), marker='')\n",
    "in5 = diagram.vertex(xy=(.5, margin), marker='')\n",
    "in6 = diagram.vertex(xy=(.5, 1-margin), marker='')\n",
    "v1 = diagram.vertex(xy=(margin, .5), markersize=vertexsize)\n",
    "v2 = diagram.vertex(xy=(1-margin, .5), markersize=vertexsize)\n",
    "v3 = diagram.vertex(xy=(.5, .5), markersize=vertexsize)\n",
    "v4 = diagram.vertex(xy=(.5, .75), markersize=vertexsize)\n",
    "\n",
    "q1 = diagram.line(in1, in2, color='black', lw=lw,\n",
    "                  arrow=False)\n",
    "q2 = diagram.line(in3, in4, color='black', lw=lw,\n",
    "                  arrow=False)\n",
    "q3 = diagram.line(in5, in6, color='black', lw=lw,\n",
    "                  arrow=False)\n",
    "q2 = diagram.line(v1, v2, color='black', lw=lw, ls=\"dashed\",\n",
    "                  arrow=False)\n",
    "q4 = diagram.line(v3, v4, color='black', lw=lw, ls=\"dashed\",\n",
    "                  arrow=False, shape=\"elliptic\", ellipse_spread=-2*elliptic_spread)\n",
    "\n",
    "diagram.plot()\n",
    "plt.savefig(\"./Diagrams/N3LO_3NF_1.png\", dpi=600)\n",
    "\n",
    "matplotlib.pyplot.show()\n"
   ]
  },
  {
   "cell_type": "code",
   "execution_count": 27,
   "metadata": {},
   "outputs": [
    {
     "data": {
      "image/png": "[encoded data removed]",
      "text/plain": [
       "<Figure size 144x288 with 1 Axes>"
      ]
     },
     "metadata": {},
     "output_type": "display_data"
    }
   ],
   "source": [
    "fig = matplotlib.pyplot.figure(figsize=figsize)\n",
    "ax = fig.add_axes([0, 0, 1, 1], frameon=False)\n",
    "\n",
    "diagram = Diagram(ax)\n",
    "in1 = diagram.vertex(xy=(margin, margin), marker='')\n",
    "in2 = diagram.vertex(xy=(margin, 1-margin), marker='')\n",
    "in3 = diagram.vertex(xy=(1-margin, margin), marker='')\n",
    "in4 = diagram.vertex(xy=(1-margin, 1-margin), marker='')\n",
    "in5 = diagram.vertex(xy=(.5, margin), marker='')\n",
    "in6 = diagram.vertex(xy=(.5, 1-margin), marker='')\n",
    "v1 = diagram.vertex(xy=(margin, .5), markersize=vertexsize)\n",
    "v2 = diagram.vertex(xy=(.5, .75), markersize=vertexsize)\n",
    "v3 = diagram.vertex(xy=(.5, .25), markersize=vertexsize)\n",
    "v4 = diagram.vertex(xy=(.5, .5), markersize=vertexsize)\n",
    "v5 = diagram.vertex(xy=(1-margin, .5), markersize=vertexsize)\n",
    "\n",
    "\n",
    "q1 = diagram.line(in1, in2, color='black', lw=lw,\n",
    "                  arrow=False)\n",
    "q2 = diagram.line(in3, in4, color='black', lw=lw,\n",
    "                  arrow=False)\n",
    "q3 = diagram.line(in5, in6, color='black', lw=lw,\n",
    "                  arrow=False)\n",
    "r1 = diagram.line(v1, v2, color='black', lw=lw, ls=\"dashed\",\n",
    "                  arrow=False)\n",
    "r2 = diagram.line(v1, v3, color='black', lw=lw, ls=\"dashed\",\n",
    "                  arrow=False)\n",
    "r3 = diagram.line(v4, v5, color='black', lw=lw, ls=\"dashed\",\n",
    "                  arrow=False)\n",
    "\n",
    "\n",
    "diagram.plot()\n",
    "plt.savefig(\"./Diagrams/N3LO_3NF_2.png\", dpi=600)\n",
    "\n",
    "matplotlib.pyplot.show()\n"
   ]
  },
  {
   "cell_type": "code",
   "execution_count": 28,
   "metadata": {},
   "outputs": [
    {
     "data": {
      "image/png": "[encoded data removed]",
      "text/plain": [
       "<Figure size 144x288 with 1 Axes>"
      ]
     },
     "metadata": {},
     "output_type": "display_data"
    }
   ],
   "source": [
    "fig = matplotlib.pyplot.figure(figsize=figsize)\n",
    "ax = fig.add_axes([0, 0, 1, 1], frameon=False)\n",
    "\n",
    "diagram = Diagram(ax)\n",
    "in1 = diagram.vertex(xy=(margin, margin), marker='')\n",
    "in2 = diagram.vertex(xy=(margin, 1-margin), marker='')\n",
    "in3 = diagram.vertex(xy=(1-margin, margin), marker='')\n",
    "in4 = diagram.vertex(xy=(1-margin, 1-margin), marker='')\n",
    "in5 = diagram.vertex(xy=(.5, margin), marker='')\n",
    "in6 = diagram.vertex(xy=(.5, 1-margin), marker='')\n",
    "\n",
    "v1 = diagram.vertex(xy=(margin, .75), markersize=vertexsize)\n",
    "v2 = diagram.vertex(xy=(margin, .25), markersize=vertexsize)\n",
    "v3 = diagram.vertex(xy=(.5, .5), markersize=vertexsize)\n",
    "v4 = diagram.vertex(xy=(1-margin, .25), markersize=vertexsize)\n",
    "v5 = diagram.vertex(xy=(1-margin, .5), markersize=vertexsize)\n",
    "\n",
    "\n",
    "q1 = diagram.line(in1, in2, color='black', lw=lw,\n",
    "                  arrow=False)\n",
    "q2 = diagram.line(in3, in4, color='black', lw=lw,\n",
    "                  arrow=False)\n",
    "q3 = diagram.line(in5, in6, color='black', lw=lw,\n",
    "                  arrow=False)\n",
    "r1 = diagram.line(v1, v4, color='black', lw=lw, ls=\"dashed\",\n",
    "                  arrow=False)\n",
    "r2 = diagram.line(v2, v5, color='black', lw=lw, ls=\"dashed\",\n",
    "                  arrow=False)\n",
    "\n",
    "\n",
    "diagram.plot()\n",
    "plt.savefig(\"./Diagrams/N3LO_3NF_3.png\", dpi=600)\n",
    "\n",
    "matplotlib.pyplot.show()\n"
   ]
  },
  {
   "cell_type": "markdown",
   "metadata": {},
   "source": [
    "## 4NF"
   ]
  },
  {
   "cell_type": "code",
   "execution_count": 29,
   "metadata": {},
   "outputs": [
    {
     "data": {
      "image/png": "[encoded data removed]",
      "text/plain": [
       "<Figure size 288x288 with 1 Axes>"
      ]
     },
     "metadata": {},
     "output_type": "display_data"
    }
   ],
   "source": [
    "fig = matplotlib.pyplot.figure(figsize=(2*figsize[0], figsize[1]))\n",
    "ax = fig.add_axes([0, 0, 1, 1], frameon=False)\n",
    "\n",
    "diagram = Diagram(ax)\n",
    "in1 = diagram.vertex(xy=(margin, margin), marker='')\n",
    "in2 = diagram.vertex(xy=(margin, 1-margin), marker='')\n",
    "in3 = diagram.vertex(xy=(1-margin, margin), marker='')\n",
    "in4 = diagram.vertex(xy=(1-margin, 1-margin), marker='')\n",
    "in5 = diagram.vertex(xy=(.35, margin), marker='')\n",
    "in6 = diagram.vertex(xy=(.35, 1-margin), marker='')\n",
    "in7 = diagram.vertex(xy=(.65, margin), marker='')\n",
    "in8 = diagram.vertex(xy=(.65, 1-margin), marker='')\n",
    "\n",
    "v1 = diagram.vertex(xy=(margin, .8), markersize=vertexsize)\n",
    "v2 = diagram.vertex(xy=(1-margin, .8), markersize=vertexsize)\n",
    "v3 = diagram.vertex(xy=(.5, .8), markersize=vertexsize)\n",
    "v4 = diagram.vertex(xy=(.35, .3), markersize=vertexsize)\n",
    "v5 = diagram.vertex(xy=(.65, .3), markersize=vertexsize)\n",
    "\n",
    "\n",
    "q1 = diagram.line(in1, in2, color='black', lw=lw,\n",
    "                  arrow=False)\n",
    "q2 = diagram.line(in3, in4, color='black', lw=lw,\n",
    "                  arrow=False)\n",
    "q3 = diagram.line(in5, in6, color='black', lw=lw,\n",
    "                  arrow=False)\n",
    "q3 = diagram.line(in7, in8, color='black', lw=lw,\n",
    "                  arrow=False)\n",
    "r1 = diagram.line(v1, v2, color='black', lw=lw, ls=\"dashed\",\n",
    "                  arrow=False)\n",
    "r2 = diagram.line(v4, v3, color='black', lw=lw, ls=\"dashed\",\n",
    "                  arrow=False)\n",
    "r2 = diagram.line(v5, v3, color='black', lw=lw, ls=\"dashed\",\n",
    "                  arrow=False)\n",
    "\n",
    "\n",
    "diagram.plot()\n",
    "plt.savefig(\"./Diagrams/N3LO_4NF_1.png\", dpi=600)\n",
    "\n",
    "matplotlib.pyplot.show()\n"
   ]
  },
  {
   "cell_type": "markdown",
   "metadata": {},
   "source": [
    "# N4LO"
   ]
  },
  {
   "cell_type": "markdown",
   "metadata": {},
   "source": [
    "## 2NF"
   ]
  },
  {
   "cell_type": "code",
   "execution_count": 30,
   "metadata": {},
   "outputs": [
    {
     "data": {
      "image/png": "[encoded data removed]",
      "text/plain": [
       "<Figure size 144x288 with 1 Axes>"
      ]
     },
     "metadata": {},
     "output_type": "display_data"
    }
   ],
   "source": [
    "fig = matplotlib.pyplot.figure(figsize=figsize)\n",
    "ax = fig.add_axes([0, 0, 1, 1], frameon=False)\n",
    "\n",
    "diagram = Diagram(ax)\n",
    "in1 = diagram.vertex(xy=(margin, margin), marker='')\n",
    "in2 = diagram.vertex(xy=(margin, 1-margin), marker='')\n",
    "in3 = diagram.vertex(xy=(1-margin, margin), marker='')\n",
    "in4 = diagram.vertex(xy=(1-margin, 1-margin), marker='')\n",
    "v1 = diagram.vertex(xy=(margin, .3), markersize=vertexsize)\n",
    "v4 = diagram.vertex(xy=(margin, .7), markersize=vertexsize)\n",
    "v2 = diagram.vertex(xy=(1-margin, .5), markersize=vertexsize2)\n",
    "v5 = diagram.vertex(xy=(.5, .5), markersize=vertexsize)\n",
    "\n",
    "q1 = diagram.line(in1, in2, color='black', lw=lw,\n",
    "                  arrow=False)\n",
    "q2 = diagram.line(in3, in4, color='black', lw=lw,\n",
    "                  arrow=False)\n",
    "q3 = diagram.line(v5, v1, color='black', lw=lw, ls=\"dashed\",\n",
    "                  arrow=False, shape=\"elliptic\", ellipse_spread=elliptic_spread)\n",
    "q4 = diagram.line(v5, v4, color='black', lw=lw, ls=\"dashed\",\n",
    "                  arrow=False, shape=\"elliptic\", ellipse_spread=-elliptic_spread)\n",
    "q3 = diagram.line(v5, v2, color='black', lw=lw, ls=\"dashed\",\n",
    "                  arrow=False, shape=\"elliptic\", ellipse_spread=elliptic_spread)\n",
    "q4 = diagram.line(v5, v2, color='black', lw=lw, ls=\"dashed\",\n",
    "                  arrow=False, shape=\"elliptic\", ellipse_spread=-elliptic_spread)\n",
    "# wz1 = diagram.line(v1, v2, style='wiggly', color='green', lw=lw)\n",
    "\n",
    "diagram.plot()\n",
    "plt.savefig(\"./Diagrams/N4LO_2NF_1.png\", dpi=600)\n",
    "\n",
    "matplotlib.pyplot.show()\n"
   ]
  },
  {
   "cell_type": "code",
   "execution_count": 31,
   "metadata": {},
   "outputs": [
    {
     "data": {
      "image/png": "[encoded data removed]",
      "text/plain": [
       "<Figure size 144x288 with 1 Axes>"
      ]
     },
     "metadata": {},
     "output_type": "display_data"
    }
   ],
   "source": [
    "fig = matplotlib.pyplot.figure(figsize=figsize)\n",
    "ax = fig.add_axes([0, 0, 1, 1], frameon=False)\n",
    "\n",
    "marginr = 3*margin\n",
    "diagram = Diagram(ax)\n",
    "in1 = diagram.vertex(xy=(margin, margin), marker='')\n",
    "in2 = diagram.vertex(xy=(margin, 1-margin), marker='')\n",
    "in3 = diagram.vertex(xy=(1-marginr, margin), marker='')\n",
    "in4 = diagram.vertex(xy=(1-marginr, 1-margin), marker='')\n",
    "v1 = diagram.vertex(xy=(margin, .3), markersize=vertexsize)\n",
    "v4 = diagram.vertex(xy=(margin, .7), markersize=vertexsize)\n",
    "v2 = diagram.vertex(xy=(1-marginr, .5), markersize=vertexsize2)\n",
    "\n",
    "vr1 = diagram.vertex(xy=(1-marginr, .7), markersize=vertexsize)\n",
    "vr2 = diagram.vertex(xy=(1-marginr, .3), markersize=vertexsize)\n",
    "\n",
    "q1 = diagram.line(in1, in2, color='black', lw=lw,\n",
    "                  arrow=False)\n",
    "q2 = diagram.line(in3, in4, color='black', lw=lw,\n",
    "                  arrow=False)\n",
    "# q3 = diagram.line(v5, v1, color='black', lw=lw, ls=\"dashed\",\n",
    "#                   arrow=False, shape=\"elliptic\", ellipse_spread=elliptic_spread)\n",
    "# q4 = diagram.line(v5, v4, color='black', lw=lw, ls=\"dashed\",\n",
    "#                   arrow=False, shape=\"elliptic\", ellipse_spread=-elliptic_spread)\n",
    "# q3 = diagram.line(v5, v2, color='black', lw=lw, ls=\"dashed\",\n",
    "#                   arrow=False, shape=\"elliptic\", ellipse_spread=elliptic_spread)\n",
    "# q4 = diagram.line(v5, v2, color='black', lw=lw, ls=\"dashed\",\n",
    "#                   arrow=False, shape=\"elliptic\", ellipse_spread=-elliptic_spread)\n",
    "# wz1 = diagram.line(v1, v2, style='wiggly', color='green', lw=lw)\n",
    "r2 = diagram.line(v1, v2, color='black', lw=lw, ls=\"dashed\",\n",
    "                  arrow=False)\n",
    "r2 = diagram.line(v4, v2, color='black', lw=lw, ls=\"dashed\",\n",
    "                  arrow=False)\n",
    "q4 = diagram.line(vr1, vr2, color='black', lw=lw, ls=\"dashed\",\n",
    "                  arrow=False, shape=\"elliptic\", ellipse_spread=2*elliptic_spread)\n",
    "\n",
    "diagram.plot()\n",
    "plt.savefig(\"./Diagrams/N4LO_2NF_2.png\", dpi=600)\n",
    "\n",
    "matplotlib.pyplot.show()\n"
   ]
  },
  {
   "cell_type": "markdown",
   "metadata": {},
   "source": [
    "## 3NF"
   ]
  },
  {
   "cell_type": "code",
   "execution_count": 42,
   "metadata": {},
   "outputs": [
    {
     "data": {
      "image/png": "[encoded data removed]",
      "text/plain": [
       "<Figure size 144x288 with 1 Axes>"
      ]
     },
     "metadata": {},
     "output_type": "display_data"
    }
   ],
   "source": [
    "fig = matplotlib.pyplot.figure(figsize=figsize)\n",
    "ax = fig.add_axes([0, 0, 1, 1], frameon=False)\n",
    "\n",
    "diagram = Diagram(ax)\n",
    "in1 = diagram.vertex(xy=(margin, margin), marker='')\n",
    "in2 = diagram.vertex(xy=(margin, 1-margin), marker='')\n",
    "in3 = diagram.vertex(xy=(1-margin, margin), marker='')\n",
    "in4 = diagram.vertex(xy=(1-margin, 1-margin), marker='')\n",
    "in5 = diagram.vertex(xy=(.5, margin), marker='')\n",
    "in6 = diagram.vertex(xy=(.5, 1-margin), marker='')\n",
    "v1 = diagram.vertex(xy=(margin, .5), markersize=vertexsize)\n",
    "v2 = diagram.vertex(xy=(1-margin, .5), markersize=vertexsize)\n",
    "v3 = diagram.vertex(xy=(.5, .5), markersize=vertexsize2)\n",
    "v4 = diagram.vertex(xy=(.5, .7), markersize=vertexsize)\n",
    "v5 = diagram.vertex(xy=(.5, .3), markersize=vertexsize)\n",
    "\n",
    "q1 = diagram.line(in1, in2, color='black', lw=lw,\n",
    "                  arrow=False)\n",
    "q2 = diagram.line(in3, in4, color='black', lw=lw,\n",
    "                  arrow=False)\n",
    "q3 = diagram.line(in5, in6, color='black', lw=lw,\n",
    "                  arrow=False)\n",
    "q2 = diagram.line(v1, v2, color='black', lw=lw, ls=\"dashed\",\n",
    "                  arrow=False)\n",
    "q4 = diagram.line(v5, v4, color='black', lw=lw, ls=\"dashed\",\n",
    "                  arrow=False, shape=\"elliptic\", ellipse_spread=-2*elliptic_spread)\n",
    "\n",
    "diagram.plot()\n",
    "plt.savefig(\"./Diagrams/N4LO_3NF_1.png\", dpi=600)\n",
    "\n",
    "matplotlib.pyplot.show()\n"
   ]
  },
  {
   "cell_type": "code",
   "execution_count": 44,
   "metadata": {},
   "outputs": [
    {
     "data": {
      "image/png": "[encoded data removed]",
      "text/plain": [
       "<Figure size 144x288 with 1 Axes>"
      ]
     },
     "metadata": {},
     "output_type": "display_data"
    }
   ],
   "source": [
    "fig = matplotlib.pyplot.figure(figsize=figsize)\n",
    "ax = fig.add_axes([0, 0, 1, 1], frameon=False)\n",
    "\n",
    "diagram = Diagram(ax)\n",
    "in1 = diagram.vertex(xy=(margin, margin), marker='')\n",
    "in2 = diagram.vertex(xy=(margin, 1-margin), marker='')\n",
    "in3 = diagram.vertex(xy=(1-margin, margin), marker='')\n",
    "in4 = diagram.vertex(xy=(1-margin, 1-margin), marker='')\n",
    "in5 = diagram.vertex(xy=(.5, margin), marker='')\n",
    "in6 = diagram.vertex(xy=(.5, 1-margin), marker='')\n",
    "v1 = diagram.vertex(xy=(margin, .5), markersize=vertexsize2)\n",
    "v2 = diagram.vertex(xy=(.5, .75), markersize=vertexsize)\n",
    "v3 = diagram.vertex(xy=(.5, .25), markersize=vertexsize)\n",
    "v4 = diagram.vertex(xy=(.5, .5), markersize=vertexsize)\n",
    "v5 = diagram.vertex(xy=(1-margin, .5), markersize=vertexsize)\n",
    "\n",
    "\n",
    "q1 = diagram.line(in1, in2, color='black', lw=lw,\n",
    "                  arrow=False)\n",
    "q2 = diagram.line(in3, in4, color='black', lw=lw,\n",
    "                  arrow=False)\n",
    "q3 = diagram.line(in5, in6, color='black', lw=lw,\n",
    "                  arrow=False)\n",
    "r1 = diagram.line(v1, v2, color='black', lw=lw, ls=\"dashed\",\n",
    "                  arrow=False)\n",
    "r2 = diagram.line(v1, v3, color='black', lw=lw, ls=\"dashed\",\n",
    "                  arrow=False)\n",
    "r3 = diagram.line(v4, v5, color='black', lw=lw, ls=\"dashed\",\n",
    "                  arrow=False)\n",
    "\n",
    "\n",
    "diagram.plot()\n",
    "plt.savefig(\"./Diagrams/N4LO_3NF_2.png\", dpi=600)\n",
    "\n",
    "matplotlib.pyplot.show()\n"
   ]
  },
  {
   "cell_type": "code",
   "execution_count": 46,
   "metadata": {},
   "outputs": [
    {
     "data": {
      "image/png": "[encoded data removed]",
      "text/plain": [
       "<Figure size 144x288 with 1 Axes>"
      ]
     },
     "metadata": {},
     "output_type": "display_data"
    }
   ],
   "source": [
    "fig = matplotlib.pyplot.figure(figsize=figsize)\n",
    "ax = fig.add_axes([0, 0, 1, 1], frameon=False)\n",
    "\n",
    "diagram = Diagram(ax)\n",
    "in1 = diagram.vertex(xy=(margin, margin), marker='')\n",
    "in2 = diagram.vertex(xy=(margin, 1-margin), marker='')\n",
    "in3 = diagram.vertex(xy=(1-margin, margin), marker='')\n",
    "in4 = diagram.vertex(xy=(1-margin, 1-margin), marker='')\n",
    "in5 = diagram.vertex(xy=(.5, margin), marker='')\n",
    "in6 = diagram.vertex(xy=(.5, 1-margin), marker='')\n",
    "\n",
    "v1 = diagram.vertex(xy=(margin, .75), markersize=vertexsize)\n",
    "v2 = diagram.vertex(xy=(margin, .25), markersize=vertexsize)\n",
    "v3 = diagram.vertex(xy=(.5, .5), markersize=vertexsize2)\n",
    "v4 = diagram.vertex(xy=(1-margin, .25), markersize=vertexsize)\n",
    "v5 = diagram.vertex(xy=(1-margin, .5), markersize=vertexsize)\n",
    "\n",
    "\n",
    "q1 = diagram.line(in1, in2, color='black', lw=lw,\n",
    "                  arrow=False)\n",
    "q2 = diagram.line(in3, in4, color='black', lw=lw,\n",
    "                  arrow=False)\n",
    "q3 = diagram.line(in5, in6, color='black', lw=lw,\n",
    "                  arrow=False)\n",
    "r1 = diagram.line(v1, v4, color='black', lw=lw, ls=\"dashed\",\n",
    "                  arrow=False)\n",
    "r2 = diagram.line(v2, v5, color='black', lw=lw, ls=\"dashed\",\n",
    "                  arrow=False)\n",
    "\n",
    "\n",
    "diagram.plot()\n",
    "plt.savefig(\"./Diagrams/N4LO_3NF_3.png\", dpi=600)\n",
    "\n",
    "matplotlib.pyplot.show()\n"
   ]
  },
  {
   "cell_type": "code",
   "execution_count": 74,
   "metadata": {},
   "outputs": [
    {
     "data": {
      "image/png": "[encoded data removed]",
      "text/plain": [
       "<Figure size 288x288 with 1 Axes>"
      ]
     },
     "metadata": {},
     "output_type": "display_data"
    }
   ],
   "source": [
    "fig = matplotlib.pyplot.figure(figsize=(2*figsize[0], figsize[1]))\n",
    "ax = fig.add_axes([0, 0, 1, 1], frameon=False)\n",
    "\n",
    "diagram = Diagram(ax)\n",
    "in1 = diagram.vertex(xy=(margin, margin), marker='')\n",
    "in2 = diagram.vertex(xy=(margin, 1-margin), marker='')\n",
    "in3 = diagram.vertex(xy=(1-margin, margin), marker='')\n",
    "in4 = diagram.vertex(xy=(1-margin, 1-margin), marker='')\n",
    "in5 = diagram.vertex(xy=(.35, margin), marker='')\n",
    "in6 = diagram.vertex(xy=(.35, 1-margin), marker='')\n",
    "in7 = diagram.vertex(xy=(.65, margin), marker='')\n",
    "in8 = diagram.vertex(xy=(.65, 1-margin), marker='')\n",
    "\n",
    "v1 = diagram.vertex(xy=(margin, .8), markersize=vertexsize)\n",
    "# v2 = diagram.vertex(xy=(1-margin, .8), markersize=vertexsize)\n",
    "v3 = diagram.vertex(xy=(.68, .8), markersize=vertexsize)\n",
    "v4 = diagram.vertex(xy=(.35, .8), markersize=vertexsize2)\n",
    "# v5 = diagram.vertex(xy=(.65, .3), markersize=vertexsize)\n",
    "\n",
    "\n",
    "q1 = diagram.line(in1, in2, color='black', lw=lw,\n",
    "                  arrow=False)\n",
    "q2 = diagram.line(in3, in8, color='black', lw=lw,\n",
    "                  arrow=False)\n",
    "q3 = diagram.line(in5, in6, color='black', lw=lw,\n",
    "                  arrow=False)\n",
    "q3 = diagram.line(in7, in4, color='black', lw=lw,\n",
    "                  arrow=False)\n",
    "r1 = diagram.line(v1, v3, color='black', lw=lw, ls=\"dashed\",\n",
    "                  arrow=False)\n",
    "# r2 = diagram.line(v4, v3, color='black', lw=lw, ls=\"dashed\",\n",
    "#                   arrow=False)\n",
    "# r2 = diagram.line(v5, v3, color='black', lw=lw, ls=\"dashed\",\n",
    "#                   arrow=False)\n",
    "\n",
    "\n",
    "diagram.plot()\n",
    "plt.savefig(\"./Diagrams/N4LO_4NF_1.png\", dpi=600)\n",
    "\n",
    "matplotlib.pyplot.show()\n"
   ]
  },
  {
   "cell_type": "code",
   "execution_count": null,
   "metadata": {},
   "outputs": [],
   "source": []
  }
 ],
 "metadata": {
  "kernelspec": {
   "display_name": "experimental",
   "language": "python",
   "name": "python3"
  },
  "language_info": {
   "codemirror_mode": {
    "name": "ipython",
    "version": 3
   },
   "file_extension": ".py",
   "mimetype": "text/x-python",
   "name": "python",
   "nbconvert_exporter": "python",
   "pygments_lexer": "ipython3",
   "version": "3.9.7"
  },
  "orig_nbformat": 4
 },
 "nbformat": 4,
 "nbformat_minor": 2
}
