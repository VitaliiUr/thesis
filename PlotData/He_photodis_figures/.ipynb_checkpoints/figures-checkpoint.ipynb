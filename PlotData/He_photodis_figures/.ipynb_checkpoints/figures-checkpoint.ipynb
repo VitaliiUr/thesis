{
 "cells": [
  {
   "cell_type": "code",
   "execution_count": 38,
   "id": "8b254ecb-c0ff-4e6c-bd64-7019a6aa7d3d",
   "metadata": {},
   "outputs": [],
   "source": [
    "import os\n",
    "import numpy as np\n",
    "import pandas as pd\n",
    "import matplotlib.pyplot as plt\n",
    "import seaborn as sns"
   ]
  },
  {
   "cell_type": "code",
   "execution_count": 52,
   "id": "07f1b105-27cd-4cf1-9528-c89171b08c5c",
   "metadata": {},
   "outputs": [],
   "source": [
    "src = \"for_plots/\"\n",
    "forces = [\"LO\", \"NLO\", \"N2LO\", \"N3LO\", \"N4LO\", \"N4LO+\"]"
   ]
  },
  {
   "cell_type": "code",
   "execution_count": 46,
   "id": "a4beaa35-c913-421c-9dd1-3ba414fd3ba5",
   "metadata": {},
   "outputs": [],
   "source": [
    "files = [file for file in os.listdir(src) if \"incl\" not in file] "
   ]
  },
  {
   "cell_type": "code",
   "execution_count": 44,
   "id": "0bc7d616-d14d-4137-95cb-bb1ba38c303f",
   "metadata": {},
   "outputs": [],
   "source": [
    "# fname = files40[0]\n",
    "def read_data(fname):\n",
    "    df = pd.read_csv(src + fname, skiprows=1, skipinitialspace=True, sep=\" \")\n",
    "    df[\"Energy\"] = float(fname.split(\"-\")[2])\n",
    "    df[\"FORCE\"] = fname.split(\"-\")[3].split(\"_\")[-1]\n",
    "    df[\"CUTOFF\"] = fname.split(\"-\")[1][-3:]\n",
    "    return df"
   ]
  },
  {
   "cell_type": "code",
   "execution_count": 27,
   "id": "32478246-09fe-4db3-9d43-c06b784b21da",
   "metadata": {},
   "outputs": [
    {
     "data": {
      "text/plain": [
       "['ppn', 'CUTNUM400', '40.0', 'MeV_LO']"
      ]
     },
     "execution_count": 27,
     "metadata": {},
     "output_type": "execute_result"
    }
   ],
   "source": [
    "fname.split(\"-\")[-2]"
   ]
  },
  {
   "cell_type": "code",
   "execution_count": 48,
   "id": "9c58df12-d0c5-403a-acc9-9c3761fe08db",
   "metadata": {},
   "outputs": [],
   "source": [
    "df1 = pd.concat([read_data(fname) for fname in files])"
   ]
  },
  {
   "cell_type": "code",
   "execution_count": 49,
   "id": "ffa52298-004d-4a47-8121-dd52478d8f93",
   "metadata": {},
   "outputs": [
    {
     "data": {
      "text/html": [
       "<div>\n",
       "<style scoped>\n",
       "    .dataframe tbody tr th:only-of-type {\n",
       "        vertical-align: middle;\n",
       "    }\n",
       "\n",
       "    .dataframe tbody tr th {\n",
       "        vertical-align: top;\n",
       "    }\n",
       "\n",
       "    .dataframe thead th {\n",
       "        text-align: right;\n",
       "    }\n",
       "</style>\n",
       "<table border=\"1\" class=\"dataframe\">\n",
       "  <thead>\n",
       "    <tr style=\"text-align: right;\">\n",
       "      <th></th>\n",
       "      <th>I</th>\n",
       "      <th>SLANGE</th>\n",
       "      <th>CROSS</th>\n",
       "      <th>E1</th>\n",
       "      <th>E2</th>\n",
       "      <th>E3</th>\n",
       "      <th>Energy</th>\n",
       "      <th>FORCE</th>\n",
       "      <th>CUTOFF</th>\n",
       "    </tr>\n",
       "  </thead>\n",
       "  <tbody>\n",
       "    <tr>\n",
       "      <th>0</th>\n",
       "      <td>1</td>\n",
       "      <td>0.507</td>\n",
       "      <td>2.367000e-08</td>\n",
       "      <td>75.050</td>\n",
       "      <td>0.008</td>\n",
       "      <td>37.225</td>\n",
       "      <td>120.0</td>\n",
       "      <td>N4LO</td>\n",
       "      <td>400</td>\n",
       "    </tr>\n",
       "    <tr>\n",
       "      <th>1</th>\n",
       "      <td>2</td>\n",
       "      <td>1.004</td>\n",
       "      <td>8.696000e-08</td>\n",
       "      <td>74.553</td>\n",
       "      <td>0.029</td>\n",
       "      <td>37.700</td>\n",
       "      <td>120.0</td>\n",
       "      <td>N4LO</td>\n",
       "      <td>400</td>\n",
       "    </tr>\n",
       "    <tr>\n",
       "      <th>2</th>\n",
       "      <td>3</td>\n",
       "      <td>1.507</td>\n",
       "      <td>1.827000e-07</td>\n",
       "      <td>74.051</td>\n",
       "      <td>0.064</td>\n",
       "      <td>38.167</td>\n",
       "      <td>120.0</td>\n",
       "      <td>N4LO</td>\n",
       "      <td>400</td>\n",
       "    </tr>\n",
       "    <tr>\n",
       "      <th>3</th>\n",
       "      <td>4</td>\n",
       "      <td>2.006</td>\n",
       "      <td>3.021000e-07</td>\n",
       "      <td>73.555</td>\n",
       "      <td>0.111</td>\n",
       "      <td>38.617</td>\n",
       "      <td>120.0</td>\n",
       "      <td>N4LO</td>\n",
       "      <td>400</td>\n",
       "    </tr>\n",
       "    <tr>\n",
       "      <th>4</th>\n",
       "      <td>5</td>\n",
       "      <td>2.508</td>\n",
       "      <td>4.408000e-07</td>\n",
       "      <td>73.055</td>\n",
       "      <td>0.169</td>\n",
       "      <td>39.057</td>\n",
       "      <td>120.0</td>\n",
       "      <td>N4LO</td>\n",
       "      <td>400</td>\n",
       "    </tr>\n",
       "    <tr>\n",
       "      <th>...</th>\n",
       "      <td>...</td>\n",
       "      <td>...</td>\n",
       "      <td>...</td>\n",
       "      <td>...</td>\n",
       "      <td>...</td>\n",
       "      <td>...</td>\n",
       "      <td>...</td>\n",
       "      <td>...</td>\n",
       "      <td>...</td>\n",
       "    </tr>\n",
       "    <tr>\n",
       "      <th>53</th>\n",
       "      <td>54</td>\n",
       "      <td>27.001</td>\n",
       "      <td>1.750000e-06</td>\n",
       "      <td>0.405</td>\n",
       "      <td>17.294</td>\n",
       "      <td>14.583</td>\n",
       "      <td>40.0</td>\n",
       "      <td>N4LO+</td>\n",
       "      <td>450</td>\n",
       "    </tr>\n",
       "    <tr>\n",
       "      <th>54</th>\n",
       "      <td>55</td>\n",
       "      <td>27.502</td>\n",
       "      <td>1.450000e-06</td>\n",
       "      <td>0.268</td>\n",
       "      <td>17.777</td>\n",
       "      <td>14.237</td>\n",
       "      <td>40.0</td>\n",
       "      <td>N4LO+</td>\n",
       "      <td>450</td>\n",
       "    </tr>\n",
       "    <tr>\n",
       "      <th>55</th>\n",
       "      <td>56</td>\n",
       "      <td>28.002</td>\n",
       "      <td>1.009000e-06</td>\n",
       "      <td>0.155</td>\n",
       "      <td>18.264</td>\n",
       "      <td>13.863</td>\n",
       "      <td>40.0</td>\n",
       "      <td>N4LO+</td>\n",
       "      <td>450</td>\n",
       "    </tr>\n",
       "    <tr>\n",
       "      <th>56</th>\n",
       "      <td>57</td>\n",
       "      <td>28.502</td>\n",
       "      <td>5.032000e-07</td>\n",
       "      <td>0.069</td>\n",
       "      <td>18.756</td>\n",
       "      <td>13.457</td>\n",
       "      <td>40.0</td>\n",
       "      <td>N4LO+</td>\n",
       "      <td>450</td>\n",
       "    </tr>\n",
       "    <tr>\n",
       "      <th>57</th>\n",
       "      <td>58</td>\n",
       "      <td>29.002</td>\n",
       "      <td>1.201000e-07</td>\n",
       "      <td>0.015</td>\n",
       "      <td>19.253</td>\n",
       "      <td>13.014</td>\n",
       "      <td>40.0</td>\n",
       "      <td>N4LO+</td>\n",
       "      <td>450</td>\n",
       "    </tr>\n",
       "  </tbody>\n",
       "</table>\n",
       "<p>7896 rows × 9 columns</p>\n",
       "</div>"
      ],
      "text/plain": [
       "     I  SLANGE         CROSS      E1      E2      E3  Energy  FORCE CUTOFF\n",
       "0    1   0.507  2.367000e-08  75.050   0.008  37.225   120.0   N4LO    400\n",
       "1    2   1.004  8.696000e-08  74.553   0.029  37.700   120.0   N4LO    400\n",
       "2    3   1.507  1.827000e-07  74.051   0.064  38.167   120.0   N4LO    400\n",
       "3    4   2.006  3.021000e-07  73.555   0.111  38.617   120.0   N4LO    400\n",
       "4    5   2.508  4.408000e-07  73.055   0.169  39.057   120.0   N4LO    400\n",
       "..  ..     ...           ...     ...     ...     ...     ...    ...    ...\n",
       "53  54  27.001  1.750000e-06   0.405  17.294  14.583    40.0  N4LO+    450\n",
       "54  55  27.502  1.450000e-06   0.268  17.777  14.237    40.0  N4LO+    450\n",
       "55  56  28.002  1.009000e-06   0.155  18.264  13.863    40.0  N4LO+    450\n",
       "56  57  28.502  5.032000e-07   0.069  18.756  13.457    40.0  N4LO+    450\n",
       "57  58  29.002  1.201000e-07   0.015  19.253  13.014    40.0  N4LO+    450\n",
       "\n",
       "[7896 rows x 9 columns]"
      ]
     },
     "execution_count": 49,
     "metadata": {},
     "output_type": "execute_result"
    }
   ],
   "source": [
    "df1"
   ]
  },
  {
   "cell_type": "code",
   "execution_count": 51,
   "id": "b65dff58-2eaf-4223-9376-ab1f33a46751",
   "metadata": {},
   "outputs": [
    {
     "ename": "NameError",
     "evalue": "name 'forces' is not defined",
     "output_type": "error",
     "traceback": [
      "\u001b[0;31m---------------------------------------------------------------------------\u001b[0m",
      "\u001b[0;31mNameError\u001b[0m                                 Traceback (most recent call last)",
      "\u001b[0;32m/tmp/ipykernel_931883/1096206563.py\u001b[0m in \u001b[0;36m<module>\u001b[0;34m\u001b[0m\n\u001b[1;32m      1\u001b[0m \u001b[0mfig\u001b[0m\u001b[0;34m,\u001b[0m \u001b[0maxes\u001b[0m \u001b[0;34m=\u001b[0m \u001b[0mplt\u001b[0m\u001b[0;34m.\u001b[0m\u001b[0msubplots\u001b[0m\u001b[0;34m(\u001b[0m\u001b[0;36m1\u001b[0m\u001b[0;34m,\u001b[0m\u001b[0;36m2\u001b[0m\u001b[0;34m,\u001b[0m \u001b[0mfigsize\u001b[0m\u001b[0;34m=\u001b[0m\u001b[0;34m(\u001b[0m\u001b[0;36m12\u001b[0m\u001b[0;34m,\u001b[0m\u001b[0;36m5\u001b[0m\u001b[0;34m)\u001b[0m\u001b[0;34m)\u001b[0m\u001b[0;34m\u001b[0m\u001b[0;34m\u001b[0m\u001b[0m\n\u001b[0;32m----> 2\u001b[0;31m \u001b[0msns\u001b[0m\u001b[0;34m.\u001b[0m\u001b[0mlineplot\u001b[0m\u001b[0;34m(\u001b[0m\u001b[0mx\u001b[0m\u001b[0;34m=\u001b[0m\u001b[0;34m\"I\"\u001b[0m\u001b[0;34m,\u001b[0m \u001b[0my\u001b[0m \u001b[0;34m=\u001b[0m \u001b[0;34m\"CROSS\"\u001b[0m\u001b[0;34m,\u001b[0m \u001b[0mdata\u001b[0m \u001b[0;34m=\u001b[0m \u001b[0mdf1\u001b[0m\u001b[0;34m[\u001b[0m\u001b[0;34m(\u001b[0m\u001b[0mdf1\u001b[0m\u001b[0;34m[\u001b[0m\u001b[0;34m\"CUTOFF\"\u001b[0m\u001b[0;34m]\u001b[0m\u001b[0;34m==\u001b[0m\u001b[0;36m450\u001b[0m\u001b[0;34m)\u001b[0m \u001b[0;34m&\u001b[0m \u001b[0;34m(\u001b[0m\u001b[0mdf1\u001b[0m\u001b[0;34m[\u001b[0m\u001b[0;34m\"Energy\"\u001b[0m\u001b[0;34m]\u001b[0m \u001b[0;34m==\u001b[0m \u001b[0;36m40\u001b[0m\u001b[0;34m)\u001b[0m \u001b[0;34m]\u001b[0m\u001b[0;34m,\u001b[0m \u001b[0mhue\u001b[0m\u001b[0;34m=\u001b[0m\u001b[0;34m\"FORCE\"\u001b[0m\u001b[0;34m,\u001b[0m \u001b[0mhue_order\u001b[0m\u001b[0;34m=\u001b[0m\u001b[0mforces\u001b[0m\u001b[0;34m,\u001b[0m \u001b[0max\u001b[0m\u001b[0;34m=\u001b[0m\u001b[0maxes\u001b[0m\u001b[0;34m[\u001b[0m\u001b[0;36m0\u001b[0m\u001b[0;34m]\u001b[0m\u001b[0;34m)\u001b[0m\u001b[0;34m\u001b[0m\u001b[0;34m\u001b[0m\u001b[0m\n\u001b[0m\u001b[1;32m      3\u001b[0m \u001b[0msns\u001b[0m\u001b[0;34m.\u001b[0m\u001b[0mlineplot\u001b[0m\u001b[0;34m(\u001b[0m\u001b[0mx\u001b[0m\u001b[0;34m=\u001b[0m\u001b[0;34m\"I\"\u001b[0m\u001b[0;34m,\u001b[0m \u001b[0my\u001b[0m \u001b[0;34m=\u001b[0m \u001b[0;34m\"CROSS\"\u001b[0m\u001b[0;34m,\u001b[0m \u001b[0mdata\u001b[0m \u001b[0;34m=\u001b[0m \u001b[0mdf1\u001b[0m\u001b[0;34m[\u001b[0m\u001b[0;34m(\u001b[0m\u001b[0mdf1\u001b[0m\u001b[0;34m[\u001b[0m\u001b[0;34m\"FORCE\"\u001b[0m\u001b[0;34m]\u001b[0m\u001b[0;34m==\u001b[0m\u001b[0;34m\"N4LO\"\u001b[0m\u001b[0;34m)\u001b[0m \u001b[0;34m&\u001b[0m \u001b[0;34m(\u001b[0m\u001b[0mdf1\u001b[0m\u001b[0;34m[\u001b[0m\u001b[0;34m\"Energy\"\u001b[0m\u001b[0;34m]\u001b[0m \u001b[0;34m==\u001b[0m \u001b[0;36m40\u001b[0m\u001b[0;34m)\u001b[0m\u001b[0;34m]\u001b[0m\u001b[0;34m,\u001b[0m \u001b[0mhue\u001b[0m\u001b[0;34m=\u001b[0m\u001b[0;34m\"CUTOFF\"\u001b[0m\u001b[0;34m,\u001b[0m \u001b[0mhue_order\u001b[0m\u001b[0;34m=\u001b[0m\u001b[0mforces\u001b[0m\u001b[0;34m,\u001b[0m \u001b[0max\u001b[0m\u001b[0;34m=\u001b[0m\u001b[0maxes\u001b[0m\u001b[0;34m[\u001b[0m\u001b[0;36m1\u001b[0m\u001b[0;34m]\u001b[0m\u001b[0;34m)\u001b[0m\u001b[0;34m\u001b[0m\u001b[0;34m\u001b[0m\u001b[0m\n\u001b[1;32m      4\u001b[0m \u001b[0;31m# axes[0].text(3+0.2, 4.5, \"CUTOFF = 450\", horizontalalignment='left', size='medium', color='black', weight='semibold')\u001b[0m\u001b[0;34m\u001b[0m\u001b[0;34m\u001b[0m\u001b[0m\n\u001b[1;32m      5\u001b[0m \u001b[0;31m# axes[1].text(3+0.2, 4.5, \"N4LO\", horizontalalignment='left', size='medium', color='black', weight='semibold')\u001b[0m\u001b[0;34m\u001b[0m\u001b[0;34m\u001b[0m\u001b[0m\n",
      "\u001b[0;31mNameError\u001b[0m: name 'forces' is not defined"
     ]
    },
    {
     "data": {
      "image/png": "[encoded data removed]",
      "text/plain": [
       "<Figure size 864x360 with 2 Axes>"
      ]
     },
     "metadata": {
      "needs_background": "light"
     },
     "output_type": "display_data"
    }
   ],
   "source": [
    "fig, axes = plt.subplots(1,2, figsize=(12,5))\n",
    "sns.lineplot(x=\"I\", y = \"CROSS\", data = df1[(df1[\"CUTOFF\"]==450) & (df1[\"Energy\"] == 40) ], hue=\"FORCE\", hue_order=forces, ax=axes[0])\n",
    "sns.lineplot(x=\"I\", y = \"CROSS\", data = df1[(df1[\"FORCE\"]==\"N4LO\") & (df1[\"Energy\"] == 40)], hue=\"CUTOFF\", hue_order=forces, ax=axes[1])\n",
    "# axes[0].text(3+0.2, 4.5, \"CUTOFF = 450\", horizontalalignment='left', size='medium', color='black', weight='semibold')\n",
    "# axes[1].text(3+0.2, 4.5, \"N4LO\", horizontalalignment='left', size='medium', color='black', weight='semibold')\n",
    "axes[0].grid()\n",
    "axes[1].grid()\n",
    "axes[0].set_xlim([0,180])\n",
    "axes[1].set_xlim([0,180])\n",
    "plt.tight_layout()"
   ]
  },
  {
   "cell_type": "code",
   "execution_count": null,
   "id": "116e7a65-8fe9-45e5-a969-be264ddb1c7c",
   "metadata": {},
   "outputs": [],
   "source": []
  }
 ],
 "metadata": {
  "kernelspec": {
   "display_name": "Python 3",
   "language": "python",
   "name": "python3"
  },
  "language_info": {
   "codemirror_mode": {
    "name": "ipython",
    "version": 3
   },
   "file_extension": ".py",
   "mimetype": "text/x-python",
   "name": "python",
   "nbconvert_exporter": "python",
   "pygments_lexer": "ipython3",
   "version": "3.9.7"
  }
 },
 "nbformat": 4,
 "nbformat_minor": 5
}
