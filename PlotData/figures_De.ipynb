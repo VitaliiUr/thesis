{
 "cells": [
  {
   "cell_type": "code",
   "execution_count": 1,
   "id": "0cef585e-9cbf-4980-8def-f490533a2f29",
   "metadata": {},
   "outputs": [],
   "source": [
    "import numpy as np\n",
    "import matplotlib.pyplot as plt\n",
    "import matplotlib as mpl\n",
    "import pandas as pd\n",
    "import os\n",
    "import seaborn as sns"
   ]
  },
  {
   "cell_type": "code",
   "execution_count": 2,
   "id": "e1762811-3c61-4dbc-b4f1-ad7b76c071f9",
   "metadata": {},
   "outputs": [],
   "source": [
    "plt.style.use(['science', 'retro'])\n",
    "\n",
    "mpl.rcParams['mathtext.fontset'] = 'custom'\n",
    "mpl.rcParams['mathtext.rm'] = 'DejaVu Sans'\n",
    "mpl.rcParams['mathtext.it'] = 'DejaVu Sans:italic'\n",
    "mpl.rcParams['mathtext.bf'] = 'DejaVu Sans:bold'\n",
    "\n",
    "plt.rcParams[\"font.family\"] = \"sans-serif\"\n",
    "plt.rcParams[\"font.sans-serif\"] = \"DejaVu Sans\"\n",
    "\n",
    "plt.rc('text', usetex=True)\n",
    "plt.rcParams['axes.linewidth'] = 1.2\n",
    "mpl.rcParams['lines.linewidth'] = 1.6"
   ]
  },
  {
   "cell_type": "code",
   "execution_count": 3,
   "id": "c1027670-3d0a-4331-b0ee-99392ee66793",
   "metadata": {},
   "outputs": [],
   "source": [
    "src = \"Deuteron/data/\""
   ]
  },
  {
   "cell_type": "code",
   "execution_count": 132,
   "id": "9fa2c404-3928-4ddb-b0e3-551e7e101e59",
   "metadata": {},
   "outputs": [],
   "source": [
    "df = pd.read_csv(\"deuteron_all_data.csv\")\n",
    "df_exp = pd.read_csv(\"deuteron_all_exp.csv\")"
   ]
  },
  {
   "cell_type": "code",
   "execution_count": 70,
   "id": "cb316f30-590e-4011-b549-ab73e65445a1",
   "metadata": {},
   "outputs": [
    {
     "data": {
      "text/html": [
       "<div>\n",
       "<style scoped>\n",
       "    .dataframe tbody tr th:only-of-type {\n",
       "        vertical-align: middle;\n",
       "    }\n",
       "\n",
       "    .dataframe tbody tr th {\n",
       "        vertical-align: top;\n",
       "    }\n",
       "\n",
       "    .dataframe thead th {\n",
       "        text-align: right;\n",
       "    }\n",
       "</style>\n",
       "<table border=\"1\" class=\"dataframe\">\n",
       "  <thead>\n",
       "    <tr style=\"text-align: right;\">\n",
       "      <th></th>\n",
       "      <th>angle</th>\n",
       "      <th>value</th>\n",
       "      <th>error</th>\n",
       "      <th>fname</th>\n",
       "      <th>energy</th>\n",
       "    </tr>\n",
       "  </thead>\n",
       "  <tbody>\n",
       "    <tr>\n",
       "      <th>0</th>\n",
       "      <td>37.904192</td>\n",
       "      <td>5.492080</td>\n",
       "      <td>0.212168</td>\n",
       "      <td>Exp100_2.dat</td>\n",
       "      <td>100</td>\n",
       "    </tr>\n",
       "    <tr>\n",
       "      <th>1</th>\n",
       "      <td>42.754491</td>\n",
       "      <td>6.117786</td>\n",
       "      <td>0.243339</td>\n",
       "      <td>Exp100_2.dat</td>\n",
       "      <td>100</td>\n",
       "    </tr>\n",
       "    <tr>\n",
       "      <th>2</th>\n",
       "      <td>56.227545</td>\n",
       "      <td>6.783924</td>\n",
       "      <td>0.249610</td>\n",
       "      <td>Exp100_2.dat</td>\n",
       "      <td>100</td>\n",
       "    </tr>\n",
       "    <tr>\n",
       "      <th>3</th>\n",
       "      <td>60.179641</td>\n",
       "      <td>5.612127</td>\n",
       "      <td>0.237129</td>\n",
       "      <td>Exp100_2.dat</td>\n",
       "      <td>100</td>\n",
       "    </tr>\n",
       "    <tr>\n",
       "      <th>4</th>\n",
       "      <td>83.532934</td>\n",
       "      <td>6.244248</td>\n",
       "      <td>0.318253</td>\n",
       "      <td>Exp100_2.dat</td>\n",
       "      <td>100</td>\n",
       "    </tr>\n",
       "  </tbody>\n",
       "</table>\n",
       "</div>"
      ],
      "text/plain": [
       "       angle     value     error         fname  energy\n",
       "0  37.904192  5.492080  0.212168  Exp100_2.dat     100\n",
       "1  42.754491  6.117786  0.243339  Exp100_2.dat     100\n",
       "2  56.227545  6.783924  0.249610  Exp100_2.dat     100\n",
       "3  60.179641  5.612127  0.237129  Exp100_2.dat     100\n",
       "4  83.532934  6.244248  0.318253  Exp100_2.dat     100"
      ]
     },
     "execution_count": 70,
     "metadata": {},
     "output_type": "execute_result"
    }
   ],
   "source": [
    "df_exp.head()"
   ]
  },
  {
   "cell_type": "code",
   "execution_count": 86,
   "id": "261de602-3b4f-419e-b849-bb33eca571d1",
   "metadata": {},
   "outputs": [
    {
     "data": {
      "text/plain": [
       "array(['Exp100_2.dat', 'Exp100n.dat', 'Exp100.dat', 'Exp100_3.dat'],\n",
       "      dtype=object)"
      ]
     },
     "execution_count": 86,
     "metadata": {},
     "output_type": "execute_result"
    }
   ],
   "source": [
    "df_exp[df_exp.energy == 100].fname.unique()"
   ]
  },
  {
   "cell_type": "code",
   "execution_count": 6,
   "id": "be45c9eb-2144-4a69-a8fe-7d35d982be98",
   "metadata": {},
   "outputs": [],
   "source": [
    "observables = [ob for ob in df.columns.values if ob not in [\"THCM\", \"angle\", \"CUTOFF\", \"FORCE\"]]"
   ]
  },
  {
   "cell_type": "code",
   "execution_count": 7,
   "id": "524ac677-edf6-4cf0-bad2-af0b5b12d8ad",
   "metadata": {},
   "outputs": [
    {
     "name": "stdout",
     "output_type": "stream",
     "text": [
      "['CROSS', 'CROSS2', 'P1', 'P2', 'PHIP', 'WAVE', 'T11D', 'T20D', 'T21D', 'T22D', 'T11D2', 'T20D2', 'T21D2', 'T22D2', 'AX', 'AY', 'AZ', 'AX2', 'AY2', 'AZ2', 'POLNOUT(y)', 'POLNOUT2(y)', 'CROSSCAP', 'CROSSCAP2', 'AYN1CAP', 'AYN1CAP2', 'Energy']\n"
     ]
    }
   ],
   "source": [
    "print(observables)"
   ]
  },
  {
   "cell_type": "code",
   "execution_count": 8,
   "id": "f708c0ec-bbce-4804-9414-d6d8b0e851a9",
   "metadata": {},
   "outputs": [],
   "source": [
    "FORCES=[\"LO\", \"NLO\", \"N2LO\", \"N3LO\", \"N4LO\", \"N4LO+\"]\n",
    "CUTOFF=[400,450,500,550]"
   ]
  },
  {
   "cell_type": "code",
   "execution_count": 24,
   "id": "415ed5f6-2fc6-40b1-ad01-38260df8891a",
   "metadata": {},
   "outputs": [],
   "source": [
    "line_styles = {\"LO\": {\"marker\":\"d\", \"markevery\": 10, \"markersize\": 3, \"color\": \"tab:orange\"},\n",
    "               \"NLO\": {\"marker\":\".\", \"markevery\": 10, \"color\": \"tab:blue\"},\n",
    "               \"N2LO\": {\"ls\":  (0, (5, 3)), \"color\": \"tab:green\"},\n",
    "               \"N3LO\": {\"ls\": \"dotted\", \"color\": \"tab:red\"},\n",
    "               \"N4LO\": {\"color\": \"black\"},\n",
    "               \"N4LO+\": {\"ls\": (0, (5, 2, 0.8, 2, 0.8, 2)), \"color\": \"tab:cyan\"},\n",
    "               \"AV18\": {\"ls\": (0, (5, 2, 1.3, 2,)), \"color\": \"tab:pink\"}\n",
    "              }\n",
    "ls_cutoff = {400: line_styles[\"N4LO\"],\n",
    "             450: line_styles[\"N4LO+\"],\n",
    "             500: line_styles[\"N2LO\"],\n",
    "             550: line_styles[\"N3LO\"], \n",
    "            }"
   ]
  },
  {
   "cell_type": "code",
   "execution_count": 98,
   "id": "a4933cc4-7168-4cfa-a1f4-3eb1269c06f5",
   "metadata": {},
   "outputs": [],
   "source": [
    "markers = [\"o\", \"s\", \"^\", \"x\"]"
   ]
  },
  {
   "cell_type": "code",
   "execution_count": 131,
   "id": "71f9f9ee-8777-47f8-b953-31264acf1dc6",
   "metadata": {},
   "outputs": [
    {
     "data": {
      "image/png": "[encoded data removed]",
      "text/plain": [
       "<Figure size 468x201.6 with 2 Axes>"
      ]
     },
     "metadata": {
      "needs_background": "light"
     },
     "output_type": "display_data"
    }
   ],
   "source": [
    "obs=\"CROSS2\"\n",
    "ylabel=\"$\\mathrm{d}^2\\sigma / d \\Omega ~[\\mu\\mathrm{b~sr}^{-1}]$\"\n",
    "energy=140\n",
    "\n",
    "fig, axes = plt.subplots(1,2, figsize=(6.5, 2.8))\n",
    "fig.supxlabel(\"$\\Theta_\\mathrm{p}$ [deg]\", y=0.08, size=12)\n",
    "fig.supylabel(ylabel, x=0.03, y=0.6, size=12)\n",
    "for force in FORCES:\n",
    "    df_tmp = df[(df.FORCE == force) & (df.CUTOFF == 450) & (df.Energy == energy) & (df.WAVE == \"SIEGERT\")]\n",
    "    axes[0].plot(df_tmp.angle, df_tmp[obs],\n",
    "                 **line_styles[force], label = force)\n",
    "for cutoff in CUTOFF:\n",
    "    df_tmp = df[(df.FORCE == \"N4LO+\") & (df.CUTOFF == cutoff) & (df.Energy == energy) & (df.WAVE == \"SIEGERT\")]\n",
    "    axes[1].plot(df_tmp.angle, df_tmp[obs],\n",
    "                 **ls_cutoff[cutoff], label = cutoff)\n",
    "df_av18 = df[(df.FORCE == \"AV18\") & (df.Energy == energy)]\n",
    "for ax in axes:\n",
    "    ax.plot(df_av18.angle, df_av18[obs],\n",
    "                 **line_styles[\"AV18\"], label = \"AV18\")\n",
    "    for i, fname in enumerate(df_exp[df_exp.energy == energy].fname.unique()):\n",
    "        df_tmp = df_exp[(df_exp.energy == energy) & (df_exp.fname == fname)]\n",
    "        ax.errorbar(df_tmp.angle, df_tmp.value,\n",
    "                    yerr=df_tmp.error, fmt=f\"{markers[i]}k\",\n",
    "                    markersize=3, markerfacecolor=\"white\", markeredgecolor=\"k\",\n",
    "                   elinewidth=0.5, capsize=2, zorder=3);\n",
    "    # style\n",
    "    ax.legend(fontsize=7, handlelength=3)\n",
    "    ax.tick_params(which='minor', direction='in', length=4, width=0.5, top=True, right=True)\n",
    "    ax.tick_params(which='major', direction='in', length=7, width=1, top=True, right=True)\n",
    "    ax.set_xticks(np.arange(0,180,30))\n",
    "    ax.set_xlim([0,180])\n",
    "    # ax.set_ylim([1.5,4.5])\n",
    "# axes[1].set_ylim(axes[0].get_ylim())\n",
    "    # ax.grid()\n",
    "# plt.subplots_adjust(wspace = 0.001)\n",
    "fig.tight_layout()\n",
    "plt.savefig(f\"Figures_python/{obs}_{energy}mev.pdf\", dpi=600, facecolor=\"white\")\n",
    "plt.show()"
   ]
  },
  {
   "cell_type": "markdown",
   "id": "0fcfebb8-85a7-4b3b-bf83-9922e502d1e7",
   "metadata": {},
   "source": [
    "# Integrate"
   ]
  },
  {
   "cell_type": "code",
   "execution_count": 183,
   "id": "6f72665f-d4b1-48b9-b58d-3af00b6e1bcc",
   "metadata": {},
   "outputs": [],
   "source": [
    "df_tmp = df[(df.FORCE == \"N4LO+\") &\n",
    "            (df.CUTOFF == 450) &\n",
    "            (df.Energy == 140) &\n",
    "            (df.WAVE == \"SIEGERT\")]\n"
   ]
  },
  {
   "cell_type": "code",
   "execution_count": 164,
   "id": "f9f59254-311f-4465-bb1d-cb1b5c347b8b",
   "metadata": {},
   "outputs": [],
   "source": [
    "x = df_tmp.angle.values\n",
    "y = df_tmp.CROSS2.values"
   ]
  },
  {
   "cell_type": "code",
   "execution_count": 158,
   "id": "3d159e17-5d41-44e4-8fbc-39b6c7e4fe82",
   "metadata": {},
   "outputs": [],
   "source": [
    "from scipy.integrate import simpson"
   ]
  },
  {
   "cell_type": "code",
   "execution_count": 165,
   "id": "531207de-cb31-43a7-a4ae-cea33ecff56c",
   "metadata": {},
   "outputs": [
    {
     "data": {
      "text/plain": [
       "404.7751217476615"
      ]
     },
     "execution_count": 165,
     "metadata": {},
     "output_type": "execute_result"
    }
   ],
   "source": [
    "2*np.pi*simpson(y,x=np.deg2rad(x))"
   ]
  },
  {
   "cell_type": "code",
   "execution_count": 138,
   "id": "d07da93d-801d-4881-b186-fd597abca4ee",
   "metadata": {},
   "outputs": [],
   "source": [
    "df_arends = pd.read_csv(\"data_arends1984.csv\", header=None, names=[\"energy\", \"cross_tot\"])"
   ]
  },
  {
   "cell_type": "code",
   "execution_count": 184,
   "id": "b6e4290d-6c5d-402e-a60c-009166087169",
   "metadata": {},
   "outputs": [
    {
     "data": {
      "text/plain": [
       "4407    0.5714\n",
       "Name: T20D2, dtype: float64"
      ]
     },
     "execution_count": 184,
     "metadata": {},
     "output_type": "execute_result"
    }
   ],
   "source": [
    "df_tmp.iloc[(df_tmp['angle']-88).abs().argsort()[:1]].T20D2"
   ]
  },
  {
   "cell_type": "code",
   "execution_count": 175,
   "id": "0711f966-3ff3-48be-89e4-e4ec469a463b",
   "metadata": {},
   "outputs": [],
   "source": [
    "x = df_tmp[(df_tmp['angle']> 24) & (df_tmp['angle'] < 48)].angle.values\n",
    "y = df_tmp[(df_tmp['angle']> 24) & (df_tmp['angle'] < 48)].T22D2.values"
   ]
  },
  {
   "cell_type": "code",
   "execution_count": 176,
   "id": "634de52f-cfd3-4286-951f-d46cb0619dd8",
   "metadata": {},
   "outputs": [
    {
     "data": {
      "text/plain": [
       "0.27371446993721865"
      ]
     },
     "execution_count": 176,
     "metadata": {},
     "output_type": "execute_result"
    }
   ],
   "source": [
    "2*np.pi*simpson(y,x=np.deg2rad(x))"
   ]
  },
  {
   "cell_type": "code",
   "execution_count": null,
   "id": "a131ab64-a0d3-4b8a-b752-28fc9d9e9225",
   "metadata": {},
   "outputs": [],
   "source": []
  }
 ],
 "metadata": {
  "kernelspec": {
   "display_name": "Python 3",
   "language": "python",
   "name": "python3"
  },
  "language_info": {
   "codemirror_mode": {
    "name": "ipython",
    "version": 3
   },
   "file_extension": ".py",
   "mimetype": "text/x-python",
   "name": "python",
   "nbconvert_exporter": "python",
   "pygments_lexer": "ipython3",
   "version": "3.9.7"
  }
 },
 "nbformat": 4,
 "nbformat_minor": 5
}
