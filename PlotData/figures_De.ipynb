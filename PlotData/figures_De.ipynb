{
 "cells": [
  {
   "cell_type": "code",
   "execution_count": 1,
   "id": "0cef585e-9cbf-4980-8def-f490533a2f29",
   "metadata": {},
   "outputs": [],
   "source": [
    "import numpy as np\n",
    "import matplotlib.pyplot as plt\n",
    "import matplotlib as mpl\n",
    "import pandas as pd\n",
    "import os\n",
    "import seaborn as sns"
   ]
  },
  {
   "cell_type": "code",
   "execution_count": 2,
   "id": "e1762811-3c61-4dbc-b4f1-ad7b76c071f9",
   "metadata": {},
   "outputs": [],
   "source": [
    "plt.style.use(['science', 'retro'])\n",
    "\n",
    "mpl.rcParams['mathtext.fontset'] = 'custom'\n",
    "mpl.rcParams['mathtext.rm'] = 'DejaVu Sans'\n",
    "mpl.rcParams['mathtext.it'] = 'DejaVu Sans:italic'\n",
    "mpl.rcParams['mathtext.bf'] = 'DejaVu Sans:bold'\n",
    "\n",
    "plt.rcParams[\"font.family\"] = \"sans-serif\"\n",
    "plt.rcParams[\"font.sans-serif\"] = \"DejaVu Sans\"\n",
    "\n",
    "plt.rc('text', usetex=True)\n",
    "plt.rcParams['axes.linewidth'] = 1.2\n",
    "mpl.rcParams['lines.linewidth'] = 1.6"
   ]
  },
  {
   "cell_type": "code",
   "execution_count": 3,
   "id": "c1027670-3d0a-4331-b0ee-99392ee66793",
   "metadata": {},
   "outputs": [],
   "source": [
    "src = \"Deuteron/data/\""
   ]
  },
  {
   "cell_type": "code",
   "execution_count": 52,
   "id": "9fa2c404-3928-4ddb-b0e3-551e7e101e59",
   "metadata": {},
   "outputs": [],
   "source": [
    "df = pd.read_csv(\"deuteron_all_data.csv\")\n",
    "df_exp = pd.read_csv(\"deuteron_all_exp.csv\")"
   ]
  },
  {
   "cell_type": "code",
   "execution_count": 86,
   "id": "261de602-3b4f-419e-b849-bb33eca571d1",
   "metadata": {},
   "outputs": [
    {
     "data": {
      "text/plain": [
       "array(['Exp100_2.dat', 'Exp100n.dat', 'Exp100.dat', 'Exp100_3.dat'],\n",
       "      dtype=object)"
      ]
     },
     "execution_count": 86,
     "metadata": {},
     "output_type": "execute_result"
    }
   ],
   "source": [
    "df_exp[df_exp.energy == 100].fname.unique()"
   ]
  },
  {
   "cell_type": "code",
   "execution_count": 6,
   "id": "be45c9eb-2144-4a69-a8fe-7d35d982be98",
   "metadata": {},
   "outputs": [],
   "source": [
    "observables = [ob for ob in df.columns.values if ob not in [\"THCM\", \"angle\", \"CUTOFF\", \"FORCE\"]]"
   ]
  },
  {
   "cell_type": "code",
   "execution_count": 7,
   "id": "524ac677-edf6-4cf0-bad2-af0b5b12d8ad",
   "metadata": {},
   "outputs": [
    {
     "name": "stdout",
     "output_type": "stream",
     "text": [
      "['CROSS', 'CROSS2', 'P1', 'P2', 'PHIP', 'WAVE', 'T11D', 'T20D', 'T21D', 'T22D', 'T11D2', 'T20D2', 'T21D2', 'T22D2', 'AX', 'AY', 'AZ', 'AX2', 'AY2', 'AZ2', 'POLNOUT(y)', 'POLNOUT2(y)', 'CROSSCAP', 'CROSSCAP2', 'AYN1CAP', 'AYN1CAP2', 'Energy']\n"
     ]
    }
   ],
   "source": [
    "print(observables)"
   ]
  },
  {
   "cell_type": "code",
   "execution_count": 7,
   "id": "f708c0ec-bbce-4804-9414-d6d8b0e851a9",
   "metadata": {},
   "outputs": [],
   "source": [
    "FORCES=[\"LO\", \"NLO\", \"N2LO\", \"N3LO\", \"N4LO\", \"N4LO+\"]\n",
    "CUTOFF=[400,450,500,550]"
   ]
  },
  {
   "cell_type": "code",
   "execution_count": 8,
   "id": "415ed5f6-2fc6-40b1-ad01-38260df8891a",
   "metadata": {},
   "outputs": [],
   "source": [
    "line_styles = {\"LO\": {\"marker\":\"d\", \"markevery\": 10, \"markersize\": 3, \"color\": \"tab:orange\"},\n",
    "               \"NLO\": {\"marker\":\".\", \"markevery\": 10, \"color\": \"tab:blue\"},\n",
    "               \"N2LO\": {\"ls\":  (0, (5, 3)), \"color\": \"tab:green\"},\n",
    "               \"N3LO\": {\"ls\": \"dotted\", \"color\": \"tab:red\"},\n",
    "               \"N4LO\": {\"color\": \"black\"},\n",
    "               \"N4LO+\": {\"ls\": (0, (5, 2, 0.8, 2, 0.8, 2)), \"color\": \"tab:cyan\"},\n",
    "               \"AV18\": {\"ls\": (0, (5, 2, 1.3, 2,)), \"color\": \"tab:pink\"}\n",
    "              }\n",
    "ls_cutoff = {400: line_styles[\"N4LO\"],\n",
    "             450: line_styles[\"N4LO+\"],\n",
    "             500: line_styles[\"N2LO\"],\n",
    "             550: line_styles[\"N3LO\"], \n",
    "            }"
   ]
  },
  {
   "cell_type": "code",
   "execution_count": 9,
   "id": "a4933cc4-7168-4cfa-a1f4-3eb1269c06f5",
   "metadata": {},
   "outputs": [],
   "source": [
    "markers = [\"o\", \"s\", \"^\", \"x\"]"
   ]
  },
  {
   "cell_type": "code",
   "execution_count": 183,
   "id": "71f9f9ee-8777-47f8-b953-31264acf1dc6",
   "metadata": {},
   "outputs": [
    {
     "data": {
      "image/png": "[encoded data removed]",
      "text/plain": [
       "<Figure size 468x201.6 with 2 Axes>"
      ]
     },
     "metadata": {
      "needs_background": "light"
     },
     "output_type": "display_data"
    }
   ],
   "source": [
    "obs=\"CROSS2\"\n",
    "ylabel=\"$\\mathrm{d}^2\\sigma / d \\Omega ~[\\mu\\mathrm{b~sr}^{-1}]$\"\n",
    "energy=30\n",
    "\n",
    "fig, axes = plt.subplots(1,2, figsize=(6.5, 2.8))\n",
    "fig.supxlabel(\"$\\Theta_\\mathrm{p}$ [deg]\", y=0.08, size=12)\n",
    "fig.supylabel(ylabel, x=0.03, y=0.6, size=12)\n",
    "for force in FORCES:\n",
    "    df_tmp = df[(df.FORCE == force) & (df.CUTOFF == 450) & (df.Energy == energy) & (df.WAVE == \"SIEGERT\")]\n",
    "    axes[0].plot(df_tmp.angle, df_tmp[obs],\n",
    "                 **line_styles[force], label = force)\n",
    "for cutoff in CUTOFF:\n",
    "    df_tmp = df[(df.FORCE == \"N4LO+\") & (df.CUTOFF == cutoff) & (df.Energy == energy) & (df.WAVE == \"SIEGERT\")]\n",
    "    axes[1].plot(df_tmp.angle, df_tmp[obs],\n",
    "                 **ls_cutoff[cutoff], label = cutoff)\n",
    "df_av18 = df[(df.FORCE == \"AV18\") & (df.Energy == energy)]\n",
    "for ax in axes:\n",
    "    ax.plot(df_av18.angle, df_av18[obs],\n",
    "                 **line_styles[\"AV18\"], label = \"AV18\")\n",
    "    for i, fname in enumerate(df_exp[df_exp.energy == energy].fname.unique()):\n",
    "        df_tmp = df_exp[(df_exp.energy == energy) & (df_exp.fname == fname)]\n",
    "        ax.errorbar(df_tmp.angle, df_tmp.value,\n",
    "                    yerr=df_tmp.error, fmt=f\"{markers[i]}k\",\n",
    "                    markersize=3, markerfacecolor=\"white\", markeredgecolor=\"k\",\n",
    "                   elinewidth=0.5, capsize=2, zorder=3);\n",
    "    # style\n",
    "    ax.legend(fontsize=7, handlelength=3)\n",
    "    ax.tick_params(which='minor', direction='in', length=4, width=0.5, top=True, right=True)\n",
    "    ax.tick_params(which='major', direction='in', length=7, width=1, top=True, right=True)\n",
    "    ax.set_xticks(np.arange(0,180,30))\n",
    "    ax.set_xlim([0,180])\n",
    "    # ax.set_ylim([1.5,4.5])\n",
    "# axes[1].set_ylim(axes[0].get_ylim())\n",
    "    # ax.grid()\n",
    "# plt.subplots_adjust(wspace = 0.001)\n",
    "fig.tight_layout()\n",
    "# plt.savefig(f\"Figures_python/{obs}_{energy}mev.pdf\", dpi=600, facecolor=\"white\")\n",
    "plt.show()"
   ]
  },
  {
   "cell_type": "markdown",
   "id": "0fcfebb8-85a7-4b3b-bf83-9922e502d1e7",
   "metadata": {
    "tags": []
   },
   "source": [
    "# Integrate"
   ]
  },
  {
   "cell_type": "code",
   "execution_count": 17,
   "id": "ed35d074-e52b-4879-8b47-035dd4c5985e",
   "metadata": {},
   "outputs": [],
   "source": [
    "from scipy.integrate import simpson\n",
    "from tqdm import tqdm"
   ]
  },
  {
   "cell_type": "code",
   "execution_count": 16,
   "id": "8a882e1e-0d11-4bc4-b6f1-2c17acb91e9e",
   "metadata": {},
   "outputs": [
    {
     "data": {
      "text/plain": [
       "array([ 10,  20,  30,  40,  50,  60,  70,  80,  90, 100, 110, 120, 130,\n",
       "       140, 150, 160, 170, 180, 190, 200, 210, 220, 230, 240, 250, 260,\n",
       "       270, 280, 290, 300, 310, 320, 330, 340, 350, 360, 370, 380, 390,\n",
       "       400])"
      ]
     },
     "execution_count": 16,
     "metadata": {},
     "output_type": "execute_result"
    }
   ],
   "source": [
    "energies = df.Energy.unique()\n",
    "energies.sort()\n",
    "energies"
   ]
  },
  {
   "cell_type": "code",
   "execution_count": 55,
   "id": "6c5c6c32-6be0-4cb2-a212-1640bdc5a6b7",
   "metadata": {},
   "outputs": [],
   "source": [
    "df_tmp = df[(df.FORCE == \"N4LO+\") &\n",
    "                (df.CUTOFF == 450) &\n",
    "                (df.Energy == 30) &\n",
    "                (df.WAVE == \"SIEGERT\")]"
   ]
  },
  {
   "cell_type": "code",
   "execution_count": 56,
   "id": "71aa02d9-98d5-4ce4-882e-e490c7d2c86b",
   "metadata": {},
   "outputs": [],
   "source": [
    "x = df_tmp.THCM.values\n",
    "y = df_tmp.CROSS2.values"
   ]
  },
  {
   "cell_type": "code",
   "execution_count": 29,
   "id": "b37409ed-ce5b-47c5-a548-af8a433d36f8",
   "metadata": {},
   "outputs": [
    {
     "data": {
      "text/plain": [
       "(184320, 31)"
      ]
     },
     "execution_count": 29,
     "metadata": {},
     "output_type": "execute_result"
    }
   ],
   "source": [
    "df_tmp.shape"
   ]
  },
  {
   "cell_type": "code",
   "execution_count": 89,
   "id": "6f72665f-d4b1-48b9-b58d-3af00b6e1bcc",
   "metadata": {},
   "outputs": [
    {
     "name": "stderr",
     "output_type": "stream",
     "text": [
      "100%|██████████████████████████████████████████████████████████████████████████████████████████████████| 40/40 [00:00<00:00, 163.18it/s]\n"
     ]
    }
   ],
   "source": [
    "CROSS_TOT = []\n",
    "for energy in tqdm(energies):\n",
    "    df_tmp = df[(df.FORCE == \"N4LO+\") &\n",
    "                (df.CUTOFF == 450) &\n",
    "                (df.Energy == energy) &\n",
    "                (df.WAVE == \"SIEGERT\")]\n",
    "    x = df_tmp.THCM.values\n",
    "    y = df_tmp.CROSS2.values\n",
    "    CROSS_TOT.append(4*np.pi*simpson(y,x=x))"
   ]
  },
  {
   "cell_type": "code",
   "execution_count": 90,
   "id": "5f514695-dfaa-416c-a692-58cfe6fbb608",
   "metadata": {},
   "outputs": [],
   "source": [
    "CROSS_TOT = np.array(CROSS_TOT)"
   ]
  },
  {
   "cell_type": "code",
   "execution_count": 91,
   "id": "c73b87a7-cdb3-48df-86f2-fa29fa2f17b4",
   "metadata": {
    "tags": []
   },
   "outputs": [
    {
     "data": {
      "image/png": "[encoded data removed]",
      "text/plain": [
       "<Figure size 720x432 with 1 Axes>"
      ]
     },
     "metadata": {
      "needs_background": "light"
     },
     "output_type": "display_data"
    }
   ],
   "source": [
    "plt.figure(figsize=(10,6))\n",
    "plt.plot(energies[np.where(energies>=200)], CROSS_TOT[np.where(energies>=200)])\n",
    "plt.show()"
   ]
  },
  {
   "cell_type": "markdown",
   "id": "c780de2f-67bd-4a5a-8536-94503c979ad6",
   "metadata": {},
   "source": [
    "# Raczek et al"
   ]
  },
  {
   "cell_type": "markdown",
   "id": "12061e7b-ea88-46db-a71a-800f6da19bfe",
   "metadata": {
    "tags": []
   },
   "source": [
    "## T20 and T22"
   ]
  },
  {
   "cell_type": "code",
   "execution_count": 177,
   "id": "c1b77eb3-8741-42d0-8e07-60725a8c5bf4",
   "metadata": {},
   "outputs": [],
   "source": [
    "df_raczek_T20 = pd.read_csv(\"Deuteron/ExpData/raczek_mishev_T20.csv\", header=None, skiprows=2,\n",
    "                        names=[\"raczek_X\", \"raczek_Y\", \"raczek_errX\", \"raczek_errY\",\n",
    "                               \"mishev_X\", \"mishev_Y\", \"mishev_errX\", \"mishev_errY\"])\n",
    "df_raczek_T20[\"raczek_err\"] = df_raczek_T20[\"raczek_errY\"] - df_raczek_T20[\"raczek_Y\"]\n",
    "df_raczek_T20[\"mishev_err\"] = df_raczek_T20[\"mishev_errY\"] - df_raczek_T20[\"mishev_Y\"]\n",
    "\n",
    "df_arenh_T20 = pd.read_csv(\"Deuteron/ExpData/arenhovel_T20.csv\", header=None,\n",
    "                        names=[\"energy\", \"T20\"])\n",
    "\n",
    "df_raczek_T22 = pd.read_csv(\"Deuteron/ExpData/raczek_mishev_T22.csv\", header=None, skiprows=2,\n",
    "                        names=[\"raczek_X\", \"raczek_Y\", \"raczek_errX\", \"raczek_errY\",\n",
    "                               \"mishev_X\", \"mishev_Y\", \"mishev_errX\", \"mishev_errY\"])\n",
    "df_raczek_T22[\"raczek_err\"] = df_raczek_T22[\"raczek_errY\"] - df_raczek_T22[\"raczek_Y\"]\n",
    "df_raczek_T22[\"mishev_err\"] = df_raczek_T22[\"mishev_errY\"] - df_raczek_T22[\"mishev_Y\"]\n",
    "\n",
    "df_arenh_T22 = pd.read_csv(\"Deuteron/ExpData/arenhovel_T22.csv\", header=None,\n",
    "                        names=[\"energy\", \"T22\"])"
   ]
  },
  {
   "cell_type": "code",
   "execution_count": 185,
   "id": "718333ab-c112-44f7-8689-9981e7acee28",
   "metadata": {},
   "outputs": [],
   "source": [
    "df_tmp = df[(df.FORCE == \"N4LO+\") &\n",
    "                (df.CUTOFF == 450) &\n",
    "                (df.angle == 88) &\n",
    "                (df.WAVE == \"SIEGERT\")]\n",
    "df_tmp = df_tmp.sort_values(\"Energy\")"
   ]
  },
  {
   "cell_type": "code",
   "execution_count": 197,
   "id": "d3edbf15-66c2-43eb-8155-7dac1a7e1ab9",
   "metadata": {
    "tags": []
   },
   "outputs": [
    {
     "data": {
      "image/png": "[encoded data removed]",
      "text/plain": [
       "<Figure size 468x201.6 with 2 Axes>"
      ]
     },
     "metadata": {
      "needs_background": "light"
     },
     "output_type": "display_data"
    }
   ],
   "source": [
    "fig, ax = plt.subplots(1,2, figsize=(6.5, 2.8))\n",
    "fig.supxlabel(\"E$_\\gamma$, MeV\", y=0.08, size=12)\n",
    "\n",
    "ax[0].plot(df_tmp.Energy, df_tmp.T20D2, label=\"N4LO+\", zorder=2, lw=2)\n",
    "ax[0].plot(df_arenh_T20.energy, df_arenh_T20.T20, label=\"arenhovel\", ls=\"dashed\", zorder=1, lw=2)\n",
    "ax[0].errorbar(df_raczek_T20.raczek_X, df_raczek_T20.raczek_Y, yerr=df_raczek_T20.raczek_err,\n",
    "            fmt=f\"{markers[0]}k\",\n",
    "                    markersize=3, markeredgecolor=\"k\",\n",
    "                   elinewidth=0.5, capsize=2, zorder=3, label=\"Rachek et al\")\n",
    "ax[0].errorbar(df_raczek_T20.mishev_X, df_raczek_T20.mishev_Y, yerr=df_raczek_T20.mishev_err,\n",
    "            fmt=f\"{markers[1]}k\",\n",
    "                    markersize=3, markerfacecolor=\"white\", markeredgecolor=\"k\",\n",
    "                   elinewidth=0.5, capsize=2, zorder=3, label=\"Mishev et al\")\n",
    "# ax[0].legend(fontsize=6)\n",
    "ax[0].tick_params(which='minor', direction='in', length=4, width=0.5, top=True, right=True)\n",
    "ax[0].tick_params(which='major', direction='in', length=7, width=1, top=True, right=True)\n",
    "ax[0].set_ylabel(\"T20\")\n",
    "\n",
    "ax[1].plot(df_tmp.Energy, df_tmp.T22D2, label=\"N4LO+\", zorder=2, lw=2)\n",
    "ax[1].plot(df_arenh_T22.energy, df_arenh_T22.T22, label=\"arenhovel\", ls=\"dashed\", zorder=1, lw=2)\n",
    "ax[1].errorbar(df_raczek_T22.raczek_X, df_raczek_T22.raczek_Y, yerr=df_raczek_T22.raczek_err,\n",
    "            fmt=f\"{markers[0]}k\",\n",
    "                    markersize=3, markeredgecolor=\"k\",\n",
    "                   elinewidth=0.5, capsize=2, zorder=3, label=\"Rachek et al\")\n",
    "ax[1].errorbar(df_raczek_T22.mishev_X, df_raczek_T22.mishev_Y, yerr=df_raczek_T22.mishev_err,\n",
    "            fmt=f\"{markers[1]}k\",\n",
    "                    markersize=3, markerfacecolor=\"white\", markeredgecolor=\"k\",\n",
    "                   elinewidth=0.5, capsize=2, zorder=3, label=\"Mishev et al\")\n",
    "# ax[1].legend(fontsize=6)\n",
    "ax[1].tick_params(which='minor', direction='in', length=4, width=0.5, top=True, right=True)\n",
    "ax[1].tick_params(which='major', direction='in', length=7, width=1, top=True, right=True)\n",
    "ax[1].set_ylabel(\"T22\", x=20)\n",
    "# plt.ylabel(\n",
    "\n",
    "fig.tight_layout()\n",
    "plt.savefig(f\"Figures_python/T20_T22_vs_en.pdf\", dpi=600, facecolor=\"white\")\n",
    "plt.show()"
   ]
  },
  {
   "cell_type": "markdown",
   "id": "443766dc-fe29-4172-b00f-11b2751f1b62",
   "metadata": {},
   "source": [
    "## Angular distribution"
   ]
  },
  {
   "cell_type": "code",
   "execution_count": 249,
   "id": "6fe19e9b-1d43-4b9d-a93b-22adaaf5370d",
   "metadata": {},
   "outputs": [],
   "source": [
    "df_raczek_T20 = pd.read_csv(\"Deuteron/ExpData/raczek_angular_T20_E25-45.csv\", header=None, skiprows=2,\n",
    "                        names=[\"raczek_X\", \"raczek_Y\", \"raczek_errX\", \"raczek_errY\"])\n",
    "df_raczek_T20[\"raczek_err\"] = df_raczek_T20[\"raczek_errY\"] - df_raczek_T20[\"raczek_Y\"]\n",
    "\n",
    "df_raczek_T21 = pd.read_csv(\"Deuteron/ExpData/raczek_angular_T21_E25-45.csv\", header=None, skiprows=2,\n",
    "                        names=[\"raczek_X\", \"raczek_Y\", \"raczek_errX\", \"raczek_errY\"])\n",
    "df_raczek_T21[\"raczek_err\"] = df_raczek_T21[\"raczek_errY\"] - df_raczek_T21[\"raczek_Y\"]\n",
    "\n",
    "df_raczek_T22 = pd.read_csv(\"Deuteron/ExpData/raczek_angular_T22_E25-45.csv\", header=None, skiprows=2,\n",
    "                        names=[\"raczek_X\", \"raczek_Y\", \"raczek_errX\", \"raczek_errY\"])\n",
    "df_raczek_T22[\"raczek_err\"] = df_raczek_T22[\"raczek_errY\"] - df_raczek_T22[\"raczek_Y\"]"
   ]
  },
  {
   "cell_type": "code",
   "execution_count": 232,
   "id": "12c2e913-196a-44cd-825b-0c979c299460",
   "metadata": {},
   "outputs": [],
   "source": [
    "df_tmp = df[(df.FORCE == \"N4LO+\") &\n",
    "                    (df.CUTOFF == 450) &\n",
    "                    (df.Energy >=25) &\n",
    "                    (df.Energy <= 45) &\n",
    "                    (df.WAVE == \"SIEGERT\")]"
   ]
  },
  {
   "cell_type": "code",
   "execution_count": 242,
   "id": "c9c768e1-65a6-4378-86f6-59f48689b77f",
   "metadata": {},
   "outputs": [],
   "source": []
  },
  {
   "cell_type": "code",
   "execution_count": 258,
   "id": "8e9a490d-7097-4278-ac41-07aca8bc6933",
   "metadata": {},
   "outputs": [
    {
     "data": {
      "image/png": "[encoded data removed]",
      "text/plain": [
       "<Figure size 648x201.6 with 3 Axes>"
      ]
     },
     "metadata": {
      "needs_background": "light"
     },
     "output_type": "display_data"
    }
   ],
   "source": [
    "fig, ax = plt.subplots(1,3, figsize=(9, 2.8))\n",
    "fig.suptitle(\"E$_\\gamma$ = 25 - 45 MeV\")\n",
    "fig.supxlabel(\"$\\Theta_\\mathrm{p}$ [deg]\", y=0.08, size=12)\n",
    "# fig.supylabel(ylabel, x=0.03, y=0.6, size=12)\n",
    "\n",
    "df_gr = df_tmp.groupby(\"angle\")[\"T20D2\"].agg(['min', 'max']).reset_index()\n",
    "ax[0].fill_between(df_gr.angle, y1=df_gr[\"min\"], y2=df_gr[\"max\"], color=\"tab:green\", zorder=2, alpha=0.8)\n",
    "ax[0].errorbar(df_raczek_T20.raczek_X, df_raczek_T20.raczek_Y, yerr=df_raczek_T20.raczek_err,\n",
    "            fmt=f\"{markers[0]}k\",\n",
    "                    markersize=3, markeredgecolor=\"k\",\n",
    "                   elinewidth=0.5, capsize=2, zorder=3, label=\"Rachek et al\")\n",
    "ax[0].axhline(c=\"k\", ls=\"dashed\", zorder=1)\n",
    "ax[0].set_ylabel(\"T20\")\n",
    "\n",
    "df_gr = df_tmp.groupby(\"angle\")[\"T21D2\"].agg(['min', 'max']).reset_index()\n",
    "ax[1].fill_between(df_gr.angle, y1=df_gr[\"min\"], y2=df_gr[\"max\"], color=\"tab:green\", zorder=2, alpha=0.8)\n",
    "ax[1].errorbar(df_raczek_T21.raczek_X, df_raczek_T21.raczek_Y, yerr=df_raczek_T21.raczek_err,\n",
    "            fmt=f\"{markers[0]}k\",\n",
    "                    markersize=3, markeredgecolor=\"k\",\n",
    "                   elinewidth=0.5, capsize=2, zorder=3, label=\"Rachek et al\")\n",
    "ax[1].axhline(c=\"k\", ls=\"dashed\", zorder=1)\n",
    "ax[1].set_ylabel(\"T21\")\n",
    "\n",
    "df_gr = df_tmp.groupby(\"angle\")[\"T22D2\"].agg(['min', 'max']).reset_index()\n",
    "ax[2].fill_between(df_gr.angle, y1=df_gr[\"min\"], y2=df_gr[\"max\"], color=\"tab:green\", zorder=2, alpha=0.8)\n",
    "ax[2].errorbar(df_raczek_T22.raczek_X, df_raczek_T22.raczek_Y, yerr=df_raczek_T22.raczek_err,\n",
    "            fmt=f\"{markers[0]}k\",\n",
    "                    markersize=3, markeredgecolor=\"k\",\n",
    "                   elinewidth=0.5, capsize=2, zorder=3, label=\"Rachek et al\")\n",
    "ax[2].axhline(c=\"k\", ls=\"dashed\", zorder=1)\n",
    "ax[2].set_ylabel(\"T22\")\n",
    "fig.tight_layout()\n",
    "\n",
    "plt.savefig(f\"Figures_python/Tensor_analyzing_power_angular_E25-45.pdf\", dpi=600, facecolor=\"white\")\n",
    "plt.show()"
   ]
  },
  {
   "cell_type": "code",
   "execution_count": null,
   "id": "ce7d2b60-b4bc-427b-a8ac-4fdcd78feb46",
   "metadata": {},
   "outputs": [],
   "source": []
  }
 ],
 "metadata": {
  "kernelspec": {
   "display_name": "Python 3",
   "language": "python",
   "name": "python3"
  },
  "language_info": {
   "codemirror_mode": {
    "name": "ipython",
    "version": 3
   },
   "file_extension": ".py",
   "mimetype": "text/x-python",
   "name": "python",
   "nbconvert_exporter": "python",
   "pygments_lexer": "ipython3",
   "version": "3.9.7"
  }
 },
 "nbformat": 4,
 "nbformat_minor": 5
}
