{
 "cells": [
  {
   "cell_type": "code",
   "execution_count": 1,
   "metadata": {
    "tags": []
   },
   "outputs": [],
   "source": [
    "import pandas as pd\n",
    "import numpy as np\n",
    "import matplotlib.pyplot as plt\n",
    "import matplotlib as mpl\n",
    "import numpy as np\n",
    "import seaborn as sns"
   ]
  },
  {
   "cell_type": "code",
   "execution_count": 2,
   "metadata": {},
   "outputs": [],
   "source": [
    "plt.style.use(['science', 'retro'])\n",
    "\n",
    "mpl.rcParams['mathtext.fontset'] = 'custom'\n",
    "mpl.rcParams['mathtext.rm'] = 'DejaVu Sans'\n",
    "mpl.rcParams['mathtext.it'] = 'DejaVu Sans:italic'\n",
    "mpl.rcParams['mathtext.bf'] = 'DejaVu Sans:bold'\n",
    "\n",
    "plt.rcParams[\"font.family\"] = \"sans-serif\"\n",
    "plt.rcParams[\"font.sans-serif\"] = \"DejaVu Sans\"\n",
    "\n",
    "plt.rc('text', usetex=True)\n",
    "plt.rcParams['axes.linewidth'] = 1.2"
   ]
  },
  {
   "cell_type": "code",
   "execution_count": 3,
   "metadata": {
    "tags": []
   },
   "outputs": [],
   "source": [
    "# plt.rcParams.keys()"
   ]
  },
  {
   "cell_type": "code",
   "execution_count": 4,
   "metadata": {},
   "outputs": [],
   "source": [
    "factor = 0.98*1e22"
   ]
  },
  {
   "cell_type": "markdown",
   "metadata": {
    "tags": []
   },
   "source": [
    "# Maps"
   ]
  },
  {
   "cell_type": "code",
   "execution_count": 5,
   "metadata": {
    "tags": []
   },
   "outputs": [],
   "source": [
    "df_xy = pd.read_csv(\"./data_3HE_N4LO+_cut=2/for_Dalitz_plot_with_v4_xy2_w.txt\",\n",
    "                    sep=\" \", skipinitialspace=True, header=None, index_col=0,\n",
    "                   names=[\"ELAB1\", \"ELAB2\", \"ELAB3\", \"x\", \"y\", \"val\"])\n",
    "df_e = pd.read_csv(\"./data_3HE_N4LO+_cut=2/for_Dalitz_plot_with_v4_E1E2.txt\",\n",
    "                    sep=\" \", skipinitialspace=True, header=None, index_col=0,\n",
    "                   names=[\"ELAB1\", \"ELAB2\", \"ELAB3\",\"val\"])\n",
    "df_xy_pw = pd.read_csv(\"./data_3HE_N4LO+_cut=2/for_Dalitz_plot_with_v4_xy2_w_PWIAS.txt\",\n",
    "                    sep=\" \", skipinitialspace=True, header=None, index_col=0,\n",
    "                   names=[\"ELAB1\", \"ELAB2\", \"ELAB3\", \"x\", \"y\", \"val\"])\n",
    "df_e_pw = pd.read_csv(\"./data_3HE_N4LO+_cut=2/for_Dalitz_plot_with_v4_E1E2_PWIAS.txt\",\n",
    "                    sep=\" \", skipinitialspace=True, header=None, index_col=0,\n",
    "                   names=[\"ELAB1\", \"ELAB2\", \"ELAB3\",\"val\"])\n",
    "df_xy_1nc = pd.read_csv(\"./data_3HE_N4LO+_cut=2/for_Dalitz_plot_with_v4_xy2_w_1NC.txt\",\n",
    "                    sep=\" \", skipinitialspace=True, header=None, index_col=0,\n",
    "                   names=[\"ELAB1\", \"ELAB2\", \"ELAB3\", \"x\", \"y\", \"val\"])\n",
    "df_e_1nc = pd.read_csv(\"./data_3HE_N4LO+_cut=2/for_Dalitz_plot_with_v4_E1E2_1NC.txt\",\n",
    "                    sep=\" \", skipinitialspace=True, header=None, index_col=0,\n",
    "                   names=[\"ELAB1\", \"ELAB2\", \"ELAB3\",\"val\"])\n",
    "df_xy_2nf = pd.read_csv(\"./data_3HE_N4LO+_cut=2/for_Dalitz_plot_xy2_w.txt\",\n",
    "                    sep=\" \", skipinitialspace=True, header=None, index_col=0,\n",
    "                   names=[\"ELAB1\", \"ELAB2\", \"ELAB3\", \"x\", \"y\", \"val\"])\n",
    "df_e_2nf = pd.read_csv(\"./data_3HE_N4LO+_cut=2/for_Dalitz_plot_E1E2.txt\",\n",
    "                    sep=\" \", skipinitialspace=True, header=None, index_col=0,\n",
    "                   names=[\"ELAB1\", \"ELAB2\", \"ELAB3\",\"val\"])\n",
    "\n",
    "\n",
    "\n",
    "df_xy_av18 = pd.read_csv(\"../Dalitz_codes/3HE_V4_PWIAS_XY/for_Dalitz_plot_with_v4_xy2_w_PWIAS.txt\",\n",
    "                         sep=\" \", skipinitialspace=True, header=None, index_col=0,\n",
    "                         names=[\"ELAB1\", \"ELAB2\", \"ELAB3\", \"x\", \"y\", \"val\"])\n",
    "df_e_av18 = pd.read_csv(\"../Dalitz_codes/3HE_V4_PWIAS/for_Dalitz_plot_with_v4_E1E2_PWIAS.txt\",\n",
    "                        sep=\" \", skipinitialspace=True, header=None, index_col=0,\n",
    "                        names=[\"ELAB1\", \"ELAB2\", \"ELAB3\", \"val\"])"
   ]
  },
  {
   "cell_type": "markdown",
   "metadata": {
    "tags": []
   },
   "source": [
    "## Dalitz XY"
   ]
  },
  {
   "cell_type": "code",
   "execution_count": 6,
   "metadata": {
    "tags": []
   },
   "outputs": [],
   "source": [
    "\n",
    "newcolors= np.array([[224,224,224], [153, 204, 255], [102, 255, 255],\n",
    "                     [51, 153, 255], [0, 128, 255], [0, 102, 204],\n",
    "                     [0, 51, 102], [0, 25, 51], [25, 0, 51], [0, 0, 0]])\n",
    "bounds_x_pw = np.array([5.0E-08, 1.0E-07, 4.0E-07, 7.0E-07, 1.0E-06, 4.0E-06, 7.0E-06, 1.0E-05, 2.0E-05])*1e22\n",
    "bounds_x_1nc = np.array([6.0E-08, 8.0E-8, 1.0E-07, 2.0E-07, 4.0E-07, 6.0E-07, 8.0E-07, 1.0E-06, 4.0E-06])*1e21\n",
    "# bounds_x_2nf = bounds_x_pw\n",
    "bounds_x_2nf = np.array([5.0E-08, 1.0E-07, 4.0E-07, 7.0E-07, 1.0E-06, 4.0E-06, 7.0E-06, 1.0E-05, 1.3E-05])*1e22\n",
    "bounds_x = np.array([4.0E-08, 7.0E-08, 1.0E-07, 4.0E-07, 7.0E-07, 1.0E-06, 4.0E-06, 7.0E-06, 1.0E-05])*1e22\n",
    "bounds_x_2nf = bounds_x\n",
    "bounds_x_pw = bounds_x\n",
    "\n",
    "\n",
    "cmap = mpl.colors.ListedColormap(newcolors/255)\n",
    "# cmap = mpl.colors.Colormap(\"CMRmap_r\")\n",
    "norm_x = [mpl.colors.BoundaryNorm(b, cmap.N, extend='both') for b in [bounds_x_pw, bounds_x_1nc, bounds_x_2nf, bounds_x]]\n"
   ]
  },
  {
   "cell_type": "code",
   "execution_count": 25,
   "metadata": {},
   "outputs": [
    {
     "data": {
      "text/plain": [
       "0.09863945578231283"
      ]
     },
     "execution_count": 25,
     "metadata": {},
     "output_type": "execute_result"
    }
   ],
   "source": [
    "(2.352-2.12)/2.352"
   ]
  },
  {
   "cell_type": "code",
   "execution_count": 26,
   "metadata": {},
   "outputs": [
    {
     "data": {
      "text/plain": [
       "0.33720930232558133"
      ]
     },
     "execution_count": 26,
     "metadata": {},
     "output_type": "execute_result"
    }
   ],
   "source": [
    "(0.086-0.057)/(0.086)"
   ]
  },
  {
   "cell_type": "code",
   "execution_count": 27,
   "metadata": {},
   "outputs": [
    {
     "data": {
      "text/plain": [
       "0.2654411764705883"
      ]
     },
     "execution_count": 27,
     "metadata": {},
     "output_type": "execute_result"
    }
   ],
   "source": [
    "(1.36-0.999)/1.36"
   ]
  },
  {
   "cell_type": "code",
   "execution_count": 28,
   "metadata": {},
   "outputs": [
    {
     "data": {
      "text/plain": [
       "0.2712727272727273"
      ]
     },
     "execution_count": 28,
     "metadata": {},
     "output_type": "execute_result"
    }
   ],
   "source": [
    "(1.375-1.002)/1.375"
   ]
  },
  {
   "cell_type": "code",
   "execution_count": 29,
   "metadata": {},
   "outputs": [
    {
     "data": {
      "text/plain": [
       "0.0014545454545454558"
      ]
     },
     "execution_count": 29,
     "metadata": {},
     "output_type": "execute_result"
    }
   ],
   "source": [
    "(1.375-1.373)/1.375"
   ]
  },
  {
   "cell_type": "code",
   "execution_count": 30,
   "metadata": {},
   "outputs": [
    {
     "data": {
      "text/plain": [
       "0.0009009009009010016"
      ]
     },
     "execution_count": 30,
     "metadata": {},
     "output_type": "execute_result"
    }
   ],
   "source": [
    "(1.11-1.109)/1.11"
   ]
  },
  {
   "cell_type": "code",
   "execution_count": 32,
   "metadata": {},
   "outputs": [
    {
     "data": {
      "text/plain": [
       "0.0009980039920160797"
      ]
     },
     "execution_count": 32,
     "metadata": {},
     "output_type": "execute_result"
    }
   ],
   "source": [
    "(1.002-1.001)/1.002"
   ]
  },
  {
   "cell_type": "code",
   "execution_count": 33,
   "metadata": {},
   "outputs": [
    {
     "data": {
      "text/plain": [
       "0.0018850141376060337"
      ]
     },
     "execution_count": 33,
     "metadata": {},
     "output_type": "execute_result"
    }
   ],
   "source": [
    "(1.061-1.059)/1.061"
   ]
  },
  {
   "cell_type": "code",
   "execution_count": null,
   "metadata": {},
   "outputs": [],
   "source": []
  },
  {
   "cell_type": "code",
   "execution_count": 34,
   "metadata": {},
   "outputs": [
    {
     "data": {
      "text/html": [
       "<div>\n",
       "<style scoped>\n",
       "    .dataframe tbody tr th:only-of-type {\n",
       "        vertical-align: middle;\n",
       "    }\n",
       "\n",
       "    .dataframe tbody tr th {\n",
       "        vertical-align: top;\n",
       "    }\n",
       "\n",
       "    .dataframe thead th {\n",
       "        text-align: right;\n",
       "    }\n",
       "</style>\n",
       "<table border=\"1\" class=\"dataframe\">\n",
       "  <thead>\n",
       "    <tr style=\"text-align: right;\">\n",
       "      <th></th>\n",
       "      <th>ELAB1</th>\n",
       "      <th>ELAB2</th>\n",
       "      <th>ELAB3</th>\n",
       "      <th>val</th>\n",
       "    </tr>\n",
       "  </thead>\n",
       "  <tbody>\n",
       "    <tr>\n",
       "      <th>1</th>\n",
       "      <td>0.000000</td>\n",
       "      <td>65.926090</td>\n",
       "      <td>65.926090</td>\n",
       "      <td>1.426099e-03</td>\n",
       "    </tr>\n",
       "    <tr>\n",
       "      <th>7</th>\n",
       "      <td>0.439507</td>\n",
       "      <td>65.258890</td>\n",
       "      <td>66.153780</td>\n",
       "      <td>1.143602e-03</td>\n",
       "    </tr>\n",
       "    <tr>\n",
       "      <th>8</th>\n",
       "      <td>0.439507</td>\n",
       "      <td>66.153780</td>\n",
       "      <td>65.258890</td>\n",
       "      <td>1.143602e-03</td>\n",
       "    </tr>\n",
       "    <tr>\n",
       "      <th>6</th>\n",
       "      <td>0.439507</td>\n",
       "      <td>64.363990</td>\n",
       "      <td>67.048680</td>\n",
       "      <td>1.143522e-03</td>\n",
       "    </tr>\n",
       "    <tr>\n",
       "      <th>9</th>\n",
       "      <td>0.439507</td>\n",
       "      <td>67.048680</td>\n",
       "      <td>64.363990</td>\n",
       "      <td>1.143522e-03</td>\n",
       "    </tr>\n",
       "    <tr>\n",
       "      <th>...</th>\n",
       "      <td>...</td>\n",
       "      <td>...</td>\n",
       "      <td>...</td>\n",
       "      <td>...</td>\n",
       "    </tr>\n",
       "    <tr>\n",
       "      <th>6697</th>\n",
       "      <td>84.824900</td>\n",
       "      <td>37.052560</td>\n",
       "      <td>9.974722</td>\n",
       "      <td>1.394837e-07</td>\n",
       "    </tr>\n",
       "    <tr>\n",
       "      <th>6667</th>\n",
       "      <td>84.824900</td>\n",
       "      <td>9.974722</td>\n",
       "      <td>37.052560</td>\n",
       "      <td>1.394837e-07</td>\n",
       "    </tr>\n",
       "    <tr>\n",
       "      <th>6698</th>\n",
       "      <td>85.703920</td>\n",
       "      <td>11.629320</td>\n",
       "      <td>34.518940</td>\n",
       "      <td>1.363928e-07</td>\n",
       "    </tr>\n",
       "    <tr>\n",
       "      <th>6724</th>\n",
       "      <td>85.703920</td>\n",
       "      <td>34.518940</td>\n",
       "      <td>11.629320</td>\n",
       "      <td>1.363928e-07</td>\n",
       "    </tr>\n",
       "    <tr>\n",
       "      <th>6758</th>\n",
       "      <td>87.901450</td>\n",
       "      <td>21.975360</td>\n",
       "      <td>21.975360</td>\n",
       "      <td>9.901612e-08</td>\n",
       "    </tr>\n",
       "  </tbody>\n",
       "</table>\n",
       "<p>6758 rows × 4 columns</p>\n",
       "</div>"
      ],
      "text/plain": [
       "          ELAB1      ELAB2      ELAB3           val\n",
       "1      0.000000  65.926090  65.926090  1.426099e-03\n",
       "7      0.439507  65.258890  66.153780  1.143602e-03\n",
       "8      0.439507  66.153780  65.258890  1.143602e-03\n",
       "6      0.439507  64.363990  67.048680  1.143522e-03\n",
       "9      0.439507  67.048680  64.363990  1.143522e-03\n",
       "...         ...        ...        ...           ...\n",
       "6697  84.824900  37.052560   9.974722  1.394837e-07\n",
       "6667  84.824900   9.974722  37.052560  1.394837e-07\n",
       "6698  85.703920  11.629320  34.518940  1.363928e-07\n",
       "6724  85.703920  34.518940  11.629320  1.363928e-07\n",
       "6758  87.901450  21.975360  21.975360  9.901612e-08\n",
       "\n",
       "[6758 rows x 4 columns]"
      ]
     },
     "execution_count": 34,
     "metadata": {},
     "output_type": "execute_result"
    }
   ],
   "source": [
    "df_e_pw.sort_values(\"val\", ascending=False)"
   ]
  },
  {
   "cell_type": "code",
   "execution_count": 39,
   "metadata": {},
   "outputs": [
    {
     "data": {
      "text/html": [
       "<div>\n",
       "<style scoped>\n",
       "    .dataframe tbody tr th:only-of-type {\n",
       "        vertical-align: middle;\n",
       "    }\n",
       "\n",
       "    .dataframe tbody tr th {\n",
       "        vertical-align: top;\n",
       "    }\n",
       "\n",
       "    .dataframe thead th {\n",
       "        text-align: right;\n",
       "    }\n",
       "</style>\n",
       "<table border=\"1\" class=\"dataframe\">\n",
       "  <thead>\n",
       "    <tr style=\"text-align: right;\">\n",
       "      <th></th>\n",
       "      <th>ELAB1</th>\n",
       "      <th>ELAB2</th>\n",
       "      <th>ELAB3</th>\n",
       "      <th>val</th>\n",
       "    </tr>\n",
       "  </thead>\n",
       "  <tbody>\n",
       "    <tr>\n",
       "      <th>1</th>\n",
       "      <td>0.000000</td>\n",
       "      <td>65.92609</td>\n",
       "      <td>65.92609</td>\n",
       "      <td>0.001426</td>\n",
       "    </tr>\n",
       "    <tr>\n",
       "      <th>7</th>\n",
       "      <td>0.439507</td>\n",
       "      <td>65.25889</td>\n",
       "      <td>66.15378</td>\n",
       "      <td>0.001144</td>\n",
       "    </tr>\n",
       "    <tr>\n",
       "      <th>8</th>\n",
       "      <td>0.439507</td>\n",
       "      <td>66.15378</td>\n",
       "      <td>65.25889</td>\n",
       "      <td>0.001144</td>\n",
       "    </tr>\n",
       "    <tr>\n",
       "      <th>6</th>\n",
       "      <td>0.439507</td>\n",
       "      <td>64.36399</td>\n",
       "      <td>67.04868</td>\n",
       "      <td>0.001144</td>\n",
       "    </tr>\n",
       "    <tr>\n",
       "      <th>9</th>\n",
       "      <td>0.439507</td>\n",
       "      <td>67.04868</td>\n",
       "      <td>64.36399</td>\n",
       "      <td>0.001144</td>\n",
       "    </tr>\n",
       "  </tbody>\n",
       "</table>\n",
       "</div>"
      ],
      "text/plain": [
       "      ELAB1     ELAB2     ELAB3       val\n",
       "1  0.000000  65.92609  65.92609  0.001426\n",
       "7  0.439507  65.25889  66.15378  0.001144\n",
       "8  0.439507  66.15378  65.25889  0.001144\n",
       "6  0.439507  64.36399  67.04868  0.001144\n",
       "9  0.439507  67.04868  64.36399  0.001144"
      ]
     },
     "execution_count": 39,
     "metadata": {},
     "output_type": "execute_result"
    }
   ],
   "source": [
    "df_e_pw.sort_values(\"val\", ascending=False).head(5)"
   ]
  },
  {
   "cell_type": "code",
   "execution_count": 40,
   "metadata": {},
   "outputs": [
    {
     "data": {
      "text/html": [
       "<div>\n",
       "<style scoped>\n",
       "    .dataframe tbody tr th:only-of-type {\n",
       "        vertical-align: middle;\n",
       "    }\n",
       "\n",
       "    .dataframe tbody tr th {\n",
       "        vertical-align: top;\n",
       "    }\n",
       "\n",
       "    .dataframe thead th {\n",
       "        text-align: right;\n",
       "    }\n",
       "</style>\n",
       "<table border=\"1\" class=\"dataframe\">\n",
       "  <thead>\n",
       "    <tr style=\"text-align: right;\">\n",
       "      <th></th>\n",
       "      <th>ELAB1</th>\n",
       "      <th>ELAB2</th>\n",
       "      <th>ELAB3</th>\n",
       "      <th>val</th>\n",
       "    </tr>\n",
       "  </thead>\n",
       "  <tbody>\n",
       "    <tr>\n",
       "      <th>1</th>\n",
       "      <td>0.000000</td>\n",
       "      <td>65.92609</td>\n",
       "      <td>65.92609</td>\n",
       "      <td>0.000552</td>\n",
       "    </tr>\n",
       "    <tr>\n",
       "      <th>2</th>\n",
       "      <td>0.439507</td>\n",
       "      <td>60.78442</td>\n",
       "      <td>70.62826</td>\n",
       "      <td>0.000431</td>\n",
       "    </tr>\n",
       "    <tr>\n",
       "      <th>13</th>\n",
       "      <td>0.439507</td>\n",
       "      <td>70.62826</td>\n",
       "      <td>60.78442</td>\n",
       "      <td>0.000431</td>\n",
       "    </tr>\n",
       "    <tr>\n",
       "      <th>3</th>\n",
       "      <td>0.439507</td>\n",
       "      <td>61.67931</td>\n",
       "      <td>69.73336</td>\n",
       "      <td>0.000430</td>\n",
       "    </tr>\n",
       "    <tr>\n",
       "      <th>12</th>\n",
       "      <td>0.439507</td>\n",
       "      <td>69.73336</td>\n",
       "      <td>61.67931</td>\n",
       "      <td>0.000430</td>\n",
       "    </tr>\n",
       "  </tbody>\n",
       "</table>\n",
       "</div>"
      ],
      "text/plain": [
       "       ELAB1     ELAB2     ELAB3       val\n",
       "1   0.000000  65.92609  65.92609  0.000552\n",
       "2   0.439507  60.78442  70.62826  0.000431\n",
       "13  0.439507  70.62826  60.78442  0.000431\n",
       "3   0.439507  61.67931  69.73336  0.000430\n",
       "12  0.439507  69.73336  61.67931  0.000430"
      ]
     },
     "execution_count": 40,
     "metadata": {},
     "output_type": "execute_result"
    }
   ],
   "source": [
    "df_e.sort_values(\"val\", ascending=False).head(5)"
   ]
  },
  {
   "cell_type": "code",
   "execution_count": 7,
   "metadata": {
    "tags": []
   },
   "outputs": [
    {
     "data": {
      "image/png": "[encoded data removed]",
      "text/plain": [
       "<Figure size 540x504 with 8 Axes>"
      ]
     },
     "metadata": {
      "needs_background": "light"
     },
     "output_type": "display_data"
    }
   ],
   "source": [
    "fig = plt.figure(figsize=(7.5,7))\n",
    "fig.suptitle(r\"d$^2\\Gamma_{\\text{pnn}}$/dxdy[s$^\\text{-1}$] (N4LO+ with $\\Lambda$=450 [MeV])\", size=14)\n",
    "fig.supxlabel(\"x\", y=0.05, size=12)\n",
    "fig.supylabel(\"y\", x=0.03, size=12)\n",
    "\n",
    "for i, (df, title) in enumerate(zip([df_xy_pw, df_xy_1nc, df_xy_2nf, df_xy],\n",
    "                                  [\"PWIAS\", \"1NC only\", \"2NF only\", \"2NF + 3NF\"])):\n",
    "    ax = plt.subplot(221 + i)\n",
    "    p = plt.scatter(df.x, df.y, c=df.val*factor, cmap=cmap, norm=norm_x[i], marker=\"s\", s=6.5, edgecolors='none')\n",
    "    ax.set_aspect('equal', adjustable='box')\n",
    "    # plt.title(title)\n",
    "    plt.minorticks_on()\n",
    "    plt.xticks(ticks=np.arange(-1, 1.1, 0.5))\n",
    "    plt.yticks(ticks=np.arange(-1, 1.1, 0.5))\n",
    "    plt.tick_params(which='minor', direction='in', length=4, width=0.5, top=True, right=True)\n",
    "    plt.tick_params(which='major', direction='in', length=7, width=1, top=True, right=True)\n",
    "    plt.grid(which='major', alpha=0.3)\n",
    "    cbar = plt.colorbar(p, ax=ax, shrink=0.8, pad=0.03)\n",
    "    cbar.ax.get_yaxis().get_offset_text().set_x(3.0)\n",
    "    cbar.ax.minorticks_off()\n",
    "    # if i < 2:\n",
    "    #     ax.set_xticklabels([])\n",
    "    # if i % 2 != 0:\n",
    "    #     ax.set_yticklabels([])\n",
    "        # cbar.set_label('$d^2\\Gamma_{\\text{pnn}}/dxdy[s^{-1}]$')\n",
    "plt.tight_layout()\n",
    "# aplt.savefig(\"./figures/Dalitz_map_pnn_xy.pdf\", dpi=600, facecolor=\"white\")\n",
    "plt.show()"
   ]
  },
  {
   "cell_type": "markdown",
   "metadata": {
    "tags": []
   },
   "source": [
    "## Dalitz E1E2"
   ]
  },
  {
   "cell_type": "code",
   "execution_count": 17,
   "metadata": {
    "tags": []
   },
   "outputs": [],
   "source": [
    "bounds_e_pw = np.array([7.0E-07, 1.0E-06, 4.0E-06, 7.0E-06,\n",
    "                        1.0E-05, 4.0E-05, 7.0E-05, 1.0E-04,\n",
    "                        5.0E-04])*1e22\n",
    "# bounds_e_1nc = np.array([2.0E-07, 4.5E-7, 7.0E-7, 1.0E-06,\n",
    "#                          5.0E-06, 1.0E-05, 5.0E-05, 1.0E-04,\n",
    "#                         1.2E-04])*1e21\n",
    "bounds_e_1nc = np.array([2.0E-07, 4.5E-7, 7.0E-7, 1.0E-06,\n",
    "                         5.0E-06, 1.0E-05, 5.0E-05, 1.0E-04,\n",
    "                        1.2E-04])*1e22\n",
    "bounds_e_2nf = np.array([5.0E-07, 1.0E-06, 4.0E-06, 7.0E-06,\n",
    "                         1.0E-05, 5.0E-05, 1.0E-04, 2.0E-04,\n",
    "                        3.5E-04])*1e22\n",
    "bounds_e = np.array([5.0E-07, 7.0E-07, 1.0E-06, 4.0E-06, 7.0E-06, 1.0E-05, 5.0E-05, 1.0E-04, 3.0E-04])*1e22\n",
    "bounds_e_2nf = bounds_e\n",
    "bounds_e_pw = bounds_e\n",
    "\n",
    "\n",
    "norm_e = [mpl.colors.BoundaryNorm(b, cmap.N, extend='both') for b in [bounds_e_pw, bounds_e_1nc, bounds_e_2nf, bounds_e]]"
   ]
  },
  {
   "cell_type": "code",
   "execution_count": 18,
   "metadata": {
    "tags": []
   },
   "outputs": [
    {
     "data": {
      "image/png": "[encoded data removed]",
      "text/plain": [
       "<Figure size 540x504 with 8 Axes>"
      ]
     },
     "metadata": {
      "needs_background": "light"
     },
     "output_type": "display_data"
    }
   ],
   "source": [
    "fig = plt.figure(figsize=(7.5,7))\n",
    "fig.suptitle(r\"d$^2\\Gamma_{\\text{pnn}}$/dE$_\\text{1}$dE$_\\text{2}$[fm$^2$s$^\\text{-1}$] (N4LO+ with $\\Lambda$=450 [MeV])\", size=14)\n",
    "fig.supxlabel(r\"E$_\\text{1}$ [MeV]\", y=0.05, size=12)\n",
    "fig.supylabel(r\"E$_\\text{2}$ [MeV]\", x=0.03, size=12)\n",
    "\n",
    "for i, (df, title) in enumerate(zip([df_e_pw, df_e_1nc, df_e_2nf, df_e],\n",
    "                                  [\"PWIAS\", \"1NC only\", \"2NF only\", \"2NF + 3NF\"])):\n",
    "    ax = plt.subplot(221 + i)\n",
    "    p = plt.scatter(df.ELAB1, df.ELAB2, c=df.val*factor, cmap=cmap, norm=norm_e[i], marker=\"s\", s=6.5, edgecolors='none')\n",
    "    ax.set_aspect('equal', adjustable='box')\n",
    "    # plt.title(title)\n",
    "    plt.minorticks_on()\n",
    "    # plt.xticks(ticks=np.arange(-1, 1.1, 0.5))\n",
    "    # plt.yticks(ticks=np.arange(-1, 1.1, 0.5))\n",
    "    plt.tick_params(which='minor', direction='in', length=4, width=0.5, top=True, right=True)\n",
    "    plt.tick_params(which='major', direction='in', length=7, width=1, top=True, right=True)\n",
    "    plt.grid(which='major', alpha=0.3)\n",
    "    cbar = plt.colorbar(p, ax=ax, shrink=0.8, pad=0.03)\n",
    "    cbar.ax.get_yaxis().get_offset_text().set_x(3.0)\n",
    "    cbar.ax.minorticks_off()\n",
    "    # if i < 2:\n",
    "    #     ax.set_xticklabels([])\n",
    "    # if i % 2 != 0:\n",
    "    #     ax.set_yticklabels([])\n",
    "        # cbar.set_label('$d^2\\Gamma_{\\text{pnn}}/dxdy[s^{-1}]$')\n",
    "plt.tight_layout()\n",
    "plt.savefig(\"./figures/Dalitz_map_pnn_E1E2.pdf\", dpi=600, facecolor=\"white\")"
   ]
  },
  {
   "cell_type": "markdown",
   "metadata": {
    "tags": []
   },
   "source": [
    "# Other"
   ]
  },
  {
   "cell_type": "markdown",
   "metadata": {
    "tags": []
   },
   "source": [
    "##  $d\\Gamma$/dE"
   ]
  },
  {
   "cell_type": "code",
   "execution_count": 19,
   "metadata": {
    "tags": []
   },
   "outputs": [],
   "source": [
    "df_en = pd.read_csv(\"./data_3HE_N4LO+_cut=2/for_Dalitz_plot_with_v4_dGammadEn.txt\",\n",
    "                    sep=\" \", skipinitialspace=True, header=None, index_col=None, skiprows=1,\n",
    "                    names=[\"energy\", \"dGdq\", \"dGdE\"])\n",
    "df_en_pw = pd.read_csv(\"./data_3HE_N4LO+_cut=2/for_Dalitz_plot_with_v4_dGammadEn_PW.txt\",\n",
    "                    sep=\" \", skipinitialspace=True, header=None, index_col=None, skiprows=1,\n",
    "                    names=[\"energy\", \"dGdq\", \"dGdE\"])\n",
    "df_en_1nc = pd.read_csv(\"./data_3HE_N4LO+_cut=2/for_Dalitz_plot_with_v4_dGammadEn_1NC.txt\",\n",
    "                    sep=\" \", skipinitialspace=True, header=None, index_col=None, skiprows=1,\n",
    "                    names=[\"energy\", \"dGdq\", \"dGdE\"])\n",
    "df_en_2nf = pd.read_csv(\"./data_3HE_N4LO+_cut=2/for_Dalitz_plot_dGammadEn.txt\",\n",
    "                    sep=\" \", skipinitialspace=True, header=None, index_col=None, skiprows=1,\n",
    "                    names=[\"energy\", \"dGdq\", \"dGdE\"])\n",
    "df_ep = pd.read_csv(\"./data_3HE_N4LO+_cut=2/for_Dalitz_plot_with_v4_dGammadEp.txt\",\n",
    "                    sep=\" \", skipinitialspace=True, header=None, index_col=None, skiprows=1,\n",
    "                    names=[\"energy\", \"dGdq\", \"dGdE\"])\n",
    "df_ep_pw = pd.read_csv(\"./data_3HE_N4LO+_cut=2/for_Dalitz_plot_with_v4_dGammadEp_PW.txt\",\n",
    "                    sep=\" \", skipinitialspace=True, header=None, index_col=None, skiprows=1,\n",
    "                    names=[\"energy\", \"dGdq\", \"dGdE\"])\n",
    "df_ep_1nc = pd.read_csv(\"./data_3HE_N4LO+_cut=2/for_Dalitz_plot_with_v4_dGammadEp_1NC.txt\",\n",
    "                    sep=\" \", skipinitialspace=True, header=None, index_col=None, skiprows=1,\n",
    "                    names=[\"energy\", \"dGdq\", \"dGdE\"])\n",
    "df_ep_2nf = pd.read_csv(\"./data_3HE_N4LO+_cut=2/for_Dalitz_plot_dGammadEp.txt\",\n",
    "                    sep=\" \", skipinitialspace=True, header=None, index_col=None, skiprows=1,\n",
    "                    names=[\"energy\", \"dGdq\", \"dGdE\"])"
   ]
  },
  {
   "cell_type": "code",
   "execution_count": 20,
   "metadata": {
    "tags": []
   },
   "outputs": [
    {
     "data": {
      "image/png": "[encoded data removed]",
      "text/plain": [
       "<Figure size 540x201.6 with 2 Axes>"
      ]
     },
     "metadata": {
      "needs_background": "light"
     },
     "output_type": "display_data"
    }
   ],
   "source": [
    "fig, ax = plt.subplots(1,2,figsize=(7.5, 2.8))\n",
    "ax[0].plot(df_ep.energy, df_ep.dGdE*factor, label=\"with 3NF\", c=\"k\")\n",
    "ax[0].plot(df_ep_2nf.energy, df_ep_2nf.dGdE*factor, label=\"2NF only\", c=\"k\", ls=\"--\")\n",
    "ax[0].plot(df_ep_1nc.energy, df_ep_1nc.dGdE*factor, label=\"1NC\", c=\"k\", ls=\":\")\n",
    "ax[0].plot(df_ep_pw.energy, df_ep_pw.dGdE*factor, label=\"PWIAS\", c=\"k\", ls=\"-.\")\n",
    "ax[1].plot(df_en.energy, df_en.dGdE*factor, label=\"with 3NF\", c=\"k\")\n",
    "ax[1].plot(df_en_2nf.energy, df_en_2nf.dGdE*factor, label=\"2NF only\", c=\"k\", ls=\"--\")\n",
    "ax[1].plot(df_en_1nc.energy, df_en_1nc.dGdE*factor, label=\"1NC\", c=\"k\", ls=\":\")\n",
    "ax[1].plot(df_en_pw.energy, df_en_pw.dGdE*factor, label=\"PWIAS\", c=\"k\", ls=\"-.\")\n",
    "\n",
    "# plt.minorticks_on()\n",
    "# plt.xticks(ticks=np.arange(-1, 1.1, 0.5))\n",
    "# plt.yticks(ticks=np.arange(-1, 1.1, 0.5))\n",
    "for axx in ax:\n",
    "    axx.set_yscale(\"log\")\n",
    "    axx.tick_params(which='minor', direction='in', length=3, width=0.5, top=True, right=True)\n",
    "    axx.tick_params(which='major', direction='in', length=5, width=1, top=True, right=True)\n",
    "ax[0].set_ylabel(r\"d$\\Gamma_{\\text{pnn}}$/dE$_\\text{p}$[fm/s]\")\n",
    "ax[0].set_xlabel(r\"E$_\\text{p}$[1/fm]\")\n",
    "ax[1].set_ylabel(r\"d$\\Gamma_{\\text{pnn}}$/dE$_\\text{n}$[fm/s]\")\n",
    "ax[1].set_xlabel(r\"E$_\\text{n}$[1/fm]\")\n",
    "# plt.legend()\n",
    "plt.tight_layout()\n",
    "plt.savefig(\"./figures/3HE_dGdE.pdf\", dpi=600, facecolor=\"white\")\n",
    "plt.show()"
   ]
  },
  {
   "cell_type": "markdown",
   "metadata": {},
   "source": [
    "## d$\\Gamma$/dr"
   ]
  },
  {
   "cell_type": "code",
   "execution_count": 21,
   "metadata": {
    "tags": []
   },
   "outputs": [],
   "source": [
    "colnames=[\"r\", \"dGdr\", \"DUMMY\"]\n",
    "df_r = pd.read_csv(\"./data_3HE_N4LO+_cut=2/dgammadr_with_v4.txt\",\n",
    "                    sep=\" \", skipinitialspace=True, header=None, index_col=None, skiprows=1,\n",
    "                    names=colnames)\n",
    "df_r_pw = pd.read_csv(\"./data_3HE_N4LO+_cut=2/dgammadr_with_v4_PWIAS.txt\",\n",
    "                    sep=\" \", skipinitialspace=True, header=None, index_col=None, skiprows=1,\n",
    "                    names=colnames)\n",
    "df_r_1nc = pd.read_csv(\"./data_3HE_N4LO+_cut=2/dgammadr_with_v4_1NC.txt\",\n",
    "                    sep=\" \", skipinitialspace=True, header=None, index_col=None, skiprows=1,\n",
    "                    names=colnames)\n",
    "df_r_2nf = pd.read_csv(\"./data_3HE_N4LO+_cut=2/dgammadr.txt\",\n",
    "                    sep=\" \", skipinitialspace=True, header=None, index_col=None, skiprows=1,\n",
    "                    names=colnames)"
   ]
  },
  {
   "cell_type": "code",
   "execution_count": 22,
   "metadata": {
    "tags": []
   },
   "outputs": [
    {
     "data": {
      "image/png": "[encoded data removed]",
      "text/plain": [
       "<Figure size 288x216 with 1 Axes>"
      ]
     },
     "metadata": {
      "needs_background": "light"
     },
     "output_type": "display_data"
    }
   ],
   "source": [
    "plt.figure(figsize=(4,3))\n",
    "scale=0\n",
    "plt.plot(df_r.r, df_r.dGdr*factor*10**(-scale), label=\"with 3NF\", c=\"k\")\n",
    "plt.plot(df_r_2nf.r, df_r_2nf.dGdr*factor*10**(-scale), label=\"2NF only\", c=\"k\", ls=\"--\")\n",
    "plt.plot(df_r_1nc.r, df_r_1nc.dGdr*factor*10**(-scale), label=\"1NC\", c=\"k\", ls=\":\")\n",
    "plt.plot(df_r_pw.r, df_r_pw.dGdr*factor*10**(-scale), label=\"PWIAS\", c=\"k\", ls=\"-.\")\n",
    "# plt.legend()\n",
    "\n",
    "plt.yscale(\"log\")\n",
    "plt.tick_params(which='minor', direction='in', length=3, width=0.5, top=True, right=True)\n",
    "plt.tick_params(which='major', direction='in', length=5, width=1, top=True, right=True)\n",
    "plt.ylabel(r\"d$\\Gamma_{\\text{pnn}}$/dr[s$^{\\text{-1}}$]\")\n",
    "# plt.ylabel(\"d$\\Gamma_{\\text{pnn}}$/dr[10$^{12}~$s$^\\text{-1}$]\")\n",
    "plt.xlabel(\"r\")\n",
    "\n",
    "plt.savefig(\"./figures/3HE_dGdr.pdf\", dpi=600, facecolor=\"white\")\n",
    "plt.show()"
   ]
  },
  {
   "cell_type": "markdown",
   "metadata": {
    "tags": []
   },
   "source": [
    "## d$\\Gamma$/d$\\phi$"
   ]
  },
  {
   "cell_type": "code",
   "execution_count": 23,
   "metadata": {
    "tags": []
   },
   "outputs": [],
   "source": [
    "colnames=[\"phi\", \"dGdphi\", \"DUMMY\"]\n",
    "df_phi = pd.read_csv(\"./data_3HE_N4LO+_cut=2/dgammadphi_with_v4.txt\",\n",
    "                    sep=\" \", skipinitialspace=True, header=None, index_col=None, skiprows=1,\n",
    "                    names=colnames)\n",
    "df_phi_pw = pd.read_csv(\"./data_3HE_N4LO+_cut=2/dgammadphi_with_v4_PWIAS.txt\",\n",
    "                    sep=\" \", skipinitialspace=True, header=None, index_col=None, skiprows=1,\n",
    "                    names=colnames)\n",
    "df_phi_1nc = pd.read_csv(\"./data_3HE_N4LO+_cut=2/dgammadphi_with_v4_1NC.txt\",\n",
    "                    sep=\" \", skipinitialspace=True, header=None, index_col=None, skiprows=1,\n",
    "                    names=colnames)\n",
    "df_phi_2nf = pd.read_csv(\"./data_3HE_N4LO+_cut=2/dgammadphi.txt\",\n",
    "                    sep=\" \", skipinitialspace=True, header=None, index_col=None, skiprows=1,\n",
    "                    names=colnames)"
   ]
  },
  {
   "cell_type": "code",
   "execution_count": 24,
   "metadata": {},
   "outputs": [
    {
     "data": {
      "image/png": "[encoded data removed]",
      "text/plain": [
       "<Figure size 288x216 with 1 Axes>"
      ]
     },
     "metadata": {
      "needs_background": "light"
     },
     "output_type": "display_data"
    }
   ],
   "source": [
    "plt.figure(figsize=(4,3))\n",
    "scale=0\n",
    "plt.plot(df_phi.phi*180/np.pi, df_phi.dGdphi*factor*10**(-scale), label=\"with 3NF\", c=\"k\")\n",
    "plt.plot(df_phi_2nf.phi*180/np.pi, df_phi_2nf.dGdphi*factor*10**(-scale), label=\"2NF only\", c=\"k\", ls=\"--\")\n",
    "plt.plot(df_phi_1nc.phi*180/np.pi, df_phi_1nc.dGdphi*factor*10**(-scale), label=\"1NC\", c=\"k\", ls=\":\")\n",
    "plt.plot(df_phi_pw.phi*180/np.pi, df_phi_pw.dGdphi*factor*10**(-scale), label=\"PWIAS\", c=\"k\", ls=\"-.\")\n",
    "# plt.legend()\n",
    "\n",
    "plt.yscale(\"log\")\n",
    "plt.tick_params(which='minor', direction='in', length=3, width=0.5, top=True, right=True)\n",
    "plt.tick_params(which='major', direction='in', length=5, width=1, top=True, right=True)\n",
    "plt.ylabel(r\"d$\\Gamma_{\\text{pnn}}\\,^{\\text{ring}}$/d$\\Phi$[s~rad$^{\\text{-1}}$]\")\n",
    "# plt.ylabel(f\"d$\\Gamma_{{pnn}}\\,^{{ring}}$/d$\\Phi$[10$^{{{scale}}}$~s~rad$^{{-1}}$]\")\n",
    "plt.xlabel(r\"$\\Phi$ [deg]\")\n",
    "plt.xlim([0, 180])\n",
    "\n",
    "plt.savefig(\"./figures/3HE_dGdphi.pdf\", dpi=600, facecolor=\"white\")\n",
    "plt.show()"
   ]
  },
  {
   "cell_type": "code",
   "execution_count": null,
   "metadata": {},
   "outputs": [],
   "source": []
  }
 ],
 "metadata": {
  "kernelspec": {
   "display_name": "Python 3 (ipykernel)",
   "language": "python",
   "name": "python3"
  },
  "language_info": {
   "codemirror_mode": {
    "name": "ipython",
    "version": 3
   },
   "file_extension": ".py",
   "mimetype": "text/x-python",
   "name": "python",
   "nbconvert_exporter": "python",
   "pygments_lexer": "ipython3",
   "version": "3.8.12"
  }
 },
 "nbformat": 4,
 "nbformat_minor": 5
}
