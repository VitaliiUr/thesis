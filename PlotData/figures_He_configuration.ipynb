{
 "cells": [
  {
   "cell_type": "code",
   "execution_count": 1,
   "id": "8b254ecb-c0ff-4e6c-bd64-7019a6aa7d3d",
   "metadata": {},
   "outputs": [],
   "source": [
    "import os\n",
    "import numpy as np\n",
    "import pandas as pd\n",
    "import matplotlib.pyplot as plt\n",
    "import matplotlib as mpl\n",
    "import seaborn as sns"
   ]
  },
  {
   "cell_type": "code",
   "execution_count": 2,
   "id": "34a2b905-00ae-44b2-af7d-98c4ff5ff311",
   "metadata": {},
   "outputs": [],
   "source": [
    "%matplotlib widget"
   ]
  },
  {
   "cell_type": "code",
   "execution_count": 3,
   "id": "45291aa8",
   "metadata": {},
   "outputs": [],
   "source": [
    "FORCES = [\"LO\", \"NLO\", \"N2LO\", \"N3LO\", \"N4LO\", \"N4LO+\"]\n",
    "CUTOFF = [400, 450, 500, 550]\n",
    "\n",
    "plt.style.use(['science', 'retro'])\n",
    "\n",
    "mpl.rcParams['mathtext.fontset'] = 'custom'\n",
    "mpl.rcParams['mathtext.rm'] = 'DejaVu Sans'\n",
    "mpl.rcParams['mathtext.it'] = 'DejaVu Sans:italic'\n",
    "mpl.rcParams['mathtext.bf'] = 'DejaVu Sans:bold'\n",
    "\n",
    "plt.rcParams[\"font.family\"] = \"sans-serif\"\n",
    "plt.rcParams[\"font.sans-serif\"] = \"DejaVu Sans\"\n",
    "\n",
    "plt.rc('text', usetex=True)\n",
    "plt.rcParams['axes.linewidth'] = 1.2\n",
    "mpl.rcParams['lines.linewidth'] = 2\n",
    "\n",
    "line_styles = {\"LO\": {\"marker\": \"d\", \"markevery\": 10, \"markersize\": 3, \"color\": \"tab:cyan\"},\n",
    "               \"NLO\": {\"marker\": \".\", \"markevery\": 10, \"color\": \"orange\"},\n",
    "               \"N2LO\": {\"ls\":  (0, (5, 3)), \"color\": \"green\"},\n",
    "               \"N3LO\": {\"ls\": \"dotted\", \"color\": \"blue\"},\n",
    "               \"N4LO\": {\"ls\": (0, (5, 2, 0.8, 2, 0.8, 2)), \"color\": \"red\"},\n",
    "               \"N4LO+\": {\"color\": \"black\"},\n",
    "               \"AV18\": {\"ls\": (0, (5, 2, 1.3, 2,)), \"color\": \"blueviolet\"},\n",
    "               \"SIEGERT\": {\"color\": \"blue\"},\n",
    "               \"1NC\": {\"color\": \"deeppink\", \"ls\": \"dashed\"}\n",
    "               }\n",
    "ls_cutoff = {400: line_styles[\"N4LO\"],\n",
    "             450: line_styles[\"N4LO+\"],\n",
    "             500: line_styles[\"N2LO\"],\n",
    "             550: line_styles[\"N3LO\"],\n",
    "             }\n",
    "\n",
    "trunc_colors = {\n",
    "    \"NLO\": \"bisque\",\n",
    "    \"N2LO\": \"limegreen\",\n",
    "    \"N3LO\": \"dodgerblue\",\n",
    "    \"N4LO\": \"red\",\n",
    "    \"N4LO+\": \"black\",\n",
    "}\n",
    "\n",
    "marker_common = {\"markersize\": 6, \"elinewidth\": 0.9, \"capsize\": 2.5}\n"
   ]
  },
  {
   "cell_type": "code",
   "execution_count": 4,
   "id": "07f1b105-27cd-4cf1-9528-c89171b08c5c",
   "metadata": {},
   "outputs": [],
   "source": [
    "# src0 = \"He_photodis/newdata/\"\n",
    "# src = \"He_photodis/HE_2\"\n",
    "forces = [\"LO\", \"NLO\", \"N2LO\", \"N3LO\", \"N4LO\", \"N4LO+\"]"
   ]
  },
  {
   "cell_type": "markdown",
   "id": "884f86e6",
   "metadata": {},
   "source": [
    "## ppn"
   ]
  },
  {
   "cell_type": "markdown",
   "id": "769c7b8a",
   "metadata": {},
   "source": [
    "### Exclusive"
   ]
  },
  {
   "cell_type": "code",
   "execution_count": 21,
   "id": "e6454c46",
   "metadata": {},
   "outputs": [],
   "source": [
    "df_3NF = pd.read_csv(\"./He_photodis/configurations_data.csv\")\n",
    "df = pd.read_csv(\"./He_photodis/configurations_data_2NF.csv\")"
   ]
  },
  {
   "cell_type": "code",
   "execution_count": 6,
   "id": "0b0014fc",
   "metadata": {},
   "outputs": [
    {
     "data": {
      "text/html": [
       "<div>\n",
       "<style scoped>\n",
       "    .dataframe tbody tr th:only-of-type {\n",
       "        vertical-align: middle;\n",
       "    }\n",
       "\n",
       "    .dataframe tbody tr th {\n",
       "        vertical-align: top;\n",
       "    }\n",
       "\n",
       "    .dataframe thead th {\n",
       "        text-align: right;\n",
       "    }\n",
       "</style>\n",
       "<table border=\"1\" class=\"dataframe\">\n",
       "  <thead>\n",
       "    <tr style=\"text-align: right;\">\n",
       "      <th></th>\n",
       "      <th>I</th>\n",
       "      <th>SLANGE</th>\n",
       "      <th>CROSS</th>\n",
       "      <th>E1</th>\n",
       "      <th>E2</th>\n",
       "      <th>E3</th>\n",
       "      <th>Energy</th>\n",
       "      <th>FORCE</th>\n",
       "      <th>CUTOFF</th>\n",
       "      <th>CONFIG</th>\n",
       "    </tr>\n",
       "  </thead>\n",
       "  <tbody>\n",
       "    <tr>\n",
       "      <th>0</th>\n",
       "      <td>1</td>\n",
       "      <td>0.5</td>\n",
       "      <td>7.799000e-07</td>\n",
       "      <td>39.236</td>\n",
       "      <td>0.132</td>\n",
       "      <td>52.914</td>\n",
       "      <td>100.0</td>\n",
       "      <td>N4LO</td>\n",
       "      <td>400</td>\n",
       "      <td>105_135_105_45</td>\n",
       "    </tr>\n",
       "    <tr>\n",
       "      <th>1</th>\n",
       "      <td>1</td>\n",
       "      <td>0.5</td>\n",
       "      <td>3.466000e-06</td>\n",
       "      <td>61.321</td>\n",
       "      <td>0.167</td>\n",
       "      <td>30.794</td>\n",
       "      <td>100.0</td>\n",
       "      <td>N4LO+</td>\n",
       "      <td>450</td>\n",
       "      <td>15_135_105_45</td>\n",
       "    </tr>\n",
       "    <tr>\n",
       "      <th>2</th>\n",
       "      <td>1</td>\n",
       "      <td>0.5</td>\n",
       "      <td>9.631000e-09</td>\n",
       "      <td>33.469</td>\n",
       "      <td>0.006</td>\n",
       "      <td>58.807</td>\n",
       "      <td>100.0</td>\n",
       "      <td>N4LO+</td>\n",
       "      <td>550</td>\n",
       "      <td>135_75_135_105</td>\n",
       "    </tr>\n",
       "    <tr>\n",
       "      <th>3</th>\n",
       "      <td>1</td>\n",
       "      <td>0.5</td>\n",
       "      <td>1.368000e-08</td>\n",
       "      <td>33.469</td>\n",
       "      <td>0.008</td>\n",
       "      <td>58.805</td>\n",
       "      <td>100.0</td>\n",
       "      <td>N4LO+</td>\n",
       "      <td>550</td>\n",
       "      <td>135_135_165_45</td>\n",
       "    </tr>\n",
       "    <tr>\n",
       "      <th>4</th>\n",
       "      <td>1</td>\n",
       "      <td>0.5</td>\n",
       "      <td>2.553000e-08</td>\n",
       "      <td>34.469</td>\n",
       "      <td>0.013</td>\n",
       "      <td>57.800</td>\n",
       "      <td>100.0</td>\n",
       "      <td>N4LO</td>\n",
       "      <td>450</td>\n",
       "      <td>135_15_75_165</td>\n",
       "    </tr>\n",
       "  </tbody>\n",
       "</table>\n",
       "</div>"
      ],
      "text/plain": [
       "   I  SLANGE         CROSS      E1     E2      E3  Energy  FORCE  CUTOFF  \\\n",
       "0  1     0.5  7.799000e-07  39.236  0.132  52.914   100.0   N4LO     400   \n",
       "1  1     0.5  3.466000e-06  61.321  0.167  30.794   100.0  N4LO+     450   \n",
       "2  1     0.5  9.631000e-09  33.469  0.006  58.807   100.0  N4LO+     550   \n",
       "3  1     0.5  1.368000e-08  33.469  0.008  58.805   100.0  N4LO+     550   \n",
       "4  1     0.5  2.553000e-08  34.469  0.013  57.800   100.0   N4LO     450   \n",
       "\n",
       "           CONFIG  \n",
       "0  105_135_105_45  \n",
       "1   15_135_105_45  \n",
       "2  135_75_135_105  \n",
       "3  135_135_165_45  \n",
       "4   135_15_75_165  "
      ]
     },
     "execution_count": 6,
     "metadata": {},
     "output_type": "execute_result"
    }
   ],
   "source": [
    "df.head()"
   ]
  },
  {
   "cell_type": "code",
   "execution_count": 7,
   "id": "e5545e86",
   "metadata": {},
   "outputs": [
    {
     "data": {
      "text/plain": [
       "'105_135_105_45'"
      ]
     },
     "execution_count": 7,
     "metadata": {},
     "output_type": "execute_result"
    }
   ],
   "source": [
    "configs = df[\"CONFIG\"].unique()\n",
    "configs[0]"
   ]
  },
  {
   "cell_type": "code",
   "execution_count": 52,
   "id": "b9ebf05f",
   "metadata": {},
   "outputs": [],
   "source": [
    "df1 = df[df[\"CONFIG\"] == \"15_105_15_75\"]\n",
    "df3 = df_3NF[df_3NF[\"CONFIG\"] == \"15_105_15_75\"]"
   ]
  },
  {
   "cell_type": "code",
   "execution_count": 53,
   "id": "aba86044",
   "metadata": {},
   "outputs": [
    {
     "data": {
      "application/vnd.jupyter.widget-view+json": {
       "model_id": "e8d0136c9dc94cac9af6864e35eefa50",
       "version_major": 2,
       "version_minor": 0
      },
      "image/png": "[encoded data removed]",
      "text/html": [
       "\n",
       "            <div style=\"display: inline-block;\">\n",
       "                <div class=\"jupyter-widgets widget-label\" style=\"text-align: center;\">\n",
       "                    Figure\n",
       "                </div>\n",
       "                <img src='data:image/png;base64,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' width=600.0/>\n",
       "            </div>\n",
       "        "
      ],
      "text/plain": [
       "Canvas(toolbar=Toolbar(toolitems=[('Home', 'Reset original view', 'home', 'home'), ('Back', 'Back to previous …"
      ]
     },
     "metadata": {},
     "output_type": "display_data"
    }
   ],
   "source": [
    "fig = plt.figure(figsize=(6, 2.8))\n",
    "gs = fig.add_gridspec(ncols=2, wspace=0)\n",
    "axes = gs.subplots(sharey=True)\n",
    "fig.suptitle(\"$\\\\theta_1$ = {}$^\\circ$,\"\n",
    "             \"$\\\\phi_1$ = {}$^\\circ$,\"\n",
    "             \"$\\\\theta_2$ = {}$^\\circ$,\"\n",
    "             \"$\\\\phi_2$ = {}$^\\circ$\".format(*df1[\"CONFIG\"].values[0].split(\"_\")))\n",
    "# fig.supylabel(\"d\\sigma\", x=0.03, y=0.6, size=12)\n",
    "fig.supylabel(\"$d^5\\sigma/d\\Omega _1 d\\Omega _2$ dS [$\\mu$ b sr$^{-2}$ MeV$^{-1}$]\", size=8)\n",
    "fig.supxlabel(\"S [MeV]\", size=8, y=0.06)\n",
    "\n",
    "for force in FORCES:\n",
    "    df_tmp =  df1[(df1[\"CUTOFF\"]==450)\n",
    "                   & (df1[\"FORCE\"] == force) ]\n",
    "    axes[0].plot(df_tmp[\"SLANGE\"], df_tmp[\"CROSS\"], **line_styles[force], label=force)\n",
    "df_tmp =  df3[(df3[\"CUTOFF\"]==450)\n",
    "                   & (df3[\"FORCE\"] == \"N4LO+\") ]\n",
    "axes[0].plot(df_tmp[\"SLANGE\"], df_tmp[\"CROSS\"], **line_styles[\"AV18\"])\n",
    "axes[1].plot(df_tmp[\"SLANGE\"], df_tmp[\"CROSS\"], **line_styles[\"AV18\"], label=\"3NF\")\n",
    "for cut in CUTOFF:\n",
    "    df_tmp =  df1[(df1[\"CUTOFF\"]==cut)\n",
    "                   & (df1[\"FORCE\"] == \"N4LO+\") ]\n",
    "    axes[1].plot(df_tmp[\"SLANGE\"], df_tmp[\"CROSS\"], **ls_cutoff[cut], label=cut)\n",
    "for j, ax in enumerate(axes):\n",
    "    ax.tick_params(which='minor', direction='in', length=4,\n",
    "                   width=0.5, top=True, right=True)\n",
    "    ax.tick_params(which='major', direction='in',\n",
    "                   length=7, width=1, top=True, right=True, zorder=1)\n",
    "    ax.set_ylim([0, df1[(df1[\"CUTOFF\"]==450)\n",
    "                   & (df1[\"FORCE\"] == \"NLO\")][\"CROSS\"].max()*1.1])\n",
    "    ax.grid(alpha=0.2)\n",
    "    ax.set_zorder(-1)\n",
    "    ax.legend(fontsize=6, handlelength=3)\n",
    "plt.tight_layout()\n",
    "plt.savefig(f\"Figures_HE/CROSS_excl_100mev_{df1.CONFIG.values[0]}.pdf\", dpi=300, facecolor=\"white\")"
   ]
  },
  {
   "cell_type": "code",
   "execution_count": 8,
   "id": "00bb612d",
   "metadata": {},
   "outputs": [
    {
     "ename": "NameError",
     "evalue": "name 'df1' is not defined",
     "output_type": "error",
     "traceback": [
      "\u001b[0;31m---------------------------------------------------------------------------\u001b[0m",
      "\u001b[0;31mNameError\u001b[0m                                 Traceback (most recent call last)",
      "\u001b[1;32m/home/vitalii/Jagielllonian_work/THESIS/thesis/PlotData/figures_He_configuration.ipynb Cell 12\u001b[0m in \u001b[0;36m<cell line: 1>\u001b[0;34m()\u001b[0m\n\u001b[0;32m----> <a href='vscode-notebook-cell:/home/vitalii/Jagielllonian_work/THESIS/thesis/PlotData/figures_He_configuration.ipynb#X24sZmlsZQ%3D%3D?line=0'>1</a>\u001b[0m df_tmp \u001b[39m=\u001b[39m  df1[(df1[\u001b[39m\"\u001b[39m\u001b[39mFORCE\u001b[39m\u001b[39m\"\u001b[39m]\u001b[39m==\u001b[39m\u001b[39m\"\u001b[39m\u001b[39mN4LO+\u001b[39m\u001b[39m\"\u001b[39m)]\n",
      "\u001b[0;31mNameError\u001b[0m: name 'df1' is not defined"
     ]
    }
   ],
   "source": [
    "df_tmp =  df1[(df1[\"FORCE\"]==\"N4LO+\")]"
   ]
  },
  {
   "cell_type": "code",
   "execution_count": 40,
   "id": "bc292549",
   "metadata": {},
   "outputs": [
    {
     "data": {
      "text/html": [
       "<div>\n",
       "<style scoped>\n",
       "    .dataframe tbody tr th:only-of-type {\n",
       "        vertical-align: middle;\n",
       "    }\n",
       "\n",
       "    .dataframe tbody tr th {\n",
       "        vertical-align: top;\n",
       "    }\n",
       "\n",
       "    .dataframe thead th {\n",
       "        text-align: right;\n",
       "    }\n",
       "</style>\n",
       "<table border=\"1\" class=\"dataframe\">\n",
       "  <thead>\n",
       "    <tr style=\"text-align: right;\">\n",
       "      <th></th>\n",
       "      <th>I</th>\n",
       "      <th>SLANGE</th>\n",
       "      <th>CROSS</th>\n",
       "      <th>E1</th>\n",
       "      <th>E2</th>\n",
       "      <th>E3</th>\n",
       "      <th>Energy</th>\n",
       "      <th>FORCE</th>\n",
       "      <th>CUTOFF</th>\n",
       "      <th>CONFIG</th>\n",
       "    </tr>\n",
       "  </thead>\n",
       "  <tbody>\n",
       "    <tr>\n",
       "      <th>158</th>\n",
       "      <td>1</td>\n",
       "      <td>0.500</td>\n",
       "      <td>2.520000e-08</td>\n",
       "      <td>34.469</td>\n",
       "      <td>0.013</td>\n",
       "      <td>57.800</td>\n",
       "      <td>100.0</td>\n",
       "      <td>N4LO</td>\n",
       "      <td>450</td>\n",
       "      <td>135_15_75_165</td>\n",
       "    </tr>\n",
       "    <tr>\n",
       "      <th>374</th>\n",
       "      <td>1</td>\n",
       "      <td>0.500</td>\n",
       "      <td>2.471000e-08</td>\n",
       "      <td>34.469</td>\n",
       "      <td>0.013</td>\n",
       "      <td>57.800</td>\n",
       "      <td>100.0</td>\n",
       "      <td>N2LO</td>\n",
       "      <td>450</td>\n",
       "      <td>135_15_75_165</td>\n",
       "    </tr>\n",
       "    <tr>\n",
       "      <th>418</th>\n",
       "      <td>1</td>\n",
       "      <td>0.500</td>\n",
       "      <td>2.564000e-08</td>\n",
       "      <td>34.469</td>\n",
       "      <td>0.013</td>\n",
       "      <td>57.800</td>\n",
       "      <td>100.0</td>\n",
       "      <td>N3LO</td>\n",
       "      <td>450</td>\n",
       "      <td>135_15_75_165</td>\n",
       "    </tr>\n",
       "    <tr>\n",
       "      <th>443</th>\n",
       "      <td>1</td>\n",
       "      <td>0.500</td>\n",
       "      <td>2.520000e-08</td>\n",
       "      <td>34.469</td>\n",
       "      <td>0.013</td>\n",
       "      <td>57.800</td>\n",
       "      <td>100.0</td>\n",
       "      <td>N4LO+</td>\n",
       "      <td>450</td>\n",
       "      <td>135_15_75_165</td>\n",
       "    </tr>\n",
       "    <tr>\n",
       "      <th>6383</th>\n",
       "      <td>2</td>\n",
       "      <td>1.005</td>\n",
       "      <td>1.063000e-07</td>\n",
       "      <td>34.972</td>\n",
       "      <td>0.053</td>\n",
       "      <td>57.257</td>\n",
       "      <td>100.0</td>\n",
       "      <td>N4LO</td>\n",
       "      <td>450</td>\n",
       "      <td>135_15_75_165</td>\n",
       "    </tr>\n",
       "    <tr>\n",
       "      <th>...</th>\n",
       "      <td>...</td>\n",
       "      <td>...</td>\n",
       "      <td>...</td>\n",
       "      <td>...</td>\n",
       "      <td>...</td>\n",
       "      <td>...</td>\n",
       "      <td>...</td>\n",
       "      <td>...</td>\n",
       "      <td>...</td>\n",
       "      <td>...</td>\n",
       "    </tr>\n",
       "    <tr>\n",
       "      <th>469805</th>\n",
       "      <td>155</td>\n",
       "      <td>77.503</td>\n",
       "      <td>2.744000e-07</td>\n",
       "      <td>0.061</td>\n",
       "      <td>48.503</td>\n",
       "      <td>43.718</td>\n",
       "      <td>100.0</td>\n",
       "      <td>N4LO+</td>\n",
       "      <td>450</td>\n",
       "      <td>135_15_75_165</td>\n",
       "    </tr>\n",
       "    <tr>\n",
       "      <th>470633</th>\n",
       "      <td>156</td>\n",
       "      <td>78.000</td>\n",
       "      <td>5.232000e-08</td>\n",
       "      <td>0.012</td>\n",
       "      <td>48.009</td>\n",
       "      <td>44.261</td>\n",
       "      <td>100.0</td>\n",
       "      <td>N2LO</td>\n",
       "      <td>450</td>\n",
       "      <td>135_15_75_165</td>\n",
       "    </tr>\n",
       "    <tr>\n",
       "      <th>470636</th>\n",
       "      <td>156</td>\n",
       "      <td>78.000</td>\n",
       "      <td>5.428000e-08</td>\n",
       "      <td>0.012</td>\n",
       "      <td>48.009</td>\n",
       "      <td>44.261</td>\n",
       "      <td>100.0</td>\n",
       "      <td>N3LO</td>\n",
       "      <td>450</td>\n",
       "      <td>135_15_75_165</td>\n",
       "    </tr>\n",
       "    <tr>\n",
       "      <th>470649</th>\n",
       "      <td>156</td>\n",
       "      <td>78.000</td>\n",
       "      <td>5.276000e-08</td>\n",
       "      <td>0.012</td>\n",
       "      <td>48.009</td>\n",
       "      <td>44.261</td>\n",
       "      <td>100.0</td>\n",
       "      <td>N4LO+</td>\n",
       "      <td>450</td>\n",
       "      <td>135_15_75_165</td>\n",
       "    </tr>\n",
       "    <tr>\n",
       "      <th>470732</th>\n",
       "      <td>156</td>\n",
       "      <td>78.000</td>\n",
       "      <td>5.293000e-08</td>\n",
       "      <td>0.012</td>\n",
       "      <td>48.009</td>\n",
       "      <td>44.261</td>\n",
       "      <td>100.0</td>\n",
       "      <td>N4LO</td>\n",
       "      <td>450</td>\n",
       "      <td>135_15_75_165</td>\n",
       "    </tr>\n",
       "  </tbody>\n",
       "</table>\n",
       "<p>624 rows × 10 columns</p>\n",
       "</div>"
      ],
      "text/plain": [
       "          I  SLANGE         CROSS      E1      E2      E3  Energy  FORCE  \\\n",
       "158       1   0.500  2.520000e-08  34.469   0.013  57.800   100.0   N4LO   \n",
       "374       1   0.500  2.471000e-08  34.469   0.013  57.800   100.0   N2LO   \n",
       "418       1   0.500  2.564000e-08  34.469   0.013  57.800   100.0   N3LO   \n",
       "443       1   0.500  2.520000e-08  34.469   0.013  57.800   100.0  N4LO+   \n",
       "6383      2   1.005  1.063000e-07  34.972   0.053  57.257   100.0   N4LO   \n",
       "...     ...     ...           ...     ...     ...     ...     ...    ...   \n",
       "469805  155  77.503  2.744000e-07   0.061  48.503  43.718   100.0  N4LO+   \n",
       "470633  156  78.000  5.232000e-08   0.012  48.009  44.261   100.0   N2LO   \n",
       "470636  156  78.000  5.428000e-08   0.012  48.009  44.261   100.0   N3LO   \n",
       "470649  156  78.000  5.276000e-08   0.012  48.009  44.261   100.0  N4LO+   \n",
       "470732  156  78.000  5.293000e-08   0.012  48.009  44.261   100.0   N4LO   \n",
       "\n",
       "        CUTOFF         CONFIG  \n",
       "158        450  135_15_75_165  \n",
       "374        450  135_15_75_165  \n",
       "418        450  135_15_75_165  \n",
       "443        450  135_15_75_165  \n",
       "6383       450  135_15_75_165  \n",
       "...        ...            ...  \n",
       "469805     450  135_15_75_165  \n",
       "470633     450  135_15_75_165  \n",
       "470636     450  135_15_75_165  \n",
       "470649     450  135_15_75_165  \n",
       "470732     450  135_15_75_165  \n",
       "\n",
       "[624 rows x 10 columns]"
      ]
     },
     "execution_count": 40,
     "metadata": {},
     "output_type": "execute_result"
    }
   ],
   "source": [
    "df_tmp"
   ]
  },
  {
   "cell_type": "code",
   "execution_count": 9,
   "id": "9632f307",
   "metadata": {},
   "outputs": [],
   "source": [
    "df_g = df.groupby([\"CONFIG\", \"SLANGE\"])[\"CROSS\"].agg([\"min\", \"max\", \"std\"])"
   ]
  },
  {
   "cell_type": "code",
   "execution_count": 48,
   "id": "5ac97e2c",
   "metadata": {},
   "outputs": [
    {
     "data": {
      "text/plain": [
       "CONFIG\n",
       "165_165_15_15    0.000010\n",
       "165_15_15_165    0.000010\n",
       "15_15_165_165    0.000010\n",
       "15_165_165_15    0.000010\n",
       "45_75_45_105     0.000008\n",
       "45_105_45_75     0.000008\n",
       "75_75_75_105     0.000007\n",
       "75_105_75_75     0.000007\n",
       "15_105_15_75     0.000006\n",
       "15_75_15_105     0.000006\n",
       "dtype: float64"
      ]
     },
     "execution_count": 48,
     "metadata": {},
     "output_type": "execute_result"
    }
   ],
   "source": [
    "(df_g[\"max\"] - df_g[\"min\"]).groupby(level=[0]).max().sort_values(ascending=False)[:10]"
   ]
  },
  {
   "cell_type": "code",
   "execution_count": 11,
   "id": "8c39b62e",
   "metadata": {},
   "outputs": [
    {
     "data": {
      "text/plain": [
       "CONFIG\n",
       "45_75_45_105      0.000129\n",
       "45_105_45_75      0.000129\n",
       "165_165_15_15     0.000111\n",
       "165_15_15_165     0.000111\n",
       "15_15_165_165     0.000111\n",
       "                    ...   \n",
       "165_135_165_45    0.000008\n",
       "135_45_165_135    0.000008\n",
       "135_135_165_45    0.000008\n",
       "165_45_135_135    0.000008\n",
       "165_135_135_45    0.000008\n",
       "Name: std, Length: 216, dtype: float64"
      ]
     },
     "execution_count": 11,
     "metadata": {},
     "output_type": "execute_result"
    }
   ],
   "source": [
    "df_g.groupby(level=[0])[\"std\"].sum().sort_values(ascending=False)"
   ]
  },
  {
   "cell_type": "code",
   "execution_count": null,
   "id": "9ac7b07d",
   "metadata": {},
   "outputs": [],
   "source": []
  }
 ],
 "metadata": {
  "kernelspec": {
   "display_name": "Python 3.10.4 ('datascience3')",
   "language": "python",
   "name": "python3"
  },
  "language_info": {
   "codemirror_mode": {
    "name": "ipython",
    "version": 3
   },
   "file_extension": ".py",
   "mimetype": "text/x-python",
   "name": "python",
   "nbconvert_exporter": "python",
   "pygments_lexer": "ipython3",
   "version": "3.10.4"
  },
  "vscode": {
   "interpreter": {
    "hash": "6bb6b4164d3fb6d0b804cc8726b94f352ebf3683b5da0ec2dd00e5074fb65225"
   }
  }
 },
 "nbformat": 4,
 "nbformat_minor": 5
}
