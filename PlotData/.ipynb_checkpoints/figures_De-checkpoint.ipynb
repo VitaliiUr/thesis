{
 "cells": [
  {
   "cell_type": "code",
   "execution_count": 155,
   "id": "0cef585e-9cbf-4980-8def-f490533a2f29",
   "metadata": {},
   "outputs": [],
   "source": [
    "import numpy as np\n",
    "import matplotlib.pyplot as plt\n",
    "import pandas as pd\n",
    "import os\n",
    "import seaborn as sns"
   ]
  },
  {
   "cell_type": "code",
   "execution_count": 30,
   "id": "c1027670-3d0a-4331-b0ee-99392ee66793",
   "metadata": {},
   "outputs": [],
   "source": [
    "src = \"Deuteron/data/\""
   ]
  },
  {
   "cell_type": "code",
   "execution_count": 215,
   "id": "aeb7a09d-932c-488c-bda2-d3526df1e4be",
   "metadata": {},
   "outputs": [],
   "source": [
    "data100 = [f for f in os.listdir(src) if f.endswith(\"100mev\") and \"av18\" not in f]\n",
    "data30 = [f for f in os.listdir(src) if f.endswith(\"30mev\") and \"av18\" not in f]\n",
    "data140 = [f for f in os.listdir(src) if f.endswith(\"140mev\") and \"av18\" not in f]"
   ]
  },
  {
   "cell_type": "code",
   "execution_count": 101,
   "id": "785d11c7-da30-4fc8-a720-3599e218dbb9",
   "metadata": {},
   "outputs": [],
   "source": [
    "forces = [\"LO\", \"NLO\", \"N2LO\", \"N3LO\", \"N4LO\", \"N4LO+\"]\n",
    "def read_data(fname):\n",
    "    add = 0\n",
    "    skpfoot = 0\n",
    "    if \"dat1\" in fname:\n",
    "        add = 1\n",
    "        skpfoot = 6\n",
    "    with open(src + fname, \"r\") as f:\n",
    "        cols = f.readlines()[0+add]\n",
    "        cols = [c.strip() for c in cols.split(\"#\")[-1].split(\",\")]\n",
    "    df = pd.read_csv(src + fname, skiprows=1+add, delimiter=\" \",\n",
    "                     skipinitialspace=True, skipfooter=skpfoot, engine='python')\n",
    "    df.columns = cols\n",
    "    df[\"angle\"] = (df[\"THCM\"]/np.pi*180).round(2)\n",
    "    df[\"CUTOFF\"] = 350 + 50*int(fname.split(\".\")[3])\n",
    "    ostat = int(fname.split(\".\")[2])\n",
    "    df[\"FORCE\"] = forces[ostat]\n",
    "    return df"
   ]
  },
  {
   "cell_type": "code",
   "execution_count": 217,
   "id": "6d4a64cf-fdda-4583-ab00-09668657b02d",
   "metadata": {},
   "outputs": [],
   "source": [
    "df1 = pd.concat([read_data(fname) for fname in data140 if \"dat1\" in fname])\n",
    "df2 = pd.concat([read_data(fname) for fname in data140 if \"dat2\" in fname])\n",
    "df3 = pd.concat([read_data(fname) for fname in data140 if \"dat3\" in fname])\n",
    "df4 = pd.concat([read_data(fname) for fname in data140 if \"dat4\" in fname])\n",
    "df5 = pd.concat([read_data(fname) for fname in data140 if \"dat5\" in fname])"
   ]
  },
  {
   "cell_type": "code",
   "execution_count": 218,
   "id": "c79d118c-7084-467f-b26a-688f6fb5e804",
   "metadata": {},
   "outputs": [],
   "source": [
    "df = pd.merge(left=df1, right=df2.drop(columns=[\"THCM\"]), on=[\"angle\", \"CUTOFF\", \"FORCE\"])\n",
    "df = pd.merge(left=df, right=df3.drop(columns=[\"THCM\"]), on=[\"angle\", \"CUTOFF\", \"FORCE\"])\n",
    "df = pd.merge(left=df, right=df4.drop(columns=[\"THCM\"]), on=[\"angle\", \"CUTOFF\", \"FORCE\"])\n",
    "df = pd.merge(left=df, right=df5.drop(columns=[\"THCM\"]), on=[\"angle\", \"CUTOFF\", \"FORCE\"])"
   ]
  },
  {
   "cell_type": "code",
   "execution_count": 219,
   "id": "be45c9eb-2144-4a69-a8fe-7d35d982be98",
   "metadata": {},
   "outputs": [],
   "source": [
    "observables = [ob for ob in df.columns.values if ob not in [\"THCM\", \"angle\", \"CUTOFF\", \"FORCE\"]]"
   ]
  },
  {
   "cell_type": "code",
   "execution_count": 223,
   "id": "27043d61-c6c1-43f3-b423-2d1570307d1e",
   "metadata": {},
   "outputs": [
    {
     "name": "stdout",
     "output_type": "stream",
     "text": [
      "CROSS\n",
      "CROSS2\n",
      "P1\n",
      "P2\n",
      "PHIP\n",
      "T11D\n",
      "T20D\n",
      "T21D\n",
      "T22D\n",
      "T11D2\n",
      "T20D2\n",
      "T21D2\n",
      "T22D2\n",
      "AX\n",
      "AY\n",
      "AZ\n",
      "AX2\n",
      "AY2\n",
      "AZ2\n",
      "POLNOUT(y)\n",
      "POLNOUT2(y)\n",
      "CROSSCAP\n",
      "CROSSCAP2\n",
      "AYN1CAP\n",
      "AYN1CAP2\n"
     ]
    }
   ],
   "source": [
    "for obs in observables:\n",
    "    print(obs)\n",
    "    fig, axes = plt.subplots(1,2, figsize=(12,5))\n",
    "    sns.lineplot(x=\"angle\", y = obs, data = df[df[\"CUTOFF\"]==450], hue=\"FORCE\", hue_order=forces, ax=axes[0])\n",
    "    sns.lineplot(x=\"angle\", y = obs, data = df[df[\"FORCE\"]==\"N4LO\"], hue=\"CUTOFF\", hue_order=forces, ax=axes[1])\n",
    "    # axes[0].text(3+0.2, 4.5, \"CUTOFF = 450\", horizontalalignment='left', size='medium', color='black', weight='semibold')\n",
    "    # axes[1].text(3+0.2, 4.5, \"N4LO\", horizontalalignment='left', size='medium', color='black', weight='semibold')\n",
    "    axes[0].grid()\n",
    "    axes[1].grid()\n",
    "    axes[0].set_xlim([0,180])\n",
    "    axes[1].set_xlim([0,180])\n",
    "    plt.tight_layout()\n",
    "    plt.savefig(f\"{obs}_140mev.pdf\", dpi=300, facecolor=\"white\")\n",
    "    plt.close()\n",
    "    # plt.show()"
   ]
  },
  {
   "cell_type": "code",
   "execution_count": null,
   "id": "4c1595aa-753b-4a99-a947-a5a794b96e51",
   "metadata": {},
   "outputs": [],
   "source": []
  }
 ],
 "metadata": {
  "kernelspec": {
   "display_name": "Python 3",
   "language": "python",
   "name": "python3"
  },
  "language_info": {
   "codemirror_mode": {
    "name": "ipython",
    "version": 3
   },
   "file_extension": ".py",
   "mimetype": "text/x-python",
   "name": "python",
   "nbconvert_exporter": "python",
   "pygments_lexer": "ipython3",
   "version": "3.9.7"
  }
 },
 "nbformat": 4,
 "nbformat_minor": 5
}
