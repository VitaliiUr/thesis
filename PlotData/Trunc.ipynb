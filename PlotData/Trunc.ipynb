{
 "cells": [
  {
   "cell_type": "code",
   "execution_count": 252,
   "metadata": {},
   "outputs": [],
   "source": [
    "%matplotlib widget"
   ]
  },
  {
   "cell_type": "code",
   "execution_count": 2,
   "metadata": {},
   "outputs": [],
   "source": [
    "import numpy as np\n",
    "import matplotlib.pyplot as plt\n",
    "import matplotlib as mpl\n",
    "import pandas as pd\n",
    "from tqdm import tqdm\n",
    "from scipy.integrate import simpson\n",
    "\n",
    "\n",
    "FORCES = [\"LO\", \"NLO\", \"N2LO\", \"N3LO\", \"N4LO\", \"N4LO+\"]\n",
    "CUTOFF = [400, 450, 500, 550]\n",
    "\n",
    "\n",
    "df_my = pd.read_csv(\"Deuteron/deuteron_all_data.csv\")\n",
    "df_my.T21D2 *= 2\n",
    "df_my.T22D2 *= 2\n",
    "df_my.T21D *= 2\n",
    "df_my.T22D *= 2\n",
    "df_my.AX *= -1\n",
    "df_my.AX2 *= -1\n",
    "df_exp = pd.read_csv(\"./Deuteron/deuteron_exp_diffcross.csv\")\n",
    "df_exp_tot = pd.read_csv(\"./Deuteron/deuteron_exp_totcross.csv\")\n",
    "\n",
    "OBSERVABLES = [ob for ob in df_my.columns.values if ob not in [\n",
    "    \"THCM\", \"angle\", \"CUTOFF\", \"FORCE\"]]\n",
    "\n",
    "my_energies = df_my.Energy.unique()\n",
    "my_energies.sort()"
   ]
  },
  {
   "cell_type": "code",
   "execution_count": 540,
   "metadata": {},
   "outputs": [],
   "source": [
    "en = 100\n",
    "cutoff = 450\n",
    "# P0 = 0.81486650255301551\n",
    "P0 = 1.5144321281060260\n",
    "ICUT=2\n",
    "LAMBDA = [0.6, 0.6, 0.6, 0.5, 0.4]\n",
    "EPSILON = P0*197.33/1000./LAMBDA[ICUT]"
   ]
  },
  {
   "cell_type": "code",
   "execution_count": 498,
   "metadata": {},
   "outputs": [
    {
     "data": {
      "text/plain": [
       "0.35732258257593125"
      ]
     },
     "execution_count": 498,
     "metadata": {},
     "output_type": "execute_result"
    }
   ],
   "source": [
    "# P0MEV[-1]/450"
   ]
  },
  {
   "cell_type": "code",
   "execution_count": 541,
   "metadata": {},
   "outputs": [],
   "source": [
    "FMM1=197.327\n",
    "MN=939.5653\n",
    "MP=938.2720\n",
    "MM=2.0*MP*MN/(MP+MN)\n",
    "EBDEUTALL = np.array([-2.1189454304609652, -2.1830488263808228,\n",
    "             -2.1998863525318981, -2.2232629900695660,\n",
    "             -2.2232629164870863, -2.2232628519800381])\n",
    "ELABNN = en-np.abs(EBDEUTALL)\n",
    "ECMNN=ELABNN-en**2/(4.0*MM)\n",
    "P0MEV=np.sqrt(ECMNN*MM)"
   ]
  },
  {
   "cell_type": "code",
   "execution_count": 554,
   "metadata": {},
   "outputs": [
    {
     "data": {
      "text/plain": [
       "0.49807148639860355"
      ]
     },
     "execution_count": 554,
     "metadata": {},
     "output_type": "execute_result"
    }
   ],
   "source": [
    "EPSILON"
   ]
  },
  {
   "cell_type": "code",
   "execution_count": 566,
   "metadata": {},
   "outputs": [],
   "source": [
    "EPSILON = max([P0*197.33/1000/0.6, 0.138/0.6])\n"
   ]
  },
  {
   "cell_type": "code",
   "execution_count": 593,
   "metadata": {},
   "outputs": [],
   "source": [
    "# EPSILON = max([P0MEV[-1]/cutoff, 0.138/1000/cutoff])\n",
    "EPSILON = max([P0MEV[-1]/600, 0.138/1000/600])\n"
   ]
  },
  {
   "cell_type": "code",
   "execution_count": 527,
   "metadata": {},
   "outputs": [
    {
     "name": "stderr",
     "output_type": "stream",
     "text": [
      "/home/vitalii/anaconda3/envs/experimental/lib/python3.9/site-packages/pandas/util/_decorators.py:311: SettingWithCopyWarning: \n",
      "A value is trying to be set on a copy of a slice from a DataFrame\n",
      "\n",
      "See the caveats in the documentation: https://pandas.pydata.org/pandas-docs/stable/user_guide/indexing.html#returning-a-view-versus-a-copy\n",
      "  return func(*args, **kwargs)\n"
     ]
    }
   ],
   "source": [
    "df_tmp = df_my[(df_my.CUTOFF == 450) &\n",
    "                (df_my.Energy == en) &\n",
    "                # (df_my.FORCE.isin(FORCES[:-1])) &\n",
    "                (df_my.WAVE == \"SIEGERT\")]\n",
    "df_tmp.sort_values(\"angle\", inplace=True)"
   ]
  },
  {
   "cell_type": "code",
   "execution_count": 528,
   "metadata": {},
   "outputs": [],
   "source": [
    "df_piv = df_tmp.pivot(index=\"angle\", columns=\"FORCE\")[\"CROSS2\"]"
   ]
  },
  {
   "cell_type": "code",
   "execution_count": 529,
   "metadata": {},
   "outputs": [],
   "source": [
    "df = pd.read_csv(\n",
    "    \"/home/vitalii/Jagiellonian_work/Deuteron/DEUTERON_PHOTODISINTEGRATION/ThruncationErrorsMy/Thruncs_VU100MeV_2022.dat\",\n",
    "    header=None, delim_whitespace=True)\n"
   ]
  },
  {
   "cell_type": "code",
   "execution_count": 594,
   "metadata": {},
   "outputs": [],
   "source": [
    "df_diff = pd.DataFrame(columns=FORCES)"
   ]
  },
  {
   "cell_type": "code",
   "execution_count": 595,
   "metadata": {},
   "outputs": [],
   "source": [
    "orders = np.arange(6)\n",
    "orders[1:] += 1"
   ]
  },
  {
   "cell_type": "code",
   "execution_count": 596,
   "metadata": {},
   "outputs": [
    {
     "name": "stdout",
     "output_type": "stream",
     "text": [
      "0 LO\n",
      "2 NLO\n",
      "3 N2LO\n",
      "4 N3LO\n",
      "5 N4LO\n",
      "6 N4LO+\n"
     ]
    }
   ],
   "source": [
    "for i, (order, force) in enumerate(zip(orders, FORCES)):\n",
    "    maxdiff = df_piv[FORCES[i:]].max(axis=1) - df_piv[FORCES[i:]].min(axis=1)\n",
    "    base = df_piv[\"LO\"]*EPSILON**(order+1+int(order==0))\n",
    "    diff = []\n",
    "    maxdiff2 = []\n",
    "    for j in range(2, order+1):\n",
    "        diff.append((df_piv[FORCES[np.where(orders == j)[0][0]]] -\n",
    "                     df_piv[FORCES[np.where(orders == j)[0][0]-1]])*EPSILON**(order+1-j))\n",
    "    for j in range(i):\n",
    "        maxdiff2.append(df_diff[FORCES[j]]*EPSILON**(i-j))\n",
    "    print(order, force)\n",
    "    df_diff[force] = np.max((base, maxdiff, *diff, *maxdiff2), axis=0)"
   ]
  },
  {
   "cell_type": "code",
   "execution_count": 586,
   "metadata": {},
   "outputs": [],
   "source": [
    "from truncation import get_truncation"
   ]
  },
  {
   "cell_type": "code",
   "execution_count": 587,
   "metadata": {},
   "outputs": [
    {
     "name": "stderr",
     "output_type": "stream",
     "text": [
      "/home/vitalii/anaconda3/envs/experimental/lib/python3.9/site-packages/pandas/util/_decorators.py:311: SettingWithCopyWarning: \n",
      "A value is trying to be set on a copy of a slice from a DataFrame\n",
      "\n",
      "See the caveats in the documentation: https://pandas.pydata.org/pandas-docs/stable/user_guide/indexing.html#returning-a-view-versus-a-copy\n",
      "  return func(*args, **kwargs)\n"
     ]
    }
   ],
   "source": [
    "df_trunc = get_truncation(df_my, 100)"
   ]
  },
  {
   "cell_type": "code",
   "execution_count": 537,
   "metadata": {},
   "outputs": [],
   "source": [
    "plt.close(\"all\")"
   ]
  },
  {
   "cell_type": "code",
   "execution_count": 592,
   "metadata": {},
   "outputs": [
    {
     "data": {
      "text/html": [
       "<div>\n",
       "<style scoped>\n",
       "    .dataframe tbody tr th:only-of-type {\n",
       "        vertical-align: middle;\n",
       "    }\n",
       "\n",
       "    .dataframe tbody tr th {\n",
       "        vertical-align: top;\n",
       "    }\n",
       "\n",
       "    .dataframe thead th {\n",
       "        text-align: right;\n",
       "    }\n",
       "</style>\n",
       "<table border=\"1\" class=\"dataframe\">\n",
       "  <thead>\n",
       "    <tr style=\"text-align: right;\">\n",
       "      <th></th>\n",
       "      <th>LO</th>\n",
       "      <th>NLO</th>\n",
       "      <th>N2LO</th>\n",
       "      <th>N3LO</th>\n",
       "      <th>N4LO</th>\n",
       "      <th>N4LO+</th>\n",
       "    </tr>\n",
       "  </thead>\n",
       "  <tbody>\n",
       "    <tr>\n",
       "      <th>0</th>\n",
       "      <td>2.035</td>\n",
       "      <td>1.013560</td>\n",
       "      <td>0.504818</td>\n",
       "      <td>0.251431</td>\n",
       "      <td>0.125229</td>\n",
       "      <td>0.062372</td>\n",
       "    </tr>\n",
       "    <tr>\n",
       "      <th>1</th>\n",
       "      <td>2.035</td>\n",
       "      <td>1.013560</td>\n",
       "      <td>0.504818</td>\n",
       "      <td>0.251431</td>\n",
       "      <td>0.125229</td>\n",
       "      <td>0.062372</td>\n",
       "    </tr>\n",
       "    <tr>\n",
       "      <th>2</th>\n",
       "      <td>2.032</td>\n",
       "      <td>1.012066</td>\n",
       "      <td>0.504073</td>\n",
       "      <td>0.251061</td>\n",
       "      <td>0.125044</td>\n",
       "      <td>0.062280</td>\n",
       "    </tr>\n",
       "    <tr>\n",
       "      <th>3</th>\n",
       "      <td>2.028</td>\n",
       "      <td>1.010074</td>\n",
       "      <td>0.503081</td>\n",
       "      <td>0.250567</td>\n",
       "      <td>0.124798</td>\n",
       "      <td>0.062157</td>\n",
       "    </tr>\n",
       "    <tr>\n",
       "      <th>4</th>\n",
       "      <td>2.023</td>\n",
       "      <td>1.007583</td>\n",
       "      <td>0.501841</td>\n",
       "      <td>0.249949</td>\n",
       "      <td>0.124490</td>\n",
       "      <td>0.062004</td>\n",
       "    </tr>\n",
       "    <tr>\n",
       "      <th>...</th>\n",
       "      <td>...</td>\n",
       "      <td>...</td>\n",
       "      <td>...</td>\n",
       "      <td>...</td>\n",
       "      <td>...</td>\n",
       "      <td>...</td>\n",
       "    </tr>\n",
       "    <tr>\n",
       "      <th>176</th>\n",
       "      <td>1.218</td>\n",
       "      <td>0.606642</td>\n",
       "      <td>0.302146</td>\n",
       "      <td>0.150488</td>\n",
       "      <td>0.074953</td>\n",
       "      <td>0.037331</td>\n",
       "    </tr>\n",
       "    <tr>\n",
       "      <th>177</th>\n",
       "      <td>1.220</td>\n",
       "      <td>0.607638</td>\n",
       "      <td>0.302643</td>\n",
       "      <td>0.150735</td>\n",
       "      <td>0.075076</td>\n",
       "      <td>0.037393</td>\n",
       "    </tr>\n",
       "    <tr>\n",
       "      <th>178</th>\n",
       "      <td>1.221</td>\n",
       "      <td>0.608136</td>\n",
       "      <td>0.302891</td>\n",
       "      <td>0.150859</td>\n",
       "      <td>0.075137</td>\n",
       "      <td>0.037423</td>\n",
       "    </tr>\n",
       "    <tr>\n",
       "      <th>179</th>\n",
       "      <td>1.221</td>\n",
       "      <td>0.608136</td>\n",
       "      <td>0.302891</td>\n",
       "      <td>0.150859</td>\n",
       "      <td>0.075137</td>\n",
       "      <td>0.037423</td>\n",
       "    </tr>\n",
       "    <tr>\n",
       "      <th>180</th>\n",
       "      <td>1.221</td>\n",
       "      <td>0.608136</td>\n",
       "      <td>0.302891</td>\n",
       "      <td>0.150859</td>\n",
       "      <td>0.075137</td>\n",
       "      <td>0.037423</td>\n",
       "    </tr>\n",
       "  </tbody>\n",
       "</table>\n",
       "<p>181 rows × 6 columns</p>\n",
       "</div>"
      ],
      "text/plain": [
       "        LO       NLO      N2LO      N3LO      N4LO     N4LO+\n",
       "0    2.035  1.013560  0.504818  0.251431  0.125229  0.062372\n",
       "1    2.035  1.013560  0.504818  0.251431  0.125229  0.062372\n",
       "2    2.032  1.012066  0.504073  0.251061  0.125044  0.062280\n",
       "3    2.028  1.010074  0.503081  0.250567  0.124798  0.062157\n",
       "4    2.023  1.007583  0.501841  0.249949  0.124490  0.062004\n",
       "..     ...       ...       ...       ...       ...       ...\n",
       "176  1.218  0.606642  0.302146  0.150488  0.074953  0.037331\n",
       "177  1.220  0.607638  0.302643  0.150735  0.075076  0.037393\n",
       "178  1.221  0.608136  0.302891  0.150859  0.075137  0.037423\n",
       "179  1.221  0.608136  0.302891  0.150859  0.075137  0.037423\n",
       "180  1.221  0.608136  0.302891  0.150859  0.075137  0.037423\n",
       "\n",
       "[181 rows x 6 columns]"
      ]
     },
     "execution_count": 592,
     "metadata": {},
     "output_type": "execute_result"
    }
   ],
   "source": [
    "df_trunc"
   ]
  },
  {
   "cell_type": "code",
   "execution_count": 602,
   "metadata": {},
   "outputs": [
    {
     "data": {
      "application/vnd.jupyter.widget-view+json": {
       "model_id": "921d294f4cdf445cb5ccdad03d69d827",
       "version_major": 2,
       "version_minor": 0
      },
      "image/png": "[encoded data removed]",
      "text/html": [
       "\n",
       "            <div style=\"display: inline-block;\">\n",
       "                <div class=\"jupyter-widgets widget-label\" style=\"text-align: center;\">\n",
       "                    Figure\n",
       "                </div>\n",
       "                <img src='data:image/png;base64,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' width=640.0/>\n",
       "            </div>\n",
       "        "
      ],
      "text/plain": [
       "Canvas(toolbar=Toolbar(toolitems=[('Home', 'Reset original view', 'home', 'home'), ('Back', 'Back to previous …"
      ]
     },
     "metadata": {},
     "output_type": "display_data"
    }
   ],
   "source": [
    "plt.figure()\n",
    "plt.plot(df[0], df[2])\n",
    "# plt.plot(df_diff.angle,\n",
    "#          df_tmp[df_tmp.FORCE == \"LO\"][[\"CROSS2\"]].values.flatten())\n",
    "plt.plot(df_diff.index.values,\n",
    "         df_tmp[df_tmp.FORCE == \"N2LO\"][[\"CROSS2\"]].values.flatten()+df_diff[\"N2LO\"].values)\n",
    "# plt.plot(df_trunc.index.values,\n",
    "#          df_tmp[df_tmp.FORCE == \"N4LO\"][[\"CROSS2\"]].values.flatten()+df_trunc[\"N4LO\"].values)\n",
    "# plt.plot(df_trunc.index.values,\n",
    "#          df_tmp[df_tmp.FORCE == \"N4LO\"][[\"CROSS2\"]].values.flatten()-df_trunc[\"N4LO\"].values)\n",
    "# plt.plot(df_diff.index.values,\n",
    "#          df_tmp[df_tmp.FORCE == \"NLO\"][[\"CROSS2\"]].values.flatten()-df_diff[\"NLO\"].values)\n",
    "# plt.plot(df_diff.angle,\n",
    "#          df_tmp[df_tmp.FORCE == \"NLO\"][[\"CROSS2\"]].values.flatten()-trunc_lo)\n",
    "# plt.plot(df_tmp[df_tmp.FORCE == \"LO\"].angle,\n",
    "#          df_tmp[df_tmp.FORCE == \"LO\"][[\"CROSS2\"]]-df_tmp[df_tmp.FORCE == \"LO\"][[\"CROSS2\"]]*EPSILON**2)\n",
    "plt.show()"
   ]
  },
  {
   "cell_type": "code",
   "execution_count": null,
   "metadata": {},
   "outputs": [],
   "source": []
  }
 ],
 "metadata": {
  "kernelspec": {
   "display_name": "Python 3.9.7 ('experimental')",
   "language": "python",
   "name": "python3"
  },
  "language_info": {
   "codemirror_mode": {
    "name": "ipython",
    "version": 3
   },
   "file_extension": ".py",
   "mimetype": "text/x-python",
   "name": "python",
   "nbconvert_exporter": "python",
   "pygments_lexer": "ipython3",
   "version": "3.9.7"
  },
  "orig_nbformat": 4,
  "vscode": {
   "interpreter": {
    "hash": "e8685fb1a58dfb2a5884122045cab1d908b7e1d42aca05cf6477e1a10b010979"
   }
  }
 },
 "nbformat": 4,
 "nbformat_minor": 2
}
